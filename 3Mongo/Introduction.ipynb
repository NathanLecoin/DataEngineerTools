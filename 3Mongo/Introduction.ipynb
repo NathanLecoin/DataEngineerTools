{
 "cells": [
  {
   "cell_type": "markdown",
   "metadata": {},
   "source": [
    "# Introduction "
   ]
  },
  {
   "cell_type": "markdown",
   "metadata": {},
   "source": [
    "MongoDB est une base de données open source codée en C++ basée sur un concept de stockage sous la forme de documents au format JSON. Le grand avantage de ce système est l'optimisation de la mémoire. Dans une base relationelle, chaque colonne doit être définie au préalable avec une empreinte mémoire et un type de donnée. Dans une base MongoDB si le champ n'est pas présent, il n'apparait pas dans un document et n'impacte pas la mémoire, alors qu'en SQL la place mémoire est utilisée même si le champ est absent, pour spécifier que la valeur est null."
   ]
  },
  {
   "cell_type": "markdown",
   "metadata": {},
   "source": [
    "## Les avantages \n",
    "\n",
    "- Optimisé pour le multi-machines et la réplication de données\n",
    "- Pas besoin de jointures entre les tables compte tenu du modèle de données sous forme de documents\n",
    "- Un index est créé sur chaque clé pour une rapidité de requêtes\n",
    "- Un langage de requêtage aussi puissant que le SQL\n",
    "- Optimisation de la mémoire\n",
    "- Pas besoin de définir un schéma de données à l'avance"
   ]
  },
  {
   "cell_type": "markdown",
   "metadata": {},
   "source": [
    "## Inconvenients\n",
    "\n",
    "- Malgré ses optimisations Mongo a tendance à consommer plus de stockage qu'une BDD relationnelle\n",
    "- Les Queries et le Aggrégations peuvent être plus compliqué surtout lorsque des requêtes neccessite des données de plusieurs collections\n",
    "- Pas de schéma \"enforcement\" ce qui veut dire que des documents dans une même collection peuvent avoir des données différents et inattendu"
   ]
  },
  {
   "cell_type": "markdown",
   "metadata": {},
   "source": [
    "## Mongo VS BDD relationnelle\n",
    "\n",
    "Le choix d’une base de données dépend du besoin auquel on essaie de répondre.\n",
    "\n",
    "En général, Mongo est choisi comme BDD lorsqu’on a affaire à des données non structurées ou semi-structurées, ainsi que dans des environnements de données dynamiques où il est difficile de prévoir à l’avance un schéma structuré.\n",
    "\n",
    "Quant aux BDD relationnelles (MySQL, PostgreSQL, …), elles sont meilleures pour stocker des données structurées, avoir une gestion de données cohérente et permettre de requêter un gros volume de données rapidement et de manière optimale.\n"
   ]
  },
  {
   "cell_type": "markdown",
   "metadata": {},
   "source": [
    "## Concepts basiques\n",
    "\n",
    "- Database : une database est un regroupement de collections. Chaque database possède son propre système de fichiers et sa propre authentification. Elle a le même rôle qu'une database en MySQL.\n",
    "- Collection : une collection est un regroupement de documents. C'est une table en MySQL, la principale différence étant qu'elle ne définit pas un schéma de données fixe. Les documents présents dans une collection n'ont pas forcément tous les mêmes champs.\n",
    "- Document : un document est un objet JSON stocké sous la forme de plusieurs paires clé:valeur. C'est l'équivalent d'une ligne dans une table SQL.\n",
    "- Champ : Un champ est l'équivalent d'une colonne en SQL. Il permet de faire des requêtes."
   ]
  },
  {
   "cell_type": "markdown",
   "metadata": {},
   "source": [
    "## Identifiants\n",
    "\n",
    "Tous les documents possèdent un identifiant unique, ce qui permet de le retrouver très efficacement. L'identifiant peut être spécifié lors de l'ajout d'un nouveau document (nom+prenom, adresse email, url, etc). Dans le cas ou aucun identifiant n'est précisé, MongoDB se charge d'en ajouter un. Il est composé d'un nombre stocké sur 12 bytes au format hexadécimal :\n",
    "\n",
    "- Les 4 premiers bytes sont le timestamp de l'ajout du document\n",
    "- Les 3 suivants correspondent à l'identifiant de la machine\n",
    "- Les 2 suivants l'identifiant du processus\n",
    "- Les 3 derniers sont une valeur incrémentale\n"
   ]
  },
  {
   "cell_type": "markdown",
   "metadata": {},
   "source": [
    "## Les types de données\n",
    "\n",
    "Une base de données MongoDB permet de stocker un grand volume de données hétérogènes sans imposer un modèle de données fixe pour tous les documents. Il est conseillé, comme vu plus haut, de bien définir la structure globale pour garder une cohérence tout au long des développements.\n",
    "\n",
    "- Integer : entier relatif stocké sur 32 ou 64 bits.\n",
    "- Double : nombre décimal stocké sur 64 bits.\n",
    "- String : chaine de caractère (encodée en utf-8)\n",
    "- Booléen : True ou False\n",
    "- Object : sous-objet stocké au format JSON\n",
    "- Date : date au format UNIX (nombre de ms écoulées depuis le 1er janvier 1970) stockée sur 64 bits.\n",
    "- Array : stocker une liste d'éléments au format atomique ou d'objets\n",
    "\n",
    "D'autres types sont disponibles et vous pouvez les trouver https://docs.mongodb.com/manual/reference/bson-types/"
   ]
  },
  {
   "cell_type": "markdown",
   "metadata": {},
   "source": [
    "# Installation\n",
    "\n",
    "L'installation peut se faire de plusieurs manières.\n",
    "\n",
    "Par exemple, directement depuis les sources ou à partir de packages, notamment sur des machines tournant sur des distributions Linux comme Debian.  \n",
    "Liens vers le tutorial https://docs.mongodb.com/manual/tutorial/install-mongodb-on-ubuntu/\n",
    "\n",
    "Ce n'est pas cette méthode que nous allons utiliser. Comme vous avez pu le voir au début du cours, nous pouvons utiliser docker pour faire tourner des services dans des containers isolés sur notre machine.\n",
    "\n",
    "\n",
    "L'avantage de Docker est qu'il n'installe aucune dépendance sur votre machine et laisse son environnement propre. Lien vers le tutorial : https://hub.docker.com/_/mongo/\n",
    "\n",
    "Lancez Mongo dans un container docker :\n",
    "```bash\n",
    "> docker run --name my-mongo -d -p 27017:27017 mongo\n",
    "```\n",
    "\n",
    "On peut voir les containers qui tournent actuellement avec la commande\n",
    "```bash\n",
    "> docker ps\n",
    "```\n",
    "\n",
    "On peut regarder aussi regarder les logs avec :\n",
    "```bash\n",
    "> docker logs my-mongo\n",
    "```\n",
    "\n",
    "Pour rappel, un des avantages de Docker est sa portabilité, ainsi il est possible de faire tourner un mongo de la même manière peut importe la machine !"
   ]
  },
  {
   "cell_type": "markdown",
   "metadata": {},
   "source": [
    "# Connexion\n",
    "\n",
    "Pour se connecter à une base Mongo deux solutions sont possibles. Dans les deux cas, la syntaxe Mongo est utilisée pour effectuer des requêtes.\n",
    "\n",
    "En ligne de commande avec Mongo Shell (mongosh). Il suffit de l'installer depuis ce lien : https://www.mongodb.com/docs/mongodb-shell/install/\n",
    "\n",
    " Ensuite d'executer la commande :\n",
    " ```bash\n",
    "> mongosh \"mongodb://localhost:27017\"\n",
    "```\n",
    "\n",
    "Vous vous retouvrez ainsi dans une session mongosh connectée à votre base local tournant sur Docker.\n",
    "\n",
    "L'autre solution est d'utiliser un client graphique mongo qui permet de visuellement gérer sa base de données. Il existe beaucoup de client mongo, parmi les plus connus :\n",
    "- MongoDB Compass le client officiel => https://www.mongodb.com/products/tools/compass\n",
    "- Robo3T un client open source => https://robomongo.org/\n",
    "- Des plugins d'IDE qui permettent directement dans votre IDE favori de gérer votre mongo, VS code for mongo, DataGrip, ... \n",
    "\n",
    "Une fois que vous avez installé un client il suffit de renseigner la string de connexion pour vous connecter à votre base\n",
    "\n",
    "N'hésitez pas à tester les deux solutions et choisir celle que vous préférez. Il est généralement intéressant de commencer par mongosh pour bien comprendre ce qu'il se passe sous le capot."
   ]
  },
  {
   "cell_type": "markdown",
   "metadata": {},
   "source": [
    "# Création d'un modèle de données\n",
    "\n",
    "La création d'un modèle de données clair et adapté est une tâche importante et primordiale. Ce modèle de données doit être réfléchi à court et long terme et doit prendre en compte la capacité de stockage et les besoins métiers."
   ]
  },
  {
   "cell_type": "markdown",
   "metadata": {},
   "source": [
    "## Database"
   ]
  },
  {
   "cell_type": "markdown",
   "metadata": {},
   "source": [
    "\n",
    "A partir du shell Mongo, on peut afficher les databases disponibles. Au démarrage, aucune n'est créée à part celles par défaut:\n",
    "```\n",
    "> show dbs\n",
    "admin   0.000GB\n",
    "config  0.000GB\n",
    "local   0.000GB\n",
    "```\n",
    "\n",
    "On peut créer une database de test\n",
    "```\n",
    "> use test\n",
    "switched to db test\n",
    "```\n",
    "\n",
    "Pour supprimer définitivement une database:\n",
    "\n",
    "```\n",
    "> db.dropDatabase()\n",
    "```\n",
    "Comme vous pouvez le deviner cette commande est à utiliser avec précaution."
   ]
  },
  {
   "cell_type": "markdown",
   "metadata": {},
   "source": [
    "## Collection"
   ]
  },
  {
   "cell_type": "markdown",
   "metadata": {},
   "source": [
    "Les collections correspondent aux tables en SQL. Elles sont des sous-ensembles d'une database. Pour créer une collection il faut auparavant s'être référencé sur une database.\n",
    "\n",
    "```\n",
    "show dbs\n",
    "use <YOUR_DB_NAME>\n",
    "db.createCollection(<YOUR_COLLECTION_NAME>)\n",
    "show collections\n",
    "```\n",
    "\n",
    "Comme pour les databases on peut vouloir supprimer définitivement une collection.\n",
    "\n",
    "```\n",
    "db.<YOUR_COLLECTION_NAME>.drop()\n",
    "show collections\n",
    "```\n"
   ]
  },
  {
   "cell_type": "markdown",
   "metadata": {},
   "source": [
    "## Document"
   ]
  },
  {
   "cell_type": "markdown",
   "metadata": {},
   "source": [
    "Un document (objet JSON) est un sous-ensemble d'une collection qui est lui même une sous-partie d'une database. Pour insérer un document il faut donc se référencer sur une database et sur la collection souhaitée.\n",
    "\n",
    "```\n",
    "use <YOUR_DB_NAME>\n",
    "db.createCollection(<YOUR_COLLECTION_NAME>)\n",
    "show collections\n",
    "db.<YOUR_COLLECTION_NAME>.insert({\n",
    "    firstname : \"Thomas\",\n",
    "    lastname : \"Shelby\",\n",
    "    position : \"director\",\n",
    "    company : \"Peaky Blinders\"})\n",
    "```\n",
    "\n",
    "Si vous ne précisez pas d'identifiant unique (id du document), MongoDB se charge de le remplir avec les règles définies précédement. Une bonne pratique est de trouver une règle permettant de retrouver facilement et efficacement un document sans avoir à faire une requête complexe et obliger la base à rechercher dans ses champs. Une technique est de prendre le hash d'une combinaison des champs qui permet de créer une clé unique SHA128(firstname+lastname+position) par exemple.\n",
    "\n",
    "```\n",
    "use <YOUR_DB_NAME>\n",
    "show collections\n",
    "db.<YOUR_COLLECTION_NAME>.insert({\n",
    "    firstname : \"Thomas\",\n",
    "    lastname : \"Shelby\",\n",
    "    position : \"CEO\",\n",
    "    gender : \"Male\",\n",
    "    age : 35,\n",
    "    description : \"Thomas 'Tommy' Michael Shelby M.P. OBE, is the leader of the Birmingham criminal gang Peaky Blinders and the patriarch of the Shelby Family. His experiences during and after the First World War have left him disillusioned and determined to move his family up in the world.\",\n",
    "    nicknames : [\"Tom\", \"Tommy\", \"Thomas\"],\n",
    "    company : \"Peaky Blinders\",\n",
    "    episodes : [1,2,4,5,6]\n",
    "    })\n",
    "```\n",
    "Pour des soucis de performances, si un grand nombre de documents doivent être insérés très rapidement sans surcharger les appels réseaux, il est possible de passer une liste JSON d'objets à la fonction insert.\n",
    "\n",
    "```\n",
    "db.<YOUR_COLLECTION_NAME>.insert([\n",
    "{\n",
    "    firstname : \"Arthur\",\n",
    "    lastname : \"Shelby\",\n",
    "    position : \"Associate\",\n",
    "    gender : \"Male\",\n",
    "    age : 38,\n",
    "    description : \"Arthur Shelby Jr. is the eldest of the Shelby siblings and the tough member of Peaky Blinders, the Deputy Vice President Shelby Company Limited. He's also a member of the ICA.\",\n",
    "    company : \"Peaky Blinders\",\n",
    "    episodes : [1,4,6]\n",
    "\n",
    "},{\n",
    "    firstname : \"John\",\n",
    "    lastname : \"Shelby\",\n",
    "    position : \"Associate\",\n",
    "    gender : \"Male\",\n",
    "    age : 30,\n",
    "    description : \"John Michael Shelby, also called Johnny or John Boy, was the third of Shelby siblings and a member of the Peaky Blinders.\",\n",
    "    nicknames : [\"Johnny\", \"John Boy\"],\n",
    "    company : \"Peaky Blinders\",\n",
    "    episodes : [4,5,6]\n",
    "},{\n",
    "    firstname : \"Ada\",\n",
    "    lastname : \"Thorne\",\n",
    "    position : \"HR\",\n",
    "    gender : \"Female\",\n",
    "    age : 28,\n",
    "    description : \"Ada Thorne is the fourth and only female of the Shelby sibling. She's the Head of Acquisitions of the Shelby Company Limited.\",\n",
    "    nicknames : [\"Ada Shelby\"],\n",
    "    company : \"Peaky Blinders\",\n",
    "    episodes : [1,2,6]\n",
    "},{\n",
    "    firstname : \"Michael\",\n",
    "    lastname : \"Gray\",\n",
    "    position : \"Accounting\",\n",
    "    gender : \"Male\",\n",
    "    age : 21,\n",
    "    description : \"Michael Gray is the son of Polly Shelby, his father is dead, and cousin of the Shelby siblings. He is the Chief Accountant in the Shelby Company Limited.\",\n",
    "    nicknames : [\"Henry Johnson\", \"Jobbie Muncher\", \"Mickey\"],\n",
    "    company : \"Peaky Blinders\",\n",
    "    episodes : [5,6]\n",
    "},{\n",
    "    firstname : \"Polly\",\n",
    "    lastname : \"Gray\",\n",
    "    gender : \"Female\",\n",
    "    age : 45,\n",
    "    position : \"CFO\",\n",
    "    description : \"Elizabeth Polly Gray (née Shelby) is the matriarch of the Shelby Family, aunt of the Shelby siblings, the treasurer of the Birmingham criminal gang, the Peaky Blinders, a certified accountant and company treasurer of Shelby Company Limited. \",\n",
    "    nicknames : [\"Aunt Polly\", \"Polly Gray\", \"Elizabeth Gray\", \"Polly Shelby\", \"Pol\"],\n",
    "    company : \"Peaky Blinders\",\n",
    "    episodes : [1,2,5,6]\n",
    "}])\n",
    "```"
   ]
  },
  {
   "cell_type": "markdown",
   "metadata": {},
   "source": [
    "Vous pouvez voir tous les documents de votre collection avec : \n",
    "```bash\n",
    "db.<YOUR_COLLECTION_NAME>.find()\n",
    "```"
   ]
  },
  {
   "cell_type": "markdown",
   "metadata": {},
   "source": [
    "### 1. Docker et MongoDB :\n",
    "\n",
    "Docker est une plateforme permettant de créer, déployer et exécuter des applications dans des conteneurs. Un conteneur Docker est un environnement léger et isolé dans lequel une application peut s'exécuter.\n",
    "\n",
    "MongoDB peut être exécuté à l'intérieur d'un conteneur Docker, ce qui facilite son déploiement sans avoir besoin d'installer MongoDB directement sur votre système. Docker fournit ainsi un environnement portable et consistant, idéal pour les environnements de développement et de production.\n",
    "\n",
    "\n",
    "### 2. MongoDB :\n",
    "\n",
    "MongoDB est une base de données NoSQL populaire qui stocke les données sous forme de documents JSON (en réalité, des BSON, une version binaire de JSON). MongoDB est souvent utilisé dans des applications web et des systèmes distribués.\n",
    "\n",
    "Dans ce cas, MongoDB fonctionne comme le système de gestion de base de données qui contient vos données. Vous pouvez interagir avec MongoDB via des outils comme mongosh ou pymongo.\n",
    "\n",
    "\n",
    "### 3. mongosh :\n",
    "\n",
    "mongosh est le MongoDB Shell, une interface en ligne de commande interactive permettant de se connecter à un serveur MongoDB et d'exécuter des commandes directement sur la base de données.\n",
    "\n",
    "Vous pouvez utiliser mongosh pour interroger, modifier, administrer et explorer les bases de données MongoDB. Par exemple, après avoir lancé MongoDB dans Docker, vous pouvez utiliser mongosh pour vous connecter à l'instance MongoDB et exécuter des requêtes ou des opérations administratives.\n",
    "\n",
    "\n",
    "### 4. pymongo :\n",
    "\n",
    "pymongo est une bibliothèque Python qui permet d'interagir avec MongoDB depuis un programme Python. Elle fournit des méthodes pour se connecter à une base de données MongoDB, insérer, modifier, et interroger des données depuis un script Python.\n",
    "\n",
    "Si vous exécutez MongoDB dans Docker, vous pouvez utiliser pymongo dans un script Python pour interagir avec la base de données MongoDB qui s'exécute dans le conteneur Docker."
   ]
  },
  {
   "cell_type": "markdown",
   "metadata": {},
   "source": [
    "# Python "
   ]
  },
  {
   "cell_type": "markdown",
   "metadata": {},
   "source": [
    "Il existe une API Python développée pour interagir avec une base de données MongoDB. \n",
    "\n",
    "Ce package s'appelle `pymongo`, vous pouvez trouver la documentation https://www.mongodb.com/docs/languages/python/pymongo-driver/current/. Il est important d'avoir des APIs dans les différents langages pour faciliter l'intégration dans les applications.\n",
    "\n",
    "le package est déjà installé dans votre virtual env mais si jamais:\n",
    "\n",
    "```bash\n",
    "pipenv install pymongo==4.9.1\n",
    "```\n"
   ]
  },
  {
   "cell_type": "markdown",
   "metadata": {},
   "source": [
    "Ce package garde très largement la syntaxe Mongo shell et permet d'utiliser ces méthodes et items (DataBases, Collections, Documents) en tant qu'objets Python.\n",
    "\n",
    "Dans un premier temps, on veut créer le lien entre notre base Mongo et notre programme, pour cela on créer un `client`."
   ]
  },
  {
   "cell_type": "code",
   "execution_count": 79,
   "metadata": {
    "ExecuteTime": {
     "end_time": "2024-10-08T13:26:24.968225Z",
     "start_time": "2024-10-08T13:26:24.965083Z"
    }
   },
   "outputs": [],
   "source": [
    "from pymongo import MongoClient\n",
    "\n",
    "client = MongoClient()"
   ]
  },
  {
   "cell_type": "markdown",
   "metadata": {},
   "source": [
    "Permet de se connecter à une base MongoDB en créant un pointeur client vers cette base. Par défault ce client est paramétré sur le localhost et le port 27017 qui est le port par défaut et très généralement utilisé.\n",
    " \n",
    "Néanmoins, vous pouvez choisir de vous connecter à n'importe quelle base, qu'elle soit sur votre machine ou à distance.\n",
    "\n",
    "\n",
    "```\n",
    "client = MongoClient(\"http://<YOUR_IP_ADDRESS>:<YOUR_PORT_NUMBER>)\n",
    "```\n",
    "\n",
    "Il est possible comme depuis le MongoShell de lister les bases de données.\n"
   ]
  },
  {
   "cell_type": "code",
   "execution_count": 80,
   "metadata": {
    "ExecuteTime": {
     "end_time": "2024-10-08T13:26:27.490533Z",
     "start_time": "2024-10-08T13:26:27.485079Z"
    }
   },
   "outputs": [
    {
     "name": "stdout",
     "output_type": "stream",
     "text": [
      "['admin', 'config', 'local', 'series']\n"
     ]
    }
   ],
   "source": [
    "print(client.list_database_names())"
   ]
  },
  {
   "cell_type": "markdown",
   "metadata": {},
   "source": [
    "\n",
    "Vous pouvez aussi les sélectionner. Il y a deux syntaxes : \n",
    "```\n",
    "db = client.<YOUR_DATABASE_NAME>\n",
    "```\n",
    "ou \n",
    "```\n",
    "db = client[\"<YOUR_DATABASE_NAME>\"]\n",
    "```\n"
   ]
  },
  {
   "cell_type": "code",
   "execution_count": 81,
   "metadata": {
    "ExecuteTime": {
     "end_time": "2024-10-08T13:26:58.760960Z",
     "start_time": "2024-10-08T13:26:58.758660Z"
    }
   },
   "outputs": [
    {
     "name": "stdout",
     "output_type": "stream",
     "text": [
      "<class 'pymongo.synchronous.database.Database'>\n"
     ]
    }
   ],
   "source": [
    "db_series = client.series\n",
    "print(type(db_series))"
   ]
  },
  {
   "cell_type": "markdown",
   "metadata": {},
   "source": [
    "Si la database ou la collections que vous selectionnez via ces commandes n'existe pas, elle est alors créée."
   ]
  },
  {
   "cell_type": "code",
   "execution_count": 82,
   "metadata": {
    "ExecuteTime": {
     "end_time": "2024-10-08T13:27:12.508413Z",
     "start_time": "2024-10-08T13:27:12.506624Z"
    }
   },
   "outputs": [],
   "source": [
    "collection_peaky = db_series['peaky'] "
   ]
  },
  {
   "cell_type": "code",
   "execution_count": 83,
   "metadata": {
    "ExecuteTime": {
     "end_time": "2024-10-08T13:28:05.821334Z",
     "start_time": "2024-10-08T13:28:05.807267Z"
    }
   },
   "outputs": [
    {
     "data": {
      "text/plain": [
       "InsertOneResult(ObjectId('6758571ea78f99ccaf32bec2'), acknowledged=True)"
      ]
     },
     "execution_count": 83,
     "metadata": {},
     "output_type": "execute_result"
    }
   ],
   "source": [
    "collection_peaky.insert_one(\n",
    "    {\n",
    "    \"firstname\" : \"Thomas\",\n",
    "    \"lastname\" : \"Shelby\",\n",
    "    \"position\" : \"CEO\",\n",
    "    \"gender\" : \"Male\",\n",
    "    \"age\" : 35,\n",
    "    \"description\" : \"Thomas 'Tommy' Michael Shelby M.P. OBE, is the leader of the Birmingham criminal gang Peaky Blinders and the patriarch of the Shelby Family. His experiences during and after the First World War have left him disillusioned and determined to move his family up in the world.\",\n",
    "    \"nicknames\" : [\"Tom\", \"Tommy\", \"Thomas\"],\n",
    "    \"company\" : \"Peaky Blinders\",\n",
    "    \"episodes\" : [1,2,4,5,6]\n",
    "    })"
   ]
  },
  {
   "cell_type": "code",
   "execution_count": 84,
   "metadata": {
    "ExecuteTime": {
     "end_time": "2024-10-08T13:28:45.356056Z",
     "start_time": "2024-10-08T13:28:45.352276Z"
    }
   },
   "outputs": [],
   "source": [
    "DOCUMENTS = [\n",
    "    {\n",
    "    \"firstname\" : \"Thomas\",\n",
    "    \"lastname\" : \"Shelby\",\n",
    "    \"position\" : \"CEO\",\n",
    "    \"gender\" : \"Male\",\n",
    "    \"age\" : 35,\n",
    "    \"description\" : \"Thomas 'Tommy' Michael Shelby M.P. OBE, is the leader of the Birmingham criminal gang Peaky Blinders and the patriarch of the Shelby Family. His experiences during and after the First World War have left him disillusioned and determined to move his family up in the world.\",\n",
    "    \"nicknames\" : [\"Tom\", \"Tommy\", \"Thomas\"],\n",
    "    \"company\" : \"Peaky Blinders\",\n",
    "    \"episodes\" : [1,2,4,5,6]\n",
    "    }, \n",
    "{\n",
    "    \"firstname\" : \"Arthur\",\n",
    "    \"lastname\" : \"Shelby\",\n",
    "    \"position\" : \"Associate\",\n",
    "    \"gender\" : \"Male\",\n",
    "    \"age\" : 38,\n",
    "    \"description\" : \"Arthur Shelby Jr. is the eldest of the Shelby siblings and the tough member of Peaky Blinders, the Deputy Vice President Shelby Company Limited. He's also a member of the ICA.\",\n",
    "    \"company\" : \"Peaky Blinders\",\n",
    "    \"episodes\" : [1,4,6]\n",
    "\n",
    "},{\n",
    "    \"firstname\" : \"John\",\n",
    "    \"lastname\" : \"Shelby\",\n",
    "    \"position\" : \"Associate\",\n",
    "    \"gender\" : \"Male\",\n",
    "    \"age\" : 30,\n",
    "    \"description\" : \"John Michael Shelby, also called Johnny or John Boy, was the third of Shelby siblings and a member of the Peaky Blinders.\",\n",
    "    \"nicknames\" : [\"Johnny\", \"John Boy\"],\n",
    "    \"company\" : \"Peaky Blinders\",\n",
    "    \"episodes\" : [4,5,6]\n",
    "},{\n",
    "    \"firstname\" : \"Ada\",\n",
    "    \"lastname\" : \"Thorne\",\n",
    "    \"position\" : \"HR\",\n",
    "    \"gender\" : \"Female\",\n",
    "    \"age\" : 28,\n",
    "    \"description\" : \"Ada Thorne is the fourth and only female of the Shelby sibling. She's the Head of Acquisitions of the Shelby Company Limited.\",\n",
    "    \"nicknames\" : [\"Ada Shelby\"],\n",
    "    \"company\" : \"Peaky Blinders\",\n",
    "    \"episodes\" : [1,2,6]\n",
    "},{\n",
    "    \"firstname\" : \"Michael\",\n",
    "    \"lastname\" : \"Gray\",\n",
    "    \"position\" : \"Accounting\",\n",
    "    \"gender\" : \"Male\",\n",
    "    \"age\" : 21,\n",
    "    \"description\" : \"Michael Gray is the son of Polly Shelby, his father is dead, and cousin of the Shelby siblings. He is the Chief Accountant in the Shelby Company Limited.\",\n",
    "    \"nicknames\" : [\"Henry Johnson\", \"Jobbie Muncher\", \"Mickey\"],\n",
    "    \"company\" : \"Peaky Blinders\",\n",
    "    \"episodes\" : [5,6]\n",
    "},{\n",
    "    \"firstname\" : \"Polly\",\n",
    "    \"lastname\" : \"Gray\",\n",
    "    \"gender\" : \"Female\",\n",
    "    \"age\" : 45,\n",
    "    \"position\" : \"CFO\",\n",
    "    \"description\" : \"Elizabeth Polly Gray (née Shelby) is the matriarch of the Shelby Family, aunt of the Shelby siblings, the treasurer of the Birmingham criminal gang, the Peaky Blinders, a certified accountant and company treasurer of Shelby Company Limited. \",\n",
    "    \"nicknames\" : [\"Aunt Polly\", \"Polly Gray\", \"Elizabeth Gray\", \"Polly Shelby\", \"Pol\"],\n",
    "    \"company\" : \"Peaky Blinders\",\n",
    "    \"episodes\" : [1,2,5,6]\n",
    "}]"
   ]
  },
  {
   "cell_type": "code",
   "execution_count": 85,
   "metadata": {
    "ExecuteTime": {
     "end_time": "2024-10-08T13:51:35.925060Z",
     "start_time": "2024-10-08T13:51:35.921058Z"
    }
   },
   "outputs": [
    {
     "data": {
      "text/plain": [
       "InsertManyResult([ObjectId('6758571ea78f99ccaf32bec3'), ObjectId('6758571ea78f99ccaf32bec4'), ObjectId('6758571ea78f99ccaf32bec5'), ObjectId('6758571ea78f99ccaf32bec6'), ObjectId('6758571ea78f99ccaf32bec7'), ObjectId('6758571ea78f99ccaf32bec8')], acknowledged=True)"
      ]
     },
     "execution_count": 85,
     "metadata": {},
     "output_type": "execute_result"
    }
   ],
   "source": [
    "collection_peaky.insert_many(DOCUMENTS)"
   ]
  },
  {
   "cell_type": "code",
   "execution_count": 86,
   "metadata": {
    "ExecuteTime": {
     "end_time": "2024-10-08T13:28:59.716045Z",
     "start_time": "2024-10-08T13:28:59.712762Z"
    }
   },
   "outputs": [
    {
     "data": {
      "text/plain": [
       "['peaky']"
      ]
     },
     "execution_count": 86,
     "metadata": {},
     "output_type": "execute_result"
    }
   ],
   "source": [
    "db_series.list_collection_names()"
   ]
  },
  {
   "cell_type": "markdown",
   "metadata": {},
   "source": [
    "La base de données a bien été créée. Nous allons voir comment faire des requêtes"
   ]
  },
  {
   "cell_type": "markdown",
   "metadata": {},
   "source": [
    "## Requêter"
   ]
  },
  {
   "cell_type": "markdown",
   "metadata": {},
   "source": [
    "Afin de récupérer les documents stockés dans une collection, des fonctions de requête sont disponibles. La fonction `find()` permet de récupérer les N premiers documents. La fonction `find_one()` permet de récupérer le premier élément."
   ]
  },
  {
   "cell_type": "code",
   "execution_count": 87,
   "metadata": {
    "ExecuteTime": {
     "end_time": "2024-10-08T13:29:51.688153Z",
     "start_time": "2024-10-08T13:29:51.683949Z"
    }
   },
   "outputs": [
    {
     "data": {
      "text/plain": [
       "{'_id': ObjectId('67583e81a78f99ccaf32bebb'),\n",
       " 'firstname': 'Thomas',\n",
       " 'lastname': 'Shelby',\n",
       " 'position': 'CEO',\n",
       " 'gender': 'Male',\n",
       " 'age': 35,\n",
       " 'description': \"Thomas 'Tommy' Michael Shelby M.P. OBE, is the leader of the Birmingham criminal gang Peaky Blinders and the patriarch of the Shelby Family. His experiences during and after the First World War have left him disillusioned and determined to move his family up in the world.\",\n",
       " 'nicknames': ['Tom', 'Tommy', 'Thomas'],\n",
       " 'company': 'Peaky Blinders',\n",
       " 'episodes': [1, 2, 4, 5, 6]}"
      ]
     },
     "execution_count": 87,
     "metadata": {},
     "output_type": "execute_result"
    }
   ],
   "source": [
    "collection_peaky.find_one()"
   ]
  },
  {
   "cell_type": "markdown",
   "metadata": {},
   "source": [
    "Cette fonction permet de récupérer le premier élément de la collection sous la forme d'un dictionnaire.\n",
    "\n",
    "\n",
    "C'est un peu différent pour la méthode find(). Cela crée, pour des raisons de performances, un curseur PyMongo. En effet, les données seront récupérées uniquement si elles sont utilisées. C'est intéressant pour des collections très volumineuses."
   ]
  },
  {
   "cell_type": "code",
   "execution_count": 88,
   "metadata": {
    "ExecuteTime": {
     "end_time": "2024-10-08T13:30:11.947040Z",
     "start_time": "2024-10-08T13:30:11.944917Z"
    }
   },
   "outputs": [
    {
     "data": {
      "text/plain": [
       "pymongo.synchronous.cursor.Cursor"
      ]
     },
     "execution_count": 88,
     "metadata": {},
     "output_type": "execute_result"
    }
   ],
   "source": [
    "cursor = collection_peaky.find()\n",
    "type(cursor)"
   ]
  },
  {
   "cell_type": "markdown",
   "metadata": {},
   "source": [
    "Un curseur est un type d'iterateur python, pour récupérer l'élément suivant:"
   ]
  },
  {
   "cell_type": "code",
   "execution_count": 89,
   "metadata": {
    "ExecuteTime": {
     "end_time": "2024-10-08T13:30:16.681493Z",
     "start_time": "2024-10-08T13:30:16.678286Z"
    }
   },
   "outputs": [
    {
     "data": {
      "text/plain": [
       "{'_id': ObjectId('67583e81a78f99ccaf32bebb'),\n",
       " 'firstname': 'Thomas',\n",
       " 'lastname': 'Shelby',\n",
       " 'position': 'CEO',\n",
       " 'gender': 'Male',\n",
       " 'age': 35,\n",
       " 'description': \"Thomas 'Tommy' Michael Shelby M.P. OBE, is the leader of the Birmingham criminal gang Peaky Blinders and the patriarch of the Shelby Family. His experiences during and after the First World War have left him disillusioned and determined to move his family up in the world.\",\n",
       " 'nicknames': ['Tom', 'Tommy', 'Thomas'],\n",
       " 'company': 'Peaky Blinders',\n",
       " 'episodes': [1, 2, 4, 5, 6]}"
      ]
     },
     "execution_count": 89,
     "metadata": {},
     "output_type": "execute_result"
    }
   ],
   "source": [
    "next(cursor)\n"
   ]
  },
  {
   "cell_type": "code",
   "execution_count": 90,
   "metadata": {
    "ExecuteTime": {
     "end_time": "2024-10-08T13:30:20.452215Z",
     "start_time": "2024-10-08T13:30:20.450121Z"
    }
   },
   "outputs": [
    {
     "name": "stdout",
     "output_type": "stream",
     "text": [
      "-----\n",
      "{'_id': ObjectId('67583e81a78f99ccaf32bebc'), 'firstname': 'Arthur', 'lastname': 'Shelby', 'position': 'Associate', 'gender': 'Male', 'age': 38, 'description': \"Arthur Shelby Jr. is the eldest of the Shelby siblings and the tough member of Peaky Blinders, the Deputy Vice President Shelby Company Limited. He's also a member of the ICA.\", 'company': 'Peaky Blinders', 'episodes': [1, 4, 6]}\n",
      "-----\n",
      "{'_id': ObjectId('67583e81a78f99ccaf32bebd'), 'firstname': 'John', 'lastname': 'Shelby', 'position': 'Associate', 'gender': 'Male', 'age': 30, 'description': 'John Michael Shelby, also called Johnny or John Boy, was the third of Shelby siblings and a member of the Peaky Blinders.', 'nicknames': ['Johnny', 'John Boy'], 'company': 'Peaky Blinders', 'episodes': [4, 5, 6]}\n",
      "-----\n",
      "{'_id': ObjectId('67583e81a78f99ccaf32bebe'), 'firstname': 'Ada', 'lastname': 'Thorne', 'position': 'HR', 'gender': 'Female', 'age': 28, 'description': \"Ada Thorne is the fourth and only female of the Shelby sibling. She's the Head of Acquisitions of the Shelby Company Limited.\", 'nicknames': ['Ada Shelby'], 'company': 'Peaky Blinders', 'episodes': [1, 2, 6]}\n",
      "-----\n",
      "{'_id': ObjectId('67583e81a78f99ccaf32bebf'), 'firstname': 'Michael', 'lastname': 'Gray', 'position': 'Accounting', 'gender': 'Male', 'age': 21, 'description': 'Michael Gray is the son of Polly Shelby, his father is dead, and cousin of the Shelby siblings. He is the Chief Accountant in the Shelby Company Limited.', 'nicknames': ['Henry Johnson', 'Jobbie Muncher', 'Mickey'], 'company': 'Peaky Blinders', 'episodes': [5, 6]}\n",
      "-----\n",
      "{'_id': ObjectId('67583e81a78f99ccaf32bec0'), 'firstname': 'Polly', 'lastname': 'Gray', 'gender': 'Female', 'age': 45, 'position': 'CFO', 'description': 'Elizabeth Polly Gray (née Shelby) is the matriarch of the Shelby Family, aunt of the Shelby siblings, the treasurer of the Birmingham criminal gang, the Peaky Blinders, a certified accountant and company treasurer of Shelby Company Limited. ', 'nicknames': ['Aunt Polly', 'Polly Gray', 'Elizabeth Gray', 'Polly Shelby', 'Pol'], 'company': 'Peaky Blinders', 'episodes': [1, 2, 5, 6]}\n",
      "-----\n",
      "{'_id': ObjectId('6758571ea78f99ccaf32bec2'), 'firstname': 'Thomas', 'lastname': 'Shelby', 'position': 'CEO', 'gender': 'Male', 'age': 35, 'description': \"Thomas 'Tommy' Michael Shelby M.P. OBE, is the leader of the Birmingham criminal gang Peaky Blinders and the patriarch of the Shelby Family. His experiences during and after the First World War have left him disillusioned and determined to move his family up in the world.\", 'nicknames': ['Tom', 'Tommy', 'Thomas'], 'company': 'Peaky Blinders', 'episodes': [1, 2, 4, 5, 6]}\n",
      "-----\n",
      "{'_id': ObjectId('6758571ea78f99ccaf32bec3'), 'firstname': 'Thomas', 'lastname': 'Shelby', 'position': 'CEO', 'gender': 'Male', 'age': 35, 'description': \"Thomas 'Tommy' Michael Shelby M.P. OBE, is the leader of the Birmingham criminal gang Peaky Blinders and the patriarch of the Shelby Family. His experiences during and after the First World War have left him disillusioned and determined to move his family up in the world.\", 'nicknames': ['Tom', 'Tommy', 'Thomas'], 'company': 'Peaky Blinders', 'episodes': [1, 2, 4, 5, 6]}\n",
      "-----\n",
      "{'_id': ObjectId('6758571ea78f99ccaf32bec4'), 'firstname': 'Arthur', 'lastname': 'Shelby', 'position': 'Associate', 'gender': 'Male', 'age': 38, 'description': \"Arthur Shelby Jr. is the eldest of the Shelby siblings and the tough member of Peaky Blinders, the Deputy Vice President Shelby Company Limited. He's also a member of the ICA.\", 'company': 'Peaky Blinders', 'episodes': [1, 4, 6]}\n",
      "-----\n",
      "{'_id': ObjectId('6758571ea78f99ccaf32bec5'), 'firstname': 'John', 'lastname': 'Shelby', 'position': 'Associate', 'gender': 'Male', 'age': 30, 'description': 'John Michael Shelby, also called Johnny or John Boy, was the third of Shelby siblings and a member of the Peaky Blinders.', 'nicknames': ['Johnny', 'John Boy'], 'company': 'Peaky Blinders', 'episodes': [4, 5, 6]}\n",
      "-----\n",
      "{'_id': ObjectId('6758571ea78f99ccaf32bec6'), 'firstname': 'Ada', 'lastname': 'Thorne', 'position': 'HR', 'gender': 'Female', 'age': 28, 'description': \"Ada Thorne is the fourth and only female of the Shelby sibling. She's the Head of Acquisitions of the Shelby Company Limited.\", 'nicknames': ['Ada Shelby'], 'company': 'Peaky Blinders', 'episodes': [1, 2, 6]}\n",
      "-----\n",
      "{'_id': ObjectId('6758571ea78f99ccaf32bec7'), 'firstname': 'Michael', 'lastname': 'Gray', 'position': 'Accounting', 'gender': 'Male', 'age': 21, 'description': 'Michael Gray is the son of Polly Shelby, his father is dead, and cousin of the Shelby siblings. He is the Chief Accountant in the Shelby Company Limited.', 'nicknames': ['Henry Johnson', 'Jobbie Muncher', 'Mickey'], 'company': 'Peaky Blinders', 'episodes': [5, 6]}\n",
      "-----\n",
      "{'_id': ObjectId('6758571ea78f99ccaf32bec8'), 'firstname': 'Polly', 'lastname': 'Gray', 'gender': 'Female', 'age': 45, 'position': 'CFO', 'description': 'Elizabeth Polly Gray (née Shelby) is the matriarch of the Shelby Family, aunt of the Shelby siblings, the treasurer of the Birmingham criminal gang, the Peaky Blinders, a certified accountant and company treasurer of Shelby Company Limited. ', 'nicknames': ['Aunt Polly', 'Polly Gray', 'Elizabeth Gray', 'Polly Shelby', 'Pol'], 'company': 'Peaky Blinders', 'episodes': [1, 2, 5, 6]}\n"
     ]
    }
   ],
   "source": [
    "for document in cursor :\n",
    "    print('-----')\n",
    "    print(document)"
   ]
  },
  {
   "cell_type": "markdown",
   "metadata": {},
   "source": [
    "Il est possible de passer des arguments à la fonction find() ou find_one()."
   ]
  },
  {
   "cell_type": "code",
   "execution_count": 91,
   "metadata": {
    "ExecuteTime": {
     "end_time": "2024-10-08T13:30:44.034839Z",
     "start_time": "2024-10-08T13:30:44.031362Z"
    }
   },
   "outputs": [
    {
     "data": {
      "text/plain": [
       "{'_id': ObjectId('67583e81a78f99ccaf32bebb'),\n",
       " 'firstname': 'Thomas',\n",
       " 'lastname': 'Shelby',\n",
       " 'position': 'CEO',\n",
       " 'gender': 'Male',\n",
       " 'age': 35,\n",
       " 'description': \"Thomas 'Tommy' Michael Shelby M.P. OBE, is the leader of the Birmingham criminal gang Peaky Blinders and the patriarch of the Shelby Family. His experiences during and after the First World War have left him disillusioned and determined to move his family up in the world.\",\n",
       " 'nicknames': ['Tom', 'Tommy', 'Thomas'],\n",
       " 'company': 'Peaky Blinders',\n",
       " 'episodes': [1, 2, 4, 5, 6]}"
      ]
     },
     "execution_count": 91,
     "metadata": {},
     "output_type": "execute_result"
    }
   ],
   "source": [
    "cur = collection_peaky.find({\"lastname\":\"Shelby\"})\n",
    "next(cur)"
   ]
  },
  {
   "cell_type": "markdown",
   "metadata": {},
   "source": [
    "\n",
    "Les différentes opérations mathématiques sont implémentées. \n",
    "\n",
    "- Egalité :  `{key:value}` Correspondance clé valeur entre le champ et la requête.\n",
    "- Différence (not equal) :  {key: {&#36;ne:value}}\n",
    "- Plus (Grand|Petit) que :  les opérateurs sont &#36;lt (lower than) ; &#36;lte (lower than equals) ; &#36;gt (greater than) ; &#36;gte (greater than equals) : `{key: {<OPERATEUR>:value}}`\n"
   ]
  },
  {
   "cell_type": "code",
   "execution_count": 92,
   "metadata": {
    "ExecuteTime": {
     "end_time": "2024-10-08T13:42:12.563937Z",
     "start_time": "2024-10-08T13:42:12.559854Z"
    }
   },
   "outputs": [
    {
     "data": {
      "text/plain": [
       "{'_id': ObjectId('67583e81a78f99ccaf32bebb'),\n",
       " 'firstname': 'Thomas',\n",
       " 'lastname': 'Shelby',\n",
       " 'position': 'CEO',\n",
       " 'gender': 'Male',\n",
       " 'age': 35,\n",
       " 'description': \"Thomas 'Tommy' Michael Shelby M.P. OBE, is the leader of the Birmingham criminal gang Peaky Blinders and the patriarch of the Shelby Family. His experiences during and after the First World War have left him disillusioned and determined to move his family up in the world.\",\n",
       " 'nicknames': ['Tom', 'Tommy', 'Thomas'],\n",
       " 'company': 'Peaky Blinders',\n",
       " 'episodes': [1, 2, 4, 5, 6]}"
      ]
     },
     "execution_count": 92,
     "metadata": {},
     "output_type": "execute_result"
    }
   ],
   "source": [
    "cur = collection_peaky.find({\"age\":{\"$gte\" :30}})\n",
    "next(cur)"
   ]
  },
  {
   "cell_type": "markdown",
   "metadata": {},
   "source": [
    "Les opérations logiques sont aussi disponibles.\n",
    "\n",
    "OR &#36;or et AND &#36;and permettent de faire des requêtes complexes sur une collection. \n",
    "\n"
   ]
  },
  {
   "cell_type": "code",
   "execution_count": 93,
   "metadata": {
    "ExecuteTime": {
     "end_time": "2024-10-08T13:42:47.765435Z",
     "start_time": "2024-10-08T13:42:47.761647Z"
    }
   },
   "outputs": [
    {
     "data": {
      "text/plain": [
       "{'_id': ObjectId('67583e81a78f99ccaf32bebb'),\n",
       " 'firstname': 'Thomas',\n",
       " 'lastname': 'Shelby',\n",
       " 'position': 'CEO',\n",
       " 'gender': 'Male',\n",
       " 'age': 35,\n",
       " 'description': \"Thomas 'Tommy' Michael Shelby M.P. OBE, is the leader of the Birmingham criminal gang Peaky Blinders and the patriarch of the Shelby Family. His experiences during and after the First World War have left him disillusioned and determined to move his family up in the world.\",\n",
       " 'nicknames': ['Tom', 'Tommy', 'Thomas'],\n",
       " 'company': 'Peaky Blinders',\n",
       " 'episodes': [1, 2, 4, 5, 6]}"
      ]
     },
     "execution_count": 93,
     "metadata": {},
     "output_type": "execute_result"
    }
   ],
   "source": [
    "cur = collection_peaky.find({\"$and\":[{\"age\":{\"$gte\": 28, \"$lt\":40}}, {\"lastname\":\"Shelby\"}]})\n",
    "next(cur)"
   ]
  },
  {
   "cell_type": "markdown",
   "metadata": {},
   "source": [
    "### Requêtes complexes\n",
    "\n",
    "Les objets Mongo peuvent être assez complexes et les requêtes doivent pouvoir matcher tous types de documents.\n",
    "\n",
    "Pour requêter les valeurs d'une liste : "
   ]
  },
  {
   "cell_type": "code",
   "execution_count": 94,
   "metadata": {
    "ExecuteTime": {
     "end_time": "2024-10-08T13:43:06.721130Z",
     "start_time": "2024-10-08T13:43:06.717530Z"
    }
   },
   "outputs": [
    {
     "data": {
      "text/plain": [
       "{'_id': ObjectId('67583e81a78f99ccaf32bebf'),\n",
       " 'firstname': 'Michael',\n",
       " 'lastname': 'Gray',\n",
       " 'position': 'Accounting',\n",
       " 'gender': 'Male',\n",
       " 'age': 21,\n",
       " 'description': 'Michael Gray is the son of Polly Shelby, his father is dead, and cousin of the Shelby siblings. He is the Chief Accountant in the Shelby Company Limited.',\n",
       " 'nicknames': ['Henry Johnson', 'Jobbie Muncher', 'Mickey'],\n",
       " 'company': 'Peaky Blinders',\n",
       " 'episodes': [5, 6]}"
      ]
     },
     "execution_count": 94,
     "metadata": {},
     "output_type": "execute_result"
    }
   ],
   "source": [
    "cur = collection_peaky.find( { \"nicknames\":  [\"Henry Johnson\", \"Jobbie Muncher\", \"Mickey\"] } )\n",
    "next(cur)"
   ]
  },
  {
   "cell_type": "markdown",
   "metadata": {},
   "source": [
    "Le champ `nicknames` doit matcher exactement la liste donnée en argument (en contenu et en ordre). \n"
   ]
  },
  {
   "cell_type": "code",
   "execution_count": 95,
   "metadata": {
    "ExecuteTime": {
     "end_time": "2024-10-08T13:43:16.642780Z",
     "start_time": "2024-10-08T13:43:16.610237Z"
    }
   },
   "outputs": [
    {
     "ename": "StopIteration",
     "evalue": "",
     "output_type": "error",
     "traceback": [
      "\u001b[0;31m---------------------------------------------------------------------------\u001b[0m",
      "\u001b[0;31mStopIteration\u001b[0m                             Traceback (most recent call last)",
      "Cell \u001b[0;32mIn[95], line 2\u001b[0m\n\u001b[1;32m      1\u001b[0m cur \u001b[38;5;241m=\u001b[39m collection_peaky\u001b[38;5;241m.\u001b[39mfind( { \u001b[38;5;124m\"\u001b[39m\u001b[38;5;124mnicknames\u001b[39m\u001b[38;5;124m\"\u001b[39m:  [\u001b[38;5;124m\"\u001b[39m\u001b[38;5;124mHenry Johnson\u001b[39m\u001b[38;5;124m\"\u001b[39m,  \u001b[38;5;124m\"\u001b[39m\u001b[38;5;124mMickey\u001b[39m\u001b[38;5;124m\"\u001b[39m, \u001b[38;5;124m\"\u001b[39m\u001b[38;5;124mJobbie Muncher\u001b[39m\u001b[38;5;124m\"\u001b[39m] } )\n\u001b[0;32m----> 2\u001b[0m \u001b[38;5;28;43mnext\u001b[39;49m\u001b[43m(\u001b[49m\u001b[43mcur\u001b[49m\u001b[43m)\u001b[49m\n",
      "File \u001b[0;32m~/.local/share/virtualenvs/DataEngineerTools-d_IoKyOp/lib/python3.12/site-packages/pymongo/synchronous/cursor.py:1281\u001b[0m, in \u001b[0;36mCursor.__next__\u001b[0;34m(self)\u001b[0m\n\u001b[1;32m   1280\u001b[0m \u001b[38;5;28;01mdef\u001b[39;00m \u001b[38;5;21m__next__\u001b[39m(\u001b[38;5;28mself\u001b[39m) \u001b[38;5;241m-\u001b[39m\u001b[38;5;241m>\u001b[39m _DocumentType:\n\u001b[0;32m-> 1281\u001b[0m     \u001b[38;5;28;01mreturn\u001b[39;00m \u001b[38;5;28;43mself\u001b[39;49m\u001b[38;5;241;43m.\u001b[39;49m\u001b[43mnext\u001b[49m\u001b[43m(\u001b[49m\u001b[43m)\u001b[49m\n",
      "File \u001b[0;32m~/.local/share/virtualenvs/DataEngineerTools-d_IoKyOp/lib/python3.12/site-packages/pymongo/synchronous/cursor.py:1260\u001b[0m, in \u001b[0;36mCursor.next\u001b[0;34m(self)\u001b[0m\n\u001b[1;32m   1258\u001b[0m     \u001b[38;5;28;01mreturn\u001b[39;00m \u001b[38;5;28mself\u001b[39m\u001b[38;5;241m.\u001b[39m_data\u001b[38;5;241m.\u001b[39mpopleft()\n\u001b[1;32m   1259\u001b[0m \u001b[38;5;28;01melse\u001b[39;00m:\n\u001b[0;32m-> 1260\u001b[0m     \u001b[38;5;28;01mraise\u001b[39;00m \u001b[38;5;167;01mStopIteration\u001b[39;00m\n",
      "\u001b[0;31mStopIteration\u001b[0m: "
     ]
    }
   ],
   "source": [
    "cur = collection_peaky.find( { \"nicknames\":  [\"Henry Johnson\",  \"Mickey\", \"Jobbie Muncher\"] } )\n",
    "next(cur)"
   ]
  },
  {
   "cell_type": "markdown",
   "metadata": {},
   "source": [
    "Lorsqu'aucun document n'a été trouvé le curseur est vide et donc renvoie une erreur lorsque l'on essaye de récupérer le prochain élément.\n",
    "\n",
    "Si maintenant on veut récupérer tous les documents avec \"Mickey\" et \"Jobbie Muncher\", peu importe l'ordre d'apparition et peu importe les autres éléments du tableau.\n"
   ]
  },
  {
   "cell_type": "code",
   "execution_count": null,
   "metadata": {
    "ExecuteTime": {
     "end_time": "2024-10-08T13:43:28.088587Z",
     "start_time": "2024-10-08T13:43:28.084727Z"
    }
   },
   "outputs": [
    {
     "data": {
      "text/plain": [
       "{'_id': ObjectId('67583e81a78f99ccaf32bebf'),\n",
       " 'firstname': 'Michael',\n",
       " 'lastname': 'Gray',\n",
       " 'position': 'Accounting',\n",
       " 'gender': 'Male',\n",
       " 'age': 21,\n",
       " 'description': 'Michael Gray is the son of Polly Shelby, his father is dead, and cousin of the Shelby siblings. He is the Chief Accountant in the Shelby Company Limited.',\n",
       " 'nicknames': ['Henry Johnson', 'Jobbie Muncher', 'Mickey'],\n",
       " 'company': 'Peaky Blinders',\n",
       " 'episodes': [5, 6]}"
      ]
     },
     "execution_count": 34,
     "metadata": {},
     "output_type": "execute_result"
    }
   ],
   "source": [
    "cur = collection_peaky.find( { \"nicknames\":  {\"$all\" :[\"Mickey\", \"Jobbie Muncher\"] } } )\n",
    "next(cur)"
   ]
  },
  {
   "cell_type": "markdown",
   "metadata": {},
   "source": [
    "On peut vouloir maintenant récupérer tous les documents comptenant \"Mickey\" dans les nicknames (listes). \n"
   ]
  },
  {
   "cell_type": "code",
   "execution_count": 96,
   "metadata": {
    "ExecuteTime": {
     "end_time": "2024-10-08T13:43:37.635367Z",
     "start_time": "2024-10-08T13:43:37.631898Z"
    }
   },
   "outputs": [
    {
     "data": {
      "text/plain": [
       "{'_id': ObjectId('67583e81a78f99ccaf32bebf'),\n",
       " 'firstname': 'Michael',\n",
       " 'lastname': 'Gray',\n",
       " 'position': 'Accounting',\n",
       " 'gender': 'Male',\n",
       " 'age': 21,\n",
       " 'description': 'Michael Gray is the son of Polly Shelby, his father is dead, and cousin of the Shelby siblings. He is the Chief Accountant in the Shelby Company Limited.',\n",
       " 'nicknames': ['Henry Johnson', 'Jobbie Muncher', 'Mickey'],\n",
       " 'company': 'Peaky Blinders',\n",
       " 'episodes': [5, 6]}"
      ]
     },
     "execution_count": 96,
     "metadata": {},
     "output_type": "execute_result"
    }
   ],
   "source": [
    "cur = collection_peaky.find( { \"nicknames\": \"Mickey\" } )\n",
    "next(cur)"
   ]
  },
  {
   "cell_type": "markdown",
   "metadata": {},
   "source": [
    "Comme on vient de le voir, une requête sur le champ d'une liste se construit de la même manière qu'une requête sur un champ 'basique'.\n",
    "\n",
    "La syntaxe générique d'une requête Mongo est la suivante.\n",
    "```\n",
    "    db.<YOUR_COLLECTION_NAME>.find( { <array field>: { <operator1>: <value1>, ... } })\n",
    "```"
   ]
  },
  {
   "cell_type": "markdown",
   "metadata": {},
   "source": [
    "### Limitation, Projection et Tris"
   ]
  },
  {
   "cell_type": "markdown",
   "metadata": {},
   "source": [
    "Pour des raisons de performances, il peut être intéressant de limiter les accès réseaux. Pour cela, on peut sélectionner les champs devant être retournés (Projection). On peut aussi demander de limiter le nombre de documents (Limitation).\n",
    "\n",
    "La syntaxe est la suivante : \n",
    "\n",
    "```\n",
    "db.<YOUR_COLLECTION_NAME>.find(QUERY, PROJECTION).LIMIT(N_DOCUMENTS)\n",
    "```\n",
    "\n",
    "Un exemple de projection en utilisant les requêtes déjà utilisées plus haut.\n"
   ]
  },
  {
   "cell_type": "code",
   "execution_count": 97,
   "metadata": {
    "ExecuteTime": {
     "end_time": "2024-10-08T13:44:17.556605Z",
     "start_time": "2024-10-08T13:44:17.552674Z"
    }
   },
   "outputs": [
    {
     "data": {
      "text/plain": [
       "{'_id': ObjectId('67583e81a78f99ccaf32bebb'), 'position': 'CEO'}"
      ]
     },
     "execution_count": 97,
     "metadata": {},
     "output_type": "execute_result"
    }
   ],
   "source": [
    "cur = collection_peaky.find({\"lastname\":\"Shelby\"}, {\"position\":1})\n",
    "next(cur)"
   ]
  },
  {
   "cell_type": "markdown",
   "metadata": {},
   "source": [
    "Avec une requête plus complexe et une autre projection."
   ]
  },
  {
   "cell_type": "code",
   "execution_count": 98,
   "metadata": {
    "ExecuteTime": {
     "end_time": "2024-10-08T13:44:39.053507Z",
     "start_time": "2024-10-08T13:44:39.049552Z"
    }
   },
   "outputs": [
    {
     "data": {
      "text/plain": [
       "{'_id': ObjectId('67583e81a78f99ccaf32bebb'), 'firstname': 'Thomas'}"
      ]
     },
     "execution_count": 98,
     "metadata": {},
     "output_type": "execute_result"
    }
   ],
   "source": [
    "cur = collection_peaky.find({\"$and\":[{\"age\":{\"$gte\": 28, \"$lt\":40}}, {\"lastname\":\"Shelby\"}]}, {\"firstname\":1})\n",
    "next(cur)"
   ]
  },
  {
   "cell_type": "markdown",
   "metadata": {},
   "source": [
    "Un exemple de limitation : "
   ]
  },
  {
   "cell_type": "code",
   "execution_count": 99,
   "metadata": {
    "ExecuteTime": {
     "end_time": "2024-10-08T13:44:43.742485Z",
     "start_time": "2024-10-08T13:44:43.738286Z"
    }
   },
   "outputs": [
    {
     "data": {
      "text/plain": [
       "[{'_id': ObjectId('67583e81a78f99ccaf32bebb'),\n",
       "  'firstname': 'Thomas',\n",
       "  'lastname': 'Shelby',\n",
       "  'position': 'CEO',\n",
       "  'gender': 'Male',\n",
       "  'age': 35,\n",
       "  'description': \"Thomas 'Tommy' Michael Shelby M.P. OBE, is the leader of the Birmingham criminal gang Peaky Blinders and the patriarch of the Shelby Family. His experiences during and after the First World War have left him disillusioned and determined to move his family up in the world.\",\n",
       "  'nicknames': ['Tom', 'Tommy', 'Thomas'],\n",
       "  'company': 'Peaky Blinders',\n",
       "  'episodes': [1, 2, 4, 5, 6]},\n",
       " {'_id': ObjectId('67583e81a78f99ccaf32bebc'),\n",
       "  'firstname': 'Arthur',\n",
       "  'lastname': 'Shelby',\n",
       "  'position': 'Associate',\n",
       "  'gender': 'Male',\n",
       "  'age': 38,\n",
       "  'description': \"Arthur Shelby Jr. is the eldest of the Shelby siblings and the tough member of Peaky Blinders, the Deputy Vice President Shelby Company Limited. He's also a member of the ICA.\",\n",
       "  'company': 'Peaky Blinders',\n",
       "  'episodes': [1, 4, 6]}]"
      ]
     },
     "execution_count": 99,
     "metadata": {},
     "output_type": "execute_result"
    }
   ],
   "source": [
    "cur = collection_peaky.find({\"lastname\":\"Shelby\"}).limit(2)\n",
    "list(cur)"
   ]
  },
  {
   "cell_type": "markdown",
   "metadata": {},
   "source": [
    "Il est aussi possible de passer directement au Nième document avec la fonction `skip()`."
   ]
  },
  {
   "cell_type": "code",
   "execution_count": 100,
   "metadata": {
    "ExecuteTime": {
     "end_time": "2024-10-08T13:44:51.428221Z",
     "start_time": "2024-10-08T13:44:51.423662Z"
    }
   },
   "outputs": [
    {
     "data": {
      "text/plain": [
       "[{'_id': ObjectId('67583e81a78f99ccaf32bebb'),\n",
       "  'firstname': 'Thomas',\n",
       "  'lastname': 'Shelby',\n",
       "  'position': 'CEO',\n",
       "  'gender': 'Male',\n",
       "  'age': 35,\n",
       "  'description': \"Thomas 'Tommy' Michael Shelby M.P. OBE, is the leader of the Birmingham criminal gang Peaky Blinders and the patriarch of the Shelby Family. His experiences during and after the First World War have left him disillusioned and determined to move his family up in the world.\",\n",
       "  'nicknames': ['Tom', 'Tommy', 'Thomas'],\n",
       "  'company': 'Peaky Blinders',\n",
       "  'episodes': [1, 2, 4, 5, 6]},\n",
       " {'_id': ObjectId('67583e81a78f99ccaf32bebc'),\n",
       "  'firstname': 'Arthur',\n",
       "  'lastname': 'Shelby',\n",
       "  'position': 'Associate',\n",
       "  'gender': 'Male',\n",
       "  'age': 38,\n",
       "  'description': \"Arthur Shelby Jr. is the eldest of the Shelby siblings and the tough member of Peaky Blinders, the Deputy Vice President Shelby Company Limited. He's also a member of the ICA.\",\n",
       "  'company': 'Peaky Blinders',\n",
       "  'episodes': [1, 4, 6]},\n",
       " {'_id': ObjectId('67583e81a78f99ccaf32bebd'),\n",
       "  'firstname': 'John',\n",
       "  'lastname': 'Shelby',\n",
       "  'position': 'Associate',\n",
       "  'gender': 'Male',\n",
       "  'age': 30,\n",
       "  'description': 'John Michael Shelby, also called Johnny or John Boy, was the third of Shelby siblings and a member of the Peaky Blinders.',\n",
       "  'nicknames': ['Johnny', 'John Boy'],\n",
       "  'company': 'Peaky Blinders',\n",
       "  'episodes': [4, 5, 6]},\n",
       " {'_id': ObjectId('6758571ea78f99ccaf32bec2'),\n",
       "  'firstname': 'Thomas',\n",
       "  'lastname': 'Shelby',\n",
       "  'position': 'CEO',\n",
       "  'gender': 'Male',\n",
       "  'age': 35,\n",
       "  'description': \"Thomas 'Tommy' Michael Shelby M.P. OBE, is the leader of the Birmingham criminal gang Peaky Blinders and the patriarch of the Shelby Family. His experiences during and after the First World War have left him disillusioned and determined to move his family up in the world.\",\n",
       "  'nicknames': ['Tom', 'Tommy', 'Thomas'],\n",
       "  'company': 'Peaky Blinders',\n",
       "  'episodes': [1, 2, 4, 5, 6]},\n",
       " {'_id': ObjectId('6758571ea78f99ccaf32bec3'),\n",
       "  'firstname': 'Thomas',\n",
       "  'lastname': 'Shelby',\n",
       "  'position': 'CEO',\n",
       "  'gender': 'Male',\n",
       "  'age': 35,\n",
       "  'description': \"Thomas 'Tommy' Michael Shelby M.P. OBE, is the leader of the Birmingham criminal gang Peaky Blinders and the patriarch of the Shelby Family. His experiences during and after the First World War have left him disillusioned and determined to move his family up in the world.\",\n",
       "  'nicknames': ['Tom', 'Tommy', 'Thomas'],\n",
       "  'company': 'Peaky Blinders',\n",
       "  'episodes': [1, 2, 4, 5, 6]},\n",
       " {'_id': ObjectId('6758571ea78f99ccaf32bec4'),\n",
       "  'firstname': 'Arthur',\n",
       "  'lastname': 'Shelby',\n",
       "  'position': 'Associate',\n",
       "  'gender': 'Male',\n",
       "  'age': 38,\n",
       "  'description': \"Arthur Shelby Jr. is the eldest of the Shelby siblings and the tough member of Peaky Blinders, the Deputy Vice President Shelby Company Limited. He's also a member of the ICA.\",\n",
       "  'company': 'Peaky Blinders',\n",
       "  'episodes': [1, 4, 6]},\n",
       " {'_id': ObjectId('6758571ea78f99ccaf32bec5'),\n",
       "  'firstname': 'John',\n",
       "  'lastname': 'Shelby',\n",
       "  'position': 'Associate',\n",
       "  'gender': 'Male',\n",
       "  'age': 30,\n",
       "  'description': 'John Michael Shelby, also called Johnny or John Boy, was the third of Shelby siblings and a member of the Peaky Blinders.',\n",
       "  'nicknames': ['Johnny', 'John Boy'],\n",
       "  'company': 'Peaky Blinders',\n",
       "  'episodes': [4, 5, 6]}]"
      ]
     },
     "execution_count": 100,
     "metadata": {},
     "output_type": "execute_result"
    }
   ],
   "source": [
    "list(collection_peaky.find({\"lastname\":\"Shelby\"}))"
   ]
  },
  {
   "cell_type": "code",
   "execution_count": 101,
   "metadata": {
    "ExecuteTime": {
     "end_time": "2024-10-08T13:44:52.905717Z",
     "start_time": "2024-10-08T13:44:52.902093Z"
    }
   },
   "outputs": [
    {
     "data": {
      "text/plain": [
       "{'_id': ObjectId('67583e81a78f99ccaf32bebc'),\n",
       " 'firstname': 'Arthur',\n",
       " 'lastname': 'Shelby',\n",
       " 'position': 'Associate',\n",
       " 'gender': 'Male',\n",
       " 'age': 38,\n",
       " 'description': \"Arthur Shelby Jr. is the eldest of the Shelby siblings and the tough member of Peaky Blinders, the Deputy Vice President Shelby Company Limited. He's also a member of the ICA.\",\n",
       " 'company': 'Peaky Blinders',\n",
       " 'episodes': [1, 4, 6]}"
      ]
     },
     "execution_count": 101,
     "metadata": {},
     "output_type": "execute_result"
    }
   ],
   "source": [
    "cur = collection_peaky.find({\"lastname\":\"Shelby\"}).skip(1)\n",
    "next(cur)"
   ]
  },
  {
   "cell_type": "markdown",
   "metadata": {},
   "source": [
    "On peut trier les résultats récupérés. \n",
    "\n",
    "Pour trier dans l'ordre ascendant et donc récupérer le plus jeune de la famille:"
   ]
  },
  {
   "cell_type": "code",
   "execution_count": 102,
   "metadata": {
    "ExecuteTime": {
     "end_time": "2024-10-08T13:45:01.496810Z",
     "start_time": "2024-10-08T13:45:01.492342Z"
    }
   },
   "outputs": [
    {
     "data": {
      "text/plain": [
       "{'_id': ObjectId('67583e81a78f99ccaf32bebd'), 'firstname': 'John'}"
      ]
     },
     "execution_count": 102,
     "metadata": {},
     "output_type": "execute_result"
    }
   ],
   "source": [
    "cur = collection_peaky.find({\"lastname\":\"Shelby\"}, {\"firstname\":1}).sort([(\"age\", 1)])\n",
    "next(cur)"
   ]
  },
  {
   "cell_type": "markdown",
   "metadata": {},
   "source": [
    "Pour trier dans l'ordre descendant :\n"
   ]
  },
  {
   "cell_type": "code",
   "execution_count": 103,
   "metadata": {
    "ExecuteTime": {
     "end_time": "2024-10-08T13:45:06.982793Z",
     "start_time": "2024-10-08T13:45:06.979735Z"
    }
   },
   "outputs": [
    {
     "data": {
      "text/plain": [
       "{'_id': ObjectId('67583e81a78f99ccaf32bebc'), 'firstname': 'Arthur'}"
      ]
     },
     "execution_count": 103,
     "metadata": {},
     "output_type": "execute_result"
    }
   ],
   "source": [
    "cur = collection_peaky.find({\"lastname\":\"Shelby\"}, {\"firstname\":1}).sort([(\"age\", -1)])\n",
    "next(cur)"
   ]
  },
  {
   "cell_type": "markdown",
   "metadata": {},
   "source": [
    "On peut aussi trier selon une clé puis une autre."
   ]
  },
  {
   "cell_type": "code",
   "execution_count": 104,
   "metadata": {
    "ExecuteTime": {
     "end_time": "2024-10-08T13:45:14.920223Z",
     "start_time": "2024-10-08T13:45:14.916306Z"
    }
   },
   "outputs": [
    {
     "data": {
      "text/plain": [
       "{'_id': ObjectId('67583e81a78f99ccaf32bebc'), 'firstname': 'Arthur'}"
      ]
     },
     "execution_count": 104,
     "metadata": {},
     "output_type": "execute_result"
    }
   ],
   "source": [
    "cur = collection_peaky.find({\"lastname\":\"Shelby\"}, {\"firstname\":1}).sort([(\"age\", -1), (\"firstname\", 1)])\n",
    "next(cur)"
   ]
  },
  {
   "cell_type": "markdown",
   "metadata": {},
   "source": [
    "## Indexation"
   ]
  },
  {
   "cell_type": "markdown",
   "metadata": {},
   "source": [
    "L'indexation permet d'accélérer les performances sur les requêtes. Si aucun index n'est mis en place, MongoDB doit effectuer un scan de tous les documents pour trouver ceux qui sont pertinents. L'index permet de stocker les valeurs d'un champ de façon triée pour limiter le nombre de document à parcourir pour effectuer une requête. \n",
    "\n",
    "Vous pouvez accéder à plus d'informations ici : https://docs.mongodb.com/manual/indexes/\n",
    "\n",
    "### Indexation simple\n",
    "\n",
    "L'indexation simple permet de créer l'index en fonction d'un seul champ. \n",
    "\n",
    "On spécifie alors l'ordre dans lequel l'index est créé et trié. \n",
    "\n",
    "Dans l'ordre croissant, "
   ]
  },
  {
   "cell_type": "code",
   "execution_count": 105,
   "metadata": {
    "ExecuteTime": {
     "end_time": "2024-10-08T13:45:53.091770Z",
     "start_time": "2024-10-08T13:45:53.079241Z"
    }
   },
   "outputs": [
    {
     "data": {
      "text/plain": [
       "'age_1'"
      ]
     },
     "execution_count": 105,
     "metadata": {},
     "output_type": "execute_result"
    }
   ],
   "source": [
    "collection_peaky.create_index([(\"age\", 1)])"
   ]
  },
  {
   "cell_type": "code",
   "execution_count": 106,
   "metadata": {
    "ExecuteTime": {
     "end_time": "2024-10-08T13:46:00.459256Z",
     "start_time": "2024-10-08T13:46:00.455657Z"
    }
   },
   "outputs": [
    {
     "data": {
      "text/plain": [
       "{'_id_': {'v': 2, 'key': [('_id', 1)]}, 'age_1': {'v': 2, 'key': [('age', 1)]}}"
      ]
     },
     "execution_count": 106,
     "metadata": {},
     "output_type": "execute_result"
    }
   ],
   "source": [
    "collection_peaky.index_information()"
   ]
  },
  {
   "cell_type": "markdown",
   "metadata": {},
   "source": [
    "Et dans l'ordre décroissant, "
   ]
  },
  {
   "cell_type": "code",
   "execution_count": 107,
   "metadata": {
    "ExecuteTime": {
     "end_time": "2024-10-08T13:46:02.976526Z",
     "start_time": "2024-10-08T13:46:02.962335Z"
    }
   },
   "outputs": [
    {
     "data": {
      "text/plain": [
       "'age_-1'"
      ]
     },
     "execution_count": 107,
     "metadata": {},
     "output_type": "execute_result"
    }
   ],
   "source": [
    "collection_peaky.create_index([(\"age\", -1)])"
   ]
  },
  {
   "cell_type": "code",
   "execution_count": 108,
   "metadata": {
    "ExecuteTime": {
     "end_time": "2024-10-08T13:46:03.523092Z",
     "start_time": "2024-10-08T13:46:03.519626Z"
    }
   },
   "outputs": [
    {
     "data": {
      "text/plain": [
       "{'_id_': {'v': 2, 'key': [('_id', 1)]},\n",
       " 'age_1': {'v': 2, 'key': [('age', 1)]},\n",
       " 'age_-1': {'v': 2, 'key': [('age', -1)]}}"
      ]
     },
     "execution_count": 108,
     "metadata": {},
     "output_type": "execute_result"
    }
   ],
   "source": [
    "collection_peaky.index_information()"
   ]
  },
  {
   "cell_type": "markdown",
   "metadata": {},
   "source": [
    "Pour supprimer un index en particulier : "
   ]
  },
  {
   "cell_type": "code",
   "execution_count": 109,
   "metadata": {
    "ExecuteTime": {
     "end_time": "2024-10-08T13:46:07.620918Z",
     "start_time": "2024-10-08T13:46:07.617702Z"
    }
   },
   "outputs": [],
   "source": [
    "collection_peaky.drop_index(\"age_1\")"
   ]
  },
  {
   "cell_type": "code",
   "execution_count": 110,
   "metadata": {
    "ExecuteTime": {
     "end_time": "2024-10-08T13:46:09.818044Z",
     "start_time": "2024-10-08T13:46:09.814707Z"
    }
   },
   "outputs": [
    {
     "data": {
      "text/plain": [
       "{'_id_': {'v': 2, 'key': [('_id', 1)]},\n",
       " 'age_-1': {'v': 2, 'key': [('age', -1)]}}"
      ]
     },
     "execution_count": 110,
     "metadata": {},
     "output_type": "execute_result"
    }
   ],
   "source": [
    "collection_peaky.index_information()"
   ]
  },
  {
   "cell_type": "markdown",
   "metadata": {},
   "source": [
    "Pour supprimer tous les index : "
   ]
  },
  {
   "cell_type": "code",
   "execution_count": 111,
   "metadata": {
    "ExecuteTime": {
     "end_time": "2024-10-08T13:46:12.535695Z",
     "start_time": "2024-10-08T13:46:12.532281Z"
    }
   },
   "outputs": [],
   "source": [
    "collection_peaky.drop_indexes()"
   ]
  },
  {
   "cell_type": "code",
   "execution_count": 112,
   "metadata": {
    "ExecuteTime": {
     "end_time": "2024-10-08T13:46:13.249362Z",
     "start_time": "2024-10-08T13:46:13.245969Z"
    }
   },
   "outputs": [
    {
     "data": {
      "text/plain": [
       "{'_id_': {'v': 2, 'key': [('_id', 1)]}}"
      ]
     },
     "execution_count": 112,
     "metadata": {},
     "output_type": "execute_result"
    }
   ],
   "source": [
    "collection_peaky.index_information()"
   ]
  },
  {
   "cell_type": "markdown",
   "metadata": {},
   "source": [
    "Les performances ne sont visibles que pour des collections de taille importante. Mais se ressente très rapidement et sont souvent indispensables. On peut par exemple passer de plusieurs secondes par requêtes à seulement quelques milliseconds ! Ce qui est un gain non négligeable."
   ]
  },
  {
   "cell_type": "markdown",
   "metadata": {},
   "source": [
    "### Indexation composée\n",
    "\n",
    "L'indexation composée permet de créer un index basé sur deux champs différents. L'ordre des champs spécifié dans la création d'un index est important.On peut trier dans l'ordre croissant le premier champ et dans l'ordre décroissant le deuxième champ. \n",
    "\n",
    "Il est très utile quand plusieurs champs sont souvent utilisés conjointement pour effectuer des queries. "
   ]
  },
  {
   "cell_type": "code",
   "execution_count": 113,
   "metadata": {
    "ExecuteTime": {
     "end_time": "2024-10-08T13:47:18.747710Z",
     "start_time": "2024-10-08T13:47:18.734278Z"
    }
   },
   "outputs": [
    {
     "data": {
      "text/plain": [
       "'age_-1_firstname_1'"
      ]
     },
     "execution_count": 113,
     "metadata": {},
     "output_type": "execute_result"
    }
   ],
   "source": [
    "collection_peaky.create_index([(\"age\", -1), (\"firstname\", 1)])"
   ]
  },
  {
   "cell_type": "code",
   "execution_count": 114,
   "metadata": {
    "ExecuteTime": {
     "end_time": "2024-10-08T13:47:21.075210Z",
     "start_time": "2024-10-08T13:47:21.071248Z"
    }
   },
   "outputs": [
    {
     "data": {
      "text/plain": [
       "{'_id_': {'v': 2, 'key': [('_id', 1)]},\n",
       " 'age_-1_firstname_1': {'v': 2, 'key': [('age', -1), ('firstname', 1)]}}"
      ]
     },
     "execution_count": 114,
     "metadata": {},
     "output_type": "execute_result"
    }
   ],
   "source": [
    "collection_peaky.index_information()"
   ]
  },
  {
   "cell_type": "markdown",
   "metadata": {},
   "source": [
    "\n",
    "### Indexations spéciales\n",
    "\n",
    "Mongo permet plusieurs indexations : \n",
    "\n",
    "- Text : permet de faire de la recherche naturelle de *queries* dans du texte. Cet index peut devenir très rapidement très important et prendre beaucoup de place mémoire. Cet index textuel contient un index par mot contenu dans l'ensemble des documents. Il peut aussi être très lent à créer.\n",
    "- Multiclés : permet de créer un index sur les éléments d'objets stockés dans des listes ou *arrays*.\n",
    "- 2D, 2DSphere, geoHaystack : permet de créer des index sur des données géospatiales.\n",
    "- Hash : permet de stocker les valeurs des champs sous forme de *hash*.\n",
    "\n",
    "Dans ce cours, on se contentera de faire de l'indexation textuelle.\n",
    "\n",
    "Tous ces mécanismes d'indexation permettent d'accélérer les performances des requêtes. Mais ils peuvent avoir des effets négatifs: \n",
    "\n",
    "- Sur l'occupation mémoire : Chaque index doit avoir un minimum de 8 kB et peut prendre beaucoup de place sur le disque et dans la mémoire RAM.\n",
    "- Sur le temps d'exécution : les opérations d'insertion et d'écriture peuvent être longues puisque Mongo doit insérer chaque nouveau document dans l'index en plus de l'insertion dans la collection.\n",
    "\n",
    "Exemple : \n",
    "\n",
    "Pour créer un index textuel sur la description des personnages : \n"
   ]
  },
  {
   "cell_type": "code",
   "execution_count": 115,
   "metadata": {
    "ExecuteTime": {
     "end_time": "2024-10-08T13:48:13.621452Z",
     "start_time": "2024-10-08T13:48:13.606467Z"
    }
   },
   "outputs": [
    {
     "data": {
      "text/plain": [
       "'description_text'"
      ]
     },
     "execution_count": 115,
     "metadata": {},
     "output_type": "execute_result"
    }
   ],
   "source": [
    "collection_peaky.create_index([(\"description\",  \"text\")])"
   ]
  },
  {
   "cell_type": "code",
   "execution_count": 116,
   "metadata": {
    "ExecuteTime": {
     "end_time": "2024-10-08T13:48:15.512243Z",
     "start_time": "2024-10-08T13:48:15.508516Z"
    }
   },
   "outputs": [
    {
     "data": {
      "text/plain": [
       "{'_id_': {'v': 2, 'key': [('_id', 1)]},\n",
       " 'age_-1_firstname_1': {'v': 2, 'key': [('age', -1), ('firstname', 1)]},\n",
       " 'description_text': {'v': 2,\n",
       "  'key': [('_fts', 'text'), ('_ftsx', 1)],\n",
       "  'weights': SON([('description', 1)]),\n",
       "  'default_language': 'english',\n",
       "  'language_override': 'language',\n",
       "  'textIndexVersion': 3}}"
      ]
     },
     "execution_count": 116,
     "metadata": {},
     "output_type": "execute_result"
    }
   ],
   "source": [
    "collection_peaky.index_information()"
   ]
  },
  {
   "cell_type": "markdown",
   "metadata": {},
   "source": [
    "Uniquement après que cet index de texte ait été créé, on peut utiliser la méthode `find()` avec l'argument `$text` pour faire une requête dans le texte.\n"
   ]
  },
  {
   "cell_type": "code",
   "execution_count": 117,
   "metadata": {
    "ExecuteTime": {
     "end_time": "2024-10-08T13:48:29.899015Z",
     "start_time": "2024-10-08T13:48:29.893277Z"
    }
   },
   "outputs": [
    {
     "data": {
      "text/plain": [
       "{'_id': ObjectId('6758571ea78f99ccaf32bec6'),\n",
       " 'firstname': 'Ada',\n",
       " 'lastname': 'Thorne',\n",
       " 'position': 'HR',\n",
       " 'gender': 'Female',\n",
       " 'age': 28,\n",
       " 'description': \"Ada Thorne is the fourth and only female of the Shelby sibling. She's the Head of Acquisitions of the Shelby Company Limited.\",\n",
       " 'nicknames': ['Ada Shelby'],\n",
       " 'company': 'Peaky Blinders',\n",
       " 'episodes': [1, 2, 6]}"
      ]
     },
     "execution_count": 117,
     "metadata": {},
     "output_type": "execute_result"
    }
   ],
   "source": [
    "cur = collection_peaky.find( { \"$text\": { \"$search\": \"female\" } } )\n",
    "next(cur)"
   ]
  },
  {
   "cell_type": "markdown",
   "metadata": {},
   "source": [
    "    \n",
    "#### Exercice\n",
    "\n",
    "Supprimez tous les index créés et réessayez de faire la même requête textuelle. Que se passe-t-il ?\n"
   ]
  },
  {
   "cell_type": "code",
   "execution_count": 118,
   "metadata": {},
   "outputs": [
    {
     "ename": "OperationFailure",
     "evalue": "text index required for $text query, full error: {'ok': 0.0, 'errmsg': 'text index required for $text query', 'code': 27, 'codeName': 'IndexNotFound'}",
     "output_type": "error",
     "traceback": [
      "\u001b[0;31m---------------------------------------------------------------------------\u001b[0m",
      "\u001b[0;31mOperationFailure\u001b[0m                          Traceback (most recent call last)",
      "Cell \u001b[0;32mIn[118], line 6\u001b[0m\n\u001b[1;32m      4\u001b[0m \u001b[38;5;66;03m# requêtes\u001b[39;00m\n\u001b[1;32m      5\u001b[0m cur \u001b[38;5;241m=\u001b[39m collection_peaky\u001b[38;5;241m.\u001b[39mfind( { \u001b[38;5;124m\"\u001b[39m\u001b[38;5;124m$text\u001b[39m\u001b[38;5;124m\"\u001b[39m: { \u001b[38;5;124m\"\u001b[39m\u001b[38;5;124m$search\u001b[39m\u001b[38;5;124m\"\u001b[39m: \u001b[38;5;124m\"\u001b[39m\u001b[38;5;124mfemale\u001b[39m\u001b[38;5;124m\"\u001b[39m } } )\n\u001b[0;32m----> 6\u001b[0m \u001b[38;5;28;43mnext\u001b[39;49m\u001b[43m(\u001b[49m\u001b[43mcur\u001b[49m\u001b[43m)\u001b[49m\n",
      "File \u001b[0;32m~/.local/share/virtualenvs/DataEngineerTools-d_IoKyOp/lib/python3.12/site-packages/pymongo/synchronous/cursor.py:1281\u001b[0m, in \u001b[0;36mCursor.__next__\u001b[0;34m(self)\u001b[0m\n\u001b[1;32m   1280\u001b[0m \u001b[38;5;28;01mdef\u001b[39;00m \u001b[38;5;21m__next__\u001b[39m(\u001b[38;5;28mself\u001b[39m) \u001b[38;5;241m-\u001b[39m\u001b[38;5;241m>\u001b[39m _DocumentType:\n\u001b[0;32m-> 1281\u001b[0m     \u001b[38;5;28;01mreturn\u001b[39;00m \u001b[38;5;28;43mself\u001b[39;49m\u001b[38;5;241;43m.\u001b[39;49m\u001b[43mnext\u001b[49m\u001b[43m(\u001b[49m\u001b[43m)\u001b[49m\n",
      "File \u001b[0;32m~/.local/share/virtualenvs/DataEngineerTools-d_IoKyOp/lib/python3.12/site-packages/pymongo/synchronous/cursor.py:1257\u001b[0m, in \u001b[0;36mCursor.next\u001b[0;34m(self)\u001b[0m\n\u001b[1;32m   1255\u001b[0m \u001b[38;5;28;01mif\u001b[39;00m \u001b[38;5;28mself\u001b[39m\u001b[38;5;241m.\u001b[39m_empty:\n\u001b[1;32m   1256\u001b[0m     \u001b[38;5;28;01mraise\u001b[39;00m \u001b[38;5;167;01mStopIteration\u001b[39;00m\n\u001b[0;32m-> 1257\u001b[0m \u001b[38;5;28;01mif\u001b[39;00m \u001b[38;5;28mlen\u001b[39m(\u001b[38;5;28mself\u001b[39m\u001b[38;5;241m.\u001b[39m_data) \u001b[38;5;129;01mor\u001b[39;00m \u001b[38;5;28;43mself\u001b[39;49m\u001b[38;5;241;43m.\u001b[39;49m\u001b[43m_refresh\u001b[49m\u001b[43m(\u001b[49m\u001b[43m)\u001b[49m:\n\u001b[1;32m   1258\u001b[0m     \u001b[38;5;28;01mreturn\u001b[39;00m \u001b[38;5;28mself\u001b[39m\u001b[38;5;241m.\u001b[39m_data\u001b[38;5;241m.\u001b[39mpopleft()\n\u001b[1;32m   1259\u001b[0m \u001b[38;5;28;01melse\u001b[39;00m:\n",
      "File \u001b[0;32m~/.local/share/virtualenvs/DataEngineerTools-d_IoKyOp/lib/python3.12/site-packages/pymongo/synchronous/cursor.py:1205\u001b[0m, in \u001b[0;36mCursor._refresh\u001b[0;34m(self)\u001b[0m\n\u001b[1;32m   1183\u001b[0m         \u001b[38;5;28;01mraise\u001b[39;00m InvalidOperation(\n\u001b[1;32m   1184\u001b[0m             \u001b[38;5;124m\"\u001b[39m\u001b[38;5;124mPassing a \u001b[39m\u001b[38;5;124m'\u001b[39m\u001b[38;5;124mhint\u001b[39m\u001b[38;5;124m'\u001b[39m\u001b[38;5;124m is required when using the min/max query\u001b[39m\u001b[38;5;124m\"\u001b[39m\n\u001b[1;32m   1185\u001b[0m             \u001b[38;5;124m\"\u001b[39m\u001b[38;5;124m option to ensure the query utilizes the correct index\u001b[39m\u001b[38;5;124m\"\u001b[39m\n\u001b[1;32m   1186\u001b[0m         )\n\u001b[1;32m   1187\u001b[0m     q \u001b[38;5;241m=\u001b[39m \u001b[38;5;28mself\u001b[39m\u001b[38;5;241m.\u001b[39m_query_class(\n\u001b[1;32m   1188\u001b[0m         \u001b[38;5;28mself\u001b[39m\u001b[38;5;241m.\u001b[39m_query_flags,\n\u001b[1;32m   1189\u001b[0m         \u001b[38;5;28mself\u001b[39m\u001b[38;5;241m.\u001b[39m_collection\u001b[38;5;241m.\u001b[39mdatabase\u001b[38;5;241m.\u001b[39mname,\n\u001b[0;32m   (...)\u001b[0m\n\u001b[1;32m   1203\u001b[0m         \u001b[38;5;28mself\u001b[39m\u001b[38;5;241m.\u001b[39m_exhaust,\n\u001b[1;32m   1204\u001b[0m     )\n\u001b[0;32m-> 1205\u001b[0m     \u001b[38;5;28;43mself\u001b[39;49m\u001b[38;5;241;43m.\u001b[39;49m\u001b[43m_send_message\u001b[49m\u001b[43m(\u001b[49m\u001b[43mq\u001b[49m\u001b[43m)\u001b[49m\n\u001b[1;32m   1206\u001b[0m \u001b[38;5;28;01melif\u001b[39;00m \u001b[38;5;28mself\u001b[39m\u001b[38;5;241m.\u001b[39m_id:  \u001b[38;5;66;03m# Get More\u001b[39;00m\n\u001b[1;32m   1207\u001b[0m     \u001b[38;5;28;01mif\u001b[39;00m \u001b[38;5;28mself\u001b[39m\u001b[38;5;241m.\u001b[39m_limit:\n",
      "File \u001b[0;32m~/.local/share/virtualenvs/DataEngineerTools-d_IoKyOp/lib/python3.12/site-packages/pymongo/synchronous/cursor.py:1100\u001b[0m, in \u001b[0;36mCursor._send_message\u001b[0;34m(self, operation)\u001b[0m\n\u001b[1;32m   1097\u001b[0m     \u001b[38;5;28;01mraise\u001b[39;00m InvalidOperation(\u001b[38;5;124m\"\u001b[39m\u001b[38;5;124mexhaust cursors do not support auto encryption\u001b[39m\u001b[38;5;124m\"\u001b[39m)\n\u001b[1;32m   1099\u001b[0m \u001b[38;5;28;01mtry\u001b[39;00m:\n\u001b[0;32m-> 1100\u001b[0m     response \u001b[38;5;241m=\u001b[39m \u001b[43mclient\u001b[49m\u001b[38;5;241;43m.\u001b[39;49m\u001b[43m_run_operation\u001b[49m\u001b[43m(\u001b[49m\n\u001b[1;32m   1101\u001b[0m \u001b[43m        \u001b[49m\u001b[43moperation\u001b[49m\u001b[43m,\u001b[49m\u001b[43m \u001b[49m\u001b[38;5;28;43mself\u001b[39;49m\u001b[38;5;241;43m.\u001b[39;49m\u001b[43m_unpack_response\u001b[49m\u001b[43m,\u001b[49m\u001b[43m \u001b[49m\u001b[43maddress\u001b[49m\u001b[38;5;241;43m=\u001b[39;49m\u001b[38;5;28;43mself\u001b[39;49m\u001b[38;5;241;43m.\u001b[39;49m\u001b[43m_address\u001b[49m\n\u001b[1;32m   1102\u001b[0m \u001b[43m    \u001b[49m\u001b[43m)\u001b[49m\n\u001b[1;32m   1103\u001b[0m \u001b[38;5;28;01mexcept\u001b[39;00m OperationFailure \u001b[38;5;28;01mas\u001b[39;00m exc:\n\u001b[1;32m   1104\u001b[0m     \u001b[38;5;28;01mif\u001b[39;00m exc\u001b[38;5;241m.\u001b[39mcode \u001b[38;5;129;01min\u001b[39;00m _CURSOR_CLOSED_ERRORS \u001b[38;5;129;01mor\u001b[39;00m \u001b[38;5;28mself\u001b[39m\u001b[38;5;241m.\u001b[39m_exhaust:\n\u001b[1;32m   1105\u001b[0m         \u001b[38;5;66;03m# Don't send killCursors because the cursor is already closed.\u001b[39;00m\n",
      "File \u001b[0;32m~/.local/share/virtualenvs/DataEngineerTools-d_IoKyOp/lib/python3.12/site-packages/pymongo/_csot.py:120\u001b[0m, in \u001b[0;36mapply.<locals>.csot_wrapper\u001b[0;34m(self, *args, **kwargs)\u001b[0m\n\u001b[1;32m    118\u001b[0m         \u001b[38;5;28;01mwith\u001b[39;00m _TimeoutContext(timeout):\n\u001b[1;32m    119\u001b[0m             \u001b[38;5;28;01mreturn\u001b[39;00m func(\u001b[38;5;28mself\u001b[39m, \u001b[38;5;241m*\u001b[39margs, \u001b[38;5;241m*\u001b[39m\u001b[38;5;241m*\u001b[39mkwargs)\n\u001b[0;32m--> 120\u001b[0m \u001b[38;5;28;01mreturn\u001b[39;00m \u001b[43mfunc\u001b[49m\u001b[43m(\u001b[49m\u001b[38;5;28;43mself\u001b[39;49m\u001b[43m,\u001b[49m\u001b[43m \u001b[49m\u001b[38;5;241;43m*\u001b[39;49m\u001b[43margs\u001b[49m\u001b[43m,\u001b[49m\u001b[43m \u001b[49m\u001b[38;5;241;43m*\u001b[39;49m\u001b[38;5;241;43m*\u001b[39;49m\u001b[43mkwargs\u001b[49m\u001b[43m)\u001b[49m\n",
      "File \u001b[0;32m~/.local/share/virtualenvs/DataEngineerTools-d_IoKyOp/lib/python3.12/site-packages/pymongo/synchronous/mongo_client.py:1754\u001b[0m, in \u001b[0;36mMongoClient._run_operation\u001b[0;34m(self, operation, unpack_res, address)\u001b[0m\n\u001b[1;32m   1744\u001b[0m     operation\u001b[38;5;241m.\u001b[39mreset()  \u001b[38;5;66;03m# Reset op in case of retry.\u001b[39;00m\n\u001b[1;32m   1745\u001b[0m     \u001b[38;5;28;01mreturn\u001b[39;00m server\u001b[38;5;241m.\u001b[39mrun_operation(\n\u001b[1;32m   1746\u001b[0m         conn,\n\u001b[1;32m   1747\u001b[0m         operation,\n\u001b[0;32m   (...)\u001b[0m\n\u001b[1;32m   1751\u001b[0m         \u001b[38;5;28mself\u001b[39m,\n\u001b[1;32m   1752\u001b[0m     )\n\u001b[0;32m-> 1754\u001b[0m \u001b[38;5;28;01mreturn\u001b[39;00m \u001b[38;5;28;43mself\u001b[39;49m\u001b[38;5;241;43m.\u001b[39;49m\u001b[43m_retryable_read\u001b[49m\u001b[43m(\u001b[49m\n\u001b[1;32m   1755\u001b[0m \u001b[43m    \u001b[49m\u001b[43m_cmd\u001b[49m\u001b[43m,\u001b[49m\n\u001b[1;32m   1756\u001b[0m \u001b[43m    \u001b[49m\u001b[43moperation\u001b[49m\u001b[38;5;241;43m.\u001b[39;49m\u001b[43mread_preference\u001b[49m\u001b[43m,\u001b[49m\n\u001b[1;32m   1757\u001b[0m \u001b[43m    \u001b[49m\u001b[43moperation\u001b[49m\u001b[38;5;241;43m.\u001b[39;49m\u001b[43msession\u001b[49m\u001b[43m,\u001b[49m\u001b[43m  \u001b[49m\u001b[38;5;66;43;03m# type: ignore[arg-type]\u001b[39;49;00m\n\u001b[1;32m   1758\u001b[0m \u001b[43m    \u001b[49m\u001b[43maddress\u001b[49m\u001b[38;5;241;43m=\u001b[39;49m\u001b[43maddress\u001b[49m\u001b[43m,\u001b[49m\n\u001b[1;32m   1759\u001b[0m \u001b[43m    \u001b[49m\u001b[43mretryable\u001b[49m\u001b[38;5;241;43m=\u001b[39;49m\u001b[38;5;28;43misinstance\u001b[39;49m\u001b[43m(\u001b[49m\u001b[43moperation\u001b[49m\u001b[43m,\u001b[49m\u001b[43m \u001b[49m\u001b[43m_Query\u001b[49m\u001b[43m)\u001b[49m\u001b[43m,\u001b[49m\n\u001b[1;32m   1760\u001b[0m \u001b[43m    \u001b[49m\u001b[43moperation\u001b[49m\u001b[38;5;241;43m=\u001b[39;49m\u001b[43moperation\u001b[49m\u001b[38;5;241;43m.\u001b[39;49m\u001b[43mname\u001b[49m\u001b[43m,\u001b[49m\n\u001b[1;32m   1761\u001b[0m \u001b[43m\u001b[49m\u001b[43m)\u001b[49m\n",
      "File \u001b[0;32m~/.local/share/virtualenvs/DataEngineerTools-d_IoKyOp/lib/python3.12/site-packages/pymongo/synchronous/mongo_client.py:1863\u001b[0m, in \u001b[0;36mMongoClient._retryable_read\u001b[0;34m(self, func, read_pref, session, operation, address, retryable, operation_id)\u001b[0m\n\u001b[1;32m   1858\u001b[0m \u001b[38;5;66;03m# Ensure that the client supports retrying on reads and there is no session in\u001b[39;00m\n\u001b[1;32m   1859\u001b[0m \u001b[38;5;66;03m# transaction, otherwise, we will not support retry behavior for this call.\u001b[39;00m\n\u001b[1;32m   1860\u001b[0m retryable \u001b[38;5;241m=\u001b[39m \u001b[38;5;28mbool\u001b[39m(\n\u001b[1;32m   1861\u001b[0m     retryable \u001b[38;5;129;01mand\u001b[39;00m \u001b[38;5;28mself\u001b[39m\u001b[38;5;241m.\u001b[39moptions\u001b[38;5;241m.\u001b[39mretry_reads \u001b[38;5;129;01mand\u001b[39;00m \u001b[38;5;129;01mnot\u001b[39;00m (session \u001b[38;5;129;01mand\u001b[39;00m session\u001b[38;5;241m.\u001b[39min_transaction)\n\u001b[1;32m   1862\u001b[0m )\n\u001b[0;32m-> 1863\u001b[0m \u001b[38;5;28;01mreturn\u001b[39;00m \u001b[38;5;28;43mself\u001b[39;49m\u001b[38;5;241;43m.\u001b[39;49m\u001b[43m_retry_internal\u001b[49m\u001b[43m(\u001b[49m\n\u001b[1;32m   1864\u001b[0m \u001b[43m    \u001b[49m\u001b[43mfunc\u001b[49m\u001b[43m,\u001b[49m\n\u001b[1;32m   1865\u001b[0m \u001b[43m    \u001b[49m\u001b[43msession\u001b[49m\u001b[43m,\u001b[49m\n\u001b[1;32m   1866\u001b[0m \u001b[43m    \u001b[49m\u001b[38;5;28;43;01mNone\u001b[39;49;00m\u001b[43m,\u001b[49m\n\u001b[1;32m   1867\u001b[0m \u001b[43m    \u001b[49m\u001b[43moperation\u001b[49m\u001b[43m,\u001b[49m\n\u001b[1;32m   1868\u001b[0m \u001b[43m    \u001b[49m\u001b[43mis_read\u001b[49m\u001b[38;5;241;43m=\u001b[39;49m\u001b[38;5;28;43;01mTrue\u001b[39;49;00m\u001b[43m,\u001b[49m\n\u001b[1;32m   1869\u001b[0m \u001b[43m    \u001b[49m\u001b[43maddress\u001b[49m\u001b[38;5;241;43m=\u001b[39;49m\u001b[43maddress\u001b[49m\u001b[43m,\u001b[49m\n\u001b[1;32m   1870\u001b[0m \u001b[43m    \u001b[49m\u001b[43mread_pref\u001b[49m\u001b[38;5;241;43m=\u001b[39;49m\u001b[43mread_pref\u001b[49m\u001b[43m,\u001b[49m\n\u001b[1;32m   1871\u001b[0m \u001b[43m    \u001b[49m\u001b[43mretryable\u001b[49m\u001b[38;5;241;43m=\u001b[39;49m\u001b[43mretryable\u001b[49m\u001b[43m,\u001b[49m\n\u001b[1;32m   1872\u001b[0m \u001b[43m    \u001b[49m\u001b[43moperation_id\u001b[49m\u001b[38;5;241;43m=\u001b[39;49m\u001b[43moperation_id\u001b[49m\u001b[43m,\u001b[49m\n\u001b[1;32m   1873\u001b[0m \u001b[43m\u001b[49m\u001b[43m)\u001b[49m\n",
      "File \u001b[0;32m~/.local/share/virtualenvs/DataEngineerTools-d_IoKyOp/lib/python3.12/site-packages/pymongo/_csot.py:120\u001b[0m, in \u001b[0;36mapply.<locals>.csot_wrapper\u001b[0;34m(self, *args, **kwargs)\u001b[0m\n\u001b[1;32m    118\u001b[0m         \u001b[38;5;28;01mwith\u001b[39;00m _TimeoutContext(timeout):\n\u001b[1;32m    119\u001b[0m             \u001b[38;5;28;01mreturn\u001b[39;00m func(\u001b[38;5;28mself\u001b[39m, \u001b[38;5;241m*\u001b[39margs, \u001b[38;5;241m*\u001b[39m\u001b[38;5;241m*\u001b[39mkwargs)\n\u001b[0;32m--> 120\u001b[0m \u001b[38;5;28;01mreturn\u001b[39;00m \u001b[43mfunc\u001b[49m\u001b[43m(\u001b[49m\u001b[38;5;28;43mself\u001b[39;49m\u001b[43m,\u001b[49m\u001b[43m \u001b[49m\u001b[38;5;241;43m*\u001b[39;49m\u001b[43margs\u001b[49m\u001b[43m,\u001b[49m\u001b[43m \u001b[49m\u001b[38;5;241;43m*\u001b[39;49m\u001b[38;5;241;43m*\u001b[39;49m\u001b[43mkwargs\u001b[49m\u001b[43m)\u001b[49m\n",
      "File \u001b[0;32m~/.local/share/virtualenvs/DataEngineerTools-d_IoKyOp/lib/python3.12/site-packages/pymongo/synchronous/mongo_client.py:1830\u001b[0m, in \u001b[0;36mMongoClient._retry_internal\u001b[0;34m(self, func, session, bulk, operation, is_read, address, read_pref, retryable, operation_id)\u001b[0m\n\u001b[1;32m   1793\u001b[0m \u001b[38;5;129m@_csot\u001b[39m\u001b[38;5;241m.\u001b[39mapply\n\u001b[1;32m   1794\u001b[0m \u001b[38;5;28;01mdef\u001b[39;00m \u001b[38;5;21m_retry_internal\u001b[39m(\n\u001b[1;32m   1795\u001b[0m     \u001b[38;5;28mself\u001b[39m,\n\u001b[0;32m   (...)\u001b[0m\n\u001b[1;32m   1804\u001b[0m     operation_id: Optional[\u001b[38;5;28mint\u001b[39m] \u001b[38;5;241m=\u001b[39m \u001b[38;5;28;01mNone\u001b[39;00m,\n\u001b[1;32m   1805\u001b[0m ) \u001b[38;5;241m-\u001b[39m\u001b[38;5;241m>\u001b[39m T:\n\u001b[1;32m   1806\u001b[0m \u001b[38;5;250m    \u001b[39m\u001b[38;5;124;03m\"\"\"Internal retryable helper for all client transactions.\u001b[39;00m\n\u001b[1;32m   1807\u001b[0m \n\u001b[1;32m   1808\u001b[0m \u001b[38;5;124;03m    :param func: Callback function we want to retry\u001b[39;00m\n\u001b[0;32m   (...)\u001b[0m\n\u001b[1;32m   1817\u001b[0m \u001b[38;5;124;03m    :return: Output of the calling func()\u001b[39;00m\n\u001b[1;32m   1818\u001b[0m \u001b[38;5;124;03m    \"\"\"\u001b[39;00m\n\u001b[1;32m   1819\u001b[0m     \u001b[38;5;28;01mreturn\u001b[39;00m \u001b[43m_ClientConnectionRetryable\u001b[49m\u001b[43m(\u001b[49m\n\u001b[1;32m   1820\u001b[0m \u001b[43m        \u001b[49m\u001b[43mmongo_client\u001b[49m\u001b[38;5;241;43m=\u001b[39;49m\u001b[38;5;28;43mself\u001b[39;49m\u001b[43m,\u001b[49m\n\u001b[1;32m   1821\u001b[0m \u001b[43m        \u001b[49m\u001b[43mfunc\u001b[49m\u001b[38;5;241;43m=\u001b[39;49m\u001b[43mfunc\u001b[49m\u001b[43m,\u001b[49m\n\u001b[1;32m   1822\u001b[0m \u001b[43m        \u001b[49m\u001b[43mbulk\u001b[49m\u001b[38;5;241;43m=\u001b[39;49m\u001b[43mbulk\u001b[49m\u001b[43m,\u001b[49m\n\u001b[1;32m   1823\u001b[0m \u001b[43m        \u001b[49m\u001b[43moperation\u001b[49m\u001b[38;5;241;43m=\u001b[39;49m\u001b[43moperation\u001b[49m\u001b[43m,\u001b[49m\n\u001b[1;32m   1824\u001b[0m \u001b[43m        \u001b[49m\u001b[43mis_read\u001b[49m\u001b[38;5;241;43m=\u001b[39;49m\u001b[43mis_read\u001b[49m\u001b[43m,\u001b[49m\n\u001b[1;32m   1825\u001b[0m \u001b[43m        \u001b[49m\u001b[43msession\u001b[49m\u001b[38;5;241;43m=\u001b[39;49m\u001b[43msession\u001b[49m\u001b[43m,\u001b[49m\n\u001b[1;32m   1826\u001b[0m \u001b[43m        \u001b[49m\u001b[43mread_pref\u001b[49m\u001b[38;5;241;43m=\u001b[39;49m\u001b[43mread_pref\u001b[49m\u001b[43m,\u001b[49m\n\u001b[1;32m   1827\u001b[0m \u001b[43m        \u001b[49m\u001b[43maddress\u001b[49m\u001b[38;5;241;43m=\u001b[39;49m\u001b[43maddress\u001b[49m\u001b[43m,\u001b[49m\n\u001b[1;32m   1828\u001b[0m \u001b[43m        \u001b[49m\u001b[43mretryable\u001b[49m\u001b[38;5;241;43m=\u001b[39;49m\u001b[43mretryable\u001b[49m\u001b[43m,\u001b[49m\n\u001b[1;32m   1829\u001b[0m \u001b[43m        \u001b[49m\u001b[43moperation_id\u001b[49m\u001b[38;5;241;43m=\u001b[39;49m\u001b[43moperation_id\u001b[49m\u001b[43m,\u001b[49m\n\u001b[0;32m-> 1830\u001b[0m \u001b[43m    \u001b[49m\u001b[43m)\u001b[49m\u001b[38;5;241;43m.\u001b[39;49m\u001b[43mrun\u001b[49m\u001b[43m(\u001b[49m\u001b[43m)\u001b[49m\n",
      "File \u001b[0;32m~/.local/share/virtualenvs/DataEngineerTools-d_IoKyOp/lib/python3.12/site-packages/pymongo/synchronous/mongo_client.py:2554\u001b[0m, in \u001b[0;36m_ClientConnectionRetryable.run\u001b[0;34m(self)\u001b[0m\n\u001b[1;32m   2552\u001b[0m \u001b[38;5;28mself\u001b[39m\u001b[38;5;241m.\u001b[39m_check_last_error(check_csot\u001b[38;5;241m=\u001b[39m\u001b[38;5;28;01mTrue\u001b[39;00m)\n\u001b[1;32m   2553\u001b[0m \u001b[38;5;28;01mtry\u001b[39;00m:\n\u001b[0;32m-> 2554\u001b[0m     \u001b[38;5;28;01mreturn\u001b[39;00m \u001b[38;5;28;43mself\u001b[39;49m\u001b[38;5;241;43m.\u001b[39;49m\u001b[43m_read\u001b[49m\u001b[43m(\u001b[49m\u001b[43m)\u001b[49m \u001b[38;5;28;01mif\u001b[39;00m \u001b[38;5;28mself\u001b[39m\u001b[38;5;241m.\u001b[39m_is_read \u001b[38;5;28;01melse\u001b[39;00m \u001b[38;5;28mself\u001b[39m\u001b[38;5;241m.\u001b[39m_write()\n\u001b[1;32m   2555\u001b[0m \u001b[38;5;28;01mexcept\u001b[39;00m ServerSelectionTimeoutError:\n\u001b[1;32m   2556\u001b[0m     \u001b[38;5;66;03m# The application may think the write was never attempted\u001b[39;00m\n\u001b[1;32m   2557\u001b[0m     \u001b[38;5;66;03m# if we raise ServerSelectionTimeoutError on the retry\u001b[39;00m\n\u001b[1;32m   2558\u001b[0m     \u001b[38;5;66;03m# attempt. Raise the original exception instead.\u001b[39;00m\n\u001b[1;32m   2559\u001b[0m     \u001b[38;5;28mself\u001b[39m\u001b[38;5;241m.\u001b[39m_check_last_error()\n",
      "File \u001b[0;32m~/.local/share/virtualenvs/DataEngineerTools-d_IoKyOp/lib/python3.12/site-packages/pymongo/synchronous/mongo_client.py:2697\u001b[0m, in \u001b[0;36m_ClientConnectionRetryable._read\u001b[0;34m(self)\u001b[0m\n\u001b[1;32m   2695\u001b[0m \u001b[38;5;28;01mif\u001b[39;00m \u001b[38;5;28mself\u001b[39m\u001b[38;5;241m.\u001b[39m_retrying \u001b[38;5;129;01mand\u001b[39;00m \u001b[38;5;129;01mnot\u001b[39;00m \u001b[38;5;28mself\u001b[39m\u001b[38;5;241m.\u001b[39m_retryable:\n\u001b[1;32m   2696\u001b[0m     \u001b[38;5;28mself\u001b[39m\u001b[38;5;241m.\u001b[39m_check_last_error()\n\u001b[0;32m-> 2697\u001b[0m \u001b[38;5;28;01mreturn\u001b[39;00m \u001b[38;5;28;43mself\u001b[39;49m\u001b[38;5;241;43m.\u001b[39;49m\u001b[43m_func\u001b[49m\u001b[43m(\u001b[49m\u001b[38;5;28;43mself\u001b[39;49m\u001b[38;5;241;43m.\u001b[39;49m\u001b[43m_session\u001b[49m\u001b[43m,\u001b[49m\u001b[43m \u001b[49m\u001b[38;5;28;43mself\u001b[39;49m\u001b[38;5;241;43m.\u001b[39;49m\u001b[43m_server\u001b[49m\u001b[43m,\u001b[49m\u001b[43m \u001b[49m\u001b[43mconn\u001b[49m\u001b[43m,\u001b[49m\u001b[43m \u001b[49m\u001b[43mread_pref\u001b[49m\u001b[43m)\u001b[49m\n",
      "File \u001b[0;32m~/.local/share/virtualenvs/DataEngineerTools-d_IoKyOp/lib/python3.12/site-packages/pymongo/synchronous/mongo_client.py:1745\u001b[0m, in \u001b[0;36mMongoClient._run_operation.<locals>._cmd\u001b[0;34m(_session, server, conn, read_preference)\u001b[0m\n\u001b[1;32m   1738\u001b[0m \u001b[38;5;28;01mdef\u001b[39;00m \u001b[38;5;21m_cmd\u001b[39m(\n\u001b[1;32m   1739\u001b[0m     _session: Optional[ClientSession],\n\u001b[1;32m   1740\u001b[0m     server: Server,\n\u001b[1;32m   1741\u001b[0m     conn: Connection,\n\u001b[1;32m   1742\u001b[0m     read_preference: _ServerMode,\n\u001b[1;32m   1743\u001b[0m ) \u001b[38;5;241m-\u001b[39m\u001b[38;5;241m>\u001b[39m Response:\n\u001b[1;32m   1744\u001b[0m     operation\u001b[38;5;241m.\u001b[39mreset()  \u001b[38;5;66;03m# Reset op in case of retry.\u001b[39;00m\n\u001b[0;32m-> 1745\u001b[0m     \u001b[38;5;28;01mreturn\u001b[39;00m \u001b[43mserver\u001b[49m\u001b[38;5;241;43m.\u001b[39;49m\u001b[43mrun_operation\u001b[49m\u001b[43m(\u001b[49m\n\u001b[1;32m   1746\u001b[0m \u001b[43m        \u001b[49m\u001b[43mconn\u001b[49m\u001b[43m,\u001b[49m\n\u001b[1;32m   1747\u001b[0m \u001b[43m        \u001b[49m\u001b[43moperation\u001b[49m\u001b[43m,\u001b[49m\n\u001b[1;32m   1748\u001b[0m \u001b[43m        \u001b[49m\u001b[43mread_preference\u001b[49m\u001b[43m,\u001b[49m\n\u001b[1;32m   1749\u001b[0m \u001b[43m        \u001b[49m\u001b[38;5;28;43mself\u001b[39;49m\u001b[38;5;241;43m.\u001b[39;49m\u001b[43m_event_listeners\u001b[49m\u001b[43m,\u001b[49m\n\u001b[1;32m   1750\u001b[0m \u001b[43m        \u001b[49m\u001b[43munpack_res\u001b[49m\u001b[43m,\u001b[49m\n\u001b[1;32m   1751\u001b[0m \u001b[43m        \u001b[49m\u001b[38;5;28;43mself\u001b[39;49m\u001b[43m,\u001b[49m\n\u001b[1;32m   1752\u001b[0m \u001b[43m    \u001b[49m\u001b[43m)\u001b[49m\n",
      "File \u001b[0;32m~/.local/share/virtualenvs/DataEngineerTools-d_IoKyOp/lib/python3.12/site-packages/pymongo/synchronous/helpers.py:45\u001b[0m, in \u001b[0;36m_handle_reauth.<locals>.inner\u001b[0;34m(*args, **kwargs)\u001b[0m\n\u001b[1;32m     42\u001b[0m \u001b[38;5;28;01mfrom\u001b[39;00m \u001b[38;5;21;01mpymongo\u001b[39;00m\u001b[38;5;21;01m.\u001b[39;00m\u001b[38;5;21;01msynchronous\u001b[39;00m\u001b[38;5;21;01m.\u001b[39;00m\u001b[38;5;21;01mpool\u001b[39;00m \u001b[38;5;28;01mimport\u001b[39;00m Connection\n\u001b[1;32m     44\u001b[0m \u001b[38;5;28;01mtry\u001b[39;00m:\n\u001b[0;32m---> 45\u001b[0m     \u001b[38;5;28;01mreturn\u001b[39;00m \u001b[43mfunc\u001b[49m\u001b[43m(\u001b[49m\u001b[38;5;241;43m*\u001b[39;49m\u001b[43margs\u001b[49m\u001b[43m,\u001b[49m\u001b[43m \u001b[49m\u001b[38;5;241;43m*\u001b[39;49m\u001b[38;5;241;43m*\u001b[39;49m\u001b[43mkwargs\u001b[49m\u001b[43m)\u001b[49m\n\u001b[1;32m     46\u001b[0m \u001b[38;5;28;01mexcept\u001b[39;00m OperationFailure \u001b[38;5;28;01mas\u001b[39;00m exc:\n\u001b[1;32m     47\u001b[0m     \u001b[38;5;28;01mif\u001b[39;00m no_reauth:\n",
      "File \u001b[0;32m~/.local/share/virtualenvs/DataEngineerTools-d_IoKyOp/lib/python3.12/site-packages/pymongo/synchronous/server.py:227\u001b[0m, in \u001b[0;36mServer.run_operation\u001b[0;34m(self, conn, operation, read_preference, listeners, unpack_res, client)\u001b[0m\n\u001b[1;32m    225\u001b[0m         first \u001b[38;5;241m=\u001b[39m docs[\u001b[38;5;241m0\u001b[39m]\n\u001b[1;32m    226\u001b[0m         operation\u001b[38;5;241m.\u001b[39mclient\u001b[38;5;241m.\u001b[39m_process_response(first, operation\u001b[38;5;241m.\u001b[39msession)  \u001b[38;5;66;03m# type: ignore[misc, arg-type]\u001b[39;00m\n\u001b[0;32m--> 227\u001b[0m         \u001b[43m_check_command_response\u001b[49m\u001b[43m(\u001b[49m\u001b[43mfirst\u001b[49m\u001b[43m,\u001b[49m\u001b[43m \u001b[49m\u001b[43mconn\u001b[49m\u001b[38;5;241;43m.\u001b[39;49m\u001b[43mmax_wire_version\u001b[49m\u001b[43m)\u001b[49m\n\u001b[1;32m    228\u001b[0m \u001b[38;5;28;01mexcept\u001b[39;00m \u001b[38;5;167;01mException\u001b[39;00m \u001b[38;5;28;01mas\u001b[39;00m exc:\n\u001b[1;32m    229\u001b[0m     duration \u001b[38;5;241m=\u001b[39m datetime\u001b[38;5;241m.\u001b[39mnow() \u001b[38;5;241m-\u001b[39m start\n",
      "File \u001b[0;32m~/.local/share/virtualenvs/DataEngineerTools-d_IoKyOp/lib/python3.12/site-packages/pymongo/helpers_shared.py:247\u001b[0m, in \u001b[0;36m_check_command_response\u001b[0;34m(response, max_wire_version, allowable_errors, parse_write_concern_error)\u001b[0m\n\u001b[1;32m    244\u001b[0m \u001b[38;5;28;01melif\u001b[39;00m code \u001b[38;5;241m==\u001b[39m \u001b[38;5;241m43\u001b[39m:\n\u001b[1;32m    245\u001b[0m     \u001b[38;5;28;01mraise\u001b[39;00m CursorNotFound(errmsg, code, response, max_wire_version)\n\u001b[0;32m--> 247\u001b[0m \u001b[38;5;28;01mraise\u001b[39;00m OperationFailure(errmsg, code, response, max_wire_version)\n",
      "\u001b[0;31mOperationFailure\u001b[0m: text index required for $text query, full error: {'ok': 0.0, 'errmsg': 'text index required for $text query', 'code': 27, 'codeName': 'IndexNotFound'}"
     ]
    }
   ],
   "source": [
    "# supp tous les index\n",
    "collection_peaky.drop_indexes()\n",
    "\n",
    "# requêtes\n",
    "cur = collection_peaky.find( { \"$text\": { \"$search\": \"female\" } } )\n",
    "next(cur)"
   ]
  },
  {
   "cell_type": "code",
   "execution_count": null,
   "metadata": {},
   "outputs": [],
   "source": [
    "# Message d'erreur normal car on effectue une requête alors qu'il n'y a aucun index "
   ]
  },
  {
   "cell_type": "markdown",
   "metadata": {},
   "source": [
    "## Mettre à jour\n",
    "\n",
    "La mise à jour des documents et une opération très courante dans les bases de données. MongoDB implémente trois fonctions différentes permettant de mettre à jour un ou plusieurs documents à la fois.\n",
    "\n",
    "- Mettre à jour un seul document : \n",
    "\n",
    "```\n",
    "db.<YOUR_COLLECTION_NAME>.updateOne(<filter>, <update>, <options>)\n",
    "```\n",
    "\n",
    "- Le champ `filter` est une requête comme on vient de voir précédemment ; \n",
    "- Le champ `update` permet de préciser la requête de mise à jour ;\n",
    "- Le champ `option` permet de donner des arguments à cette opération.\n",
    "\n",
    " Cette fonction va mettre à jour le premier élément renvoyé par la requête `filter`. \n",
    " \n",
    " Par exemple : \n",
    " \n"
   ]
  },
  {
   "cell_type": "code",
   "execution_count": 119,
   "metadata": {
    "ExecuteTime": {
     "end_time": "2024-10-08T13:49:16.615864Z",
     "start_time": "2024-10-08T13:49:16.611178Z"
    }
   },
   "outputs": [
    {
     "data": {
      "text/plain": [
       "UpdateResult({'n': 1, 'nModified': 1, 'ok': 1.0, 'updatedExisting': True}, acknowledged=True)"
      ]
     },
     "execution_count": 119,
     "metadata": {},
     "output_type": "execute_result"
    }
   ],
   "source": [
    "result = collection_peaky.update_one({\"firstname\":\"Thomas\"}, {\"$set\":{\"maincharacter\":True}})\n",
    "result"
   ]
  },
  {
   "cell_type": "code",
   "execution_count": 120,
   "metadata": {
    "ExecuteTime": {
     "end_time": "2024-10-08T13:49:18.025567Z",
     "start_time": "2024-10-08T13:49:18.021545Z"
    }
   },
   "outputs": [
    {
     "data": {
      "text/plain": [
       "{'_id': ObjectId('67583e81a78f99ccaf32bebb'),\n",
       " 'firstname': 'Thomas',\n",
       " 'lastname': 'Shelby',\n",
       " 'position': 'CEO',\n",
       " 'gender': 'Male',\n",
       " 'age': 35,\n",
       " 'description': \"Thomas 'Tommy' Michael Shelby M.P. OBE, is the leader of the Birmingham criminal gang Peaky Blinders and the patriarch of the Shelby Family. His experiences during and after the First World War have left him disillusioned and determined to move his family up in the world.\",\n",
       " 'nicknames': ['Tom', 'Tommy', 'Thomas'],\n",
       " 'company': 'Peaky Blinders',\n",
       " 'episodes': [1, 2, 4, 5, 6],\n",
       " 'maincharacter': True}"
      ]
     },
     "execution_count": 120,
     "metadata": {},
     "output_type": "execute_result"
    }
   ],
   "source": [
    "cur = collection_peaky.find_one({\"firstname\":\"Thomas\"})\n",
    "cur"
   ]
  },
  {
   "cell_type": "markdown",
   "metadata": {},
   "source": [
    "Ici le champ update utilise le selecteur `$set` qui permet de définir les couples clé:valeurs à mettre à jour.\n",
    "\n",
    "- Mettre à jour une liste de documents : \n",
    "\n",
    "```\n",
    "db.<YOUR_COLLECTION_NAME>.update_many(<filter>, <update>, <options>)\n",
    "```\n",
    "\n",
    "Cette fonction va mettre à jour tous les documents concernés par la requête `filter`.\n",
    "Dans l'exemple ci-dessous nous allons mettre à jour tous les éléments correspondant à la family Shelby.\n"
   ]
  },
  {
   "cell_type": "code",
   "execution_count": 121,
   "metadata": {
    "ExecuteTime": {
     "end_time": "2024-10-08T13:49:38.200277Z",
     "start_time": "2024-10-08T13:49:38.196034Z"
    }
   },
   "outputs": [
    {
     "data": {
      "text/plain": [
       "UpdateResult({'n': 7, 'nModified': 7, 'ok': 1.0, 'updatedExisting': True}, acknowledged=True)"
      ]
     },
     "execution_count": 121,
     "metadata": {},
     "output_type": "execute_result"
    }
   ],
   "source": [
    "result = collection_peaky.update_many({\"lastname\":\"Shelby\"}, {\"$set\":{\"shelbyFamily\":True}})\n",
    "result"
   ]
  },
  {
   "cell_type": "code",
   "execution_count": 122,
   "metadata": {
    "ExecuteTime": {
     "end_time": "2024-10-08T13:49:38.716953Z",
     "start_time": "2024-10-08T13:49:38.713070Z"
    }
   },
   "outputs": [
    {
     "data": {
      "text/plain": [
       "[{'_id': ObjectId('67583e81a78f99ccaf32bebb'),\n",
       "  'firstname': 'Thomas',\n",
       "  'lastname': 'Shelby',\n",
       "  'position': 'CEO',\n",
       "  'gender': 'Male',\n",
       "  'age': 35,\n",
       "  'description': \"Thomas 'Tommy' Michael Shelby M.P. OBE, is the leader of the Birmingham criminal gang Peaky Blinders and the patriarch of the Shelby Family. His experiences during and after the First World War have left him disillusioned and determined to move his family up in the world.\",\n",
       "  'nicknames': ['Tom', 'Tommy', 'Thomas'],\n",
       "  'company': 'Peaky Blinders',\n",
       "  'episodes': [1, 2, 4, 5, 6],\n",
       "  'maincharacter': True,\n",
       "  'shelbyFamily': True},\n",
       " {'_id': ObjectId('67583e81a78f99ccaf32bebc'),\n",
       "  'firstname': 'Arthur',\n",
       "  'lastname': 'Shelby',\n",
       "  'position': 'Associate',\n",
       "  'gender': 'Male',\n",
       "  'age': 38,\n",
       "  'description': \"Arthur Shelby Jr. is the eldest of the Shelby siblings and the tough member of Peaky Blinders, the Deputy Vice President Shelby Company Limited. He's also a member of the ICA.\",\n",
       "  'company': 'Peaky Blinders',\n",
       "  'episodes': [1, 4, 6],\n",
       "  'shelbyFamily': True},\n",
       " {'_id': ObjectId('67583e81a78f99ccaf32bebd'),\n",
       "  'firstname': 'John',\n",
       "  'lastname': 'Shelby',\n",
       "  'position': 'Associate',\n",
       "  'gender': 'Male',\n",
       "  'age': 30,\n",
       "  'description': 'John Michael Shelby, also called Johnny or John Boy, was the third of Shelby siblings and a member of the Peaky Blinders.',\n",
       "  'nicknames': ['Johnny', 'John Boy'],\n",
       "  'company': 'Peaky Blinders',\n",
       "  'episodes': [4, 5, 6],\n",
       "  'shelbyFamily': True},\n",
       " {'_id': ObjectId('6758571ea78f99ccaf32bec2'),\n",
       "  'firstname': 'Thomas',\n",
       "  'lastname': 'Shelby',\n",
       "  'position': 'CEO',\n",
       "  'gender': 'Male',\n",
       "  'age': 35,\n",
       "  'description': \"Thomas 'Tommy' Michael Shelby M.P. OBE, is the leader of the Birmingham criminal gang Peaky Blinders and the patriarch of the Shelby Family. His experiences during and after the First World War have left him disillusioned and determined to move his family up in the world.\",\n",
       "  'nicknames': ['Tom', 'Tommy', 'Thomas'],\n",
       "  'company': 'Peaky Blinders',\n",
       "  'episodes': [1, 2, 4, 5, 6],\n",
       "  'shelbyFamily': True},\n",
       " {'_id': ObjectId('6758571ea78f99ccaf32bec3'),\n",
       "  'firstname': 'Thomas',\n",
       "  'lastname': 'Shelby',\n",
       "  'position': 'CEO',\n",
       "  'gender': 'Male',\n",
       "  'age': 35,\n",
       "  'description': \"Thomas 'Tommy' Michael Shelby M.P. OBE, is the leader of the Birmingham criminal gang Peaky Blinders and the patriarch of the Shelby Family. His experiences during and after the First World War have left him disillusioned and determined to move his family up in the world.\",\n",
       "  'nicknames': ['Tom', 'Tommy', 'Thomas'],\n",
       "  'company': 'Peaky Blinders',\n",
       "  'episodes': [1, 2, 4, 5, 6],\n",
       "  'shelbyFamily': True},\n",
       " {'_id': ObjectId('6758571ea78f99ccaf32bec4'),\n",
       "  'firstname': 'Arthur',\n",
       "  'lastname': 'Shelby',\n",
       "  'position': 'Associate',\n",
       "  'gender': 'Male',\n",
       "  'age': 38,\n",
       "  'description': \"Arthur Shelby Jr. is the eldest of the Shelby siblings and the tough member of Peaky Blinders, the Deputy Vice President Shelby Company Limited. He's also a member of the ICA.\",\n",
       "  'company': 'Peaky Blinders',\n",
       "  'episodes': [1, 4, 6],\n",
       "  'shelbyFamily': True},\n",
       " {'_id': ObjectId('6758571ea78f99ccaf32bec5'),\n",
       "  'firstname': 'John',\n",
       "  'lastname': 'Shelby',\n",
       "  'position': 'Associate',\n",
       "  'gender': 'Male',\n",
       "  'age': 30,\n",
       "  'description': 'John Michael Shelby, also called Johnny or John Boy, was the third of Shelby siblings and a member of the Peaky Blinders.',\n",
       "  'nicknames': ['Johnny', 'John Boy'],\n",
       "  'company': 'Peaky Blinders',\n",
       "  'episodes': [4, 5, 6],\n",
       "  'shelbyFamily': True}]"
      ]
     },
     "execution_count": 122,
     "metadata": {},
     "output_type": "execute_result"
    }
   ],
   "source": [
    "cur = collection_peaky.find({\"lastname\":\"Shelby\"})\n",
    "list(cur)"
   ]
  },
  {
   "cell_type": "markdown",
   "metadata": {},
   "source": [
    "\n",
    "L'option `upsert` peut être très intéressante. Elle permet d'ajouter un document s'il n'existe pas déjà directement depuis la fonction `update()`. Par défaut, cette option est `false`. \n",
    " \n",
    " \n",
    "```\n",
    "db.<YOUR_COLLECTION_NAME>.update(<filter>, <update>, {upsert: true})\n",
    "```\n",
    "    "
   ]
  },
  {
   "cell_type": "markdown",
   "metadata": {},
   "source": [
    "## Supprimer \n",
    "\n",
    "Pour supprimer des documents, comme pour la mise à jour, il existe deux méthodes : \n",
    "\n",
    "- `deleteMany({ <field1>: <value1>, ... }`\n",
    "- `deleteOne({ <field1>: <value1>, ... }`\n",
    "\n",
    "Pour supprimer tous les documents possédant une condition : \n"
   ]
  },
  {
   "cell_type": "code",
   "execution_count": 123,
   "metadata": {
    "ExecuteTime": {
     "end_time": "2024-10-08T13:50:19.235452Z",
     "start_time": "2024-10-08T13:50:19.231234Z"
    }
   },
   "outputs": [
    {
     "data": {
      "text/plain": [
       "DeleteResult({'n': 4, 'ok': 1.0}, acknowledged=True)"
      ]
     },
     "execution_count": 123,
     "metadata": {},
     "output_type": "execute_result"
    }
   ],
   "source": [
    "result = collection_peaky.delete_many({\"lastname\": \"Gray\"})\n",
    "result"
   ]
  },
  {
   "cell_type": "code",
   "execution_count": 125,
   "metadata": {
    "ExecuteTime": {
     "end_time": "2024-10-08T13:50:22.907240Z",
     "start_time": "2024-10-08T13:50:22.897432Z"
    }
   },
   "outputs": [
    {
     "ename": "StopIteration",
     "evalue": "",
     "output_type": "error",
     "traceback": [
      "\u001b[0;31m---------------------------------------------------------------------------\u001b[0m",
      "\u001b[0;31mStopIteration\u001b[0m                             Traceback (most recent call last)",
      "Cell \u001b[0;32mIn[125], line 2\u001b[0m\n\u001b[1;32m      1\u001b[0m cur \u001b[38;5;241m=\u001b[39m collection_peaky\u001b[38;5;241m.\u001b[39mfind({\u001b[38;5;124m\"\u001b[39m\u001b[38;5;124mlastname\u001b[39m\u001b[38;5;124m\"\u001b[39m: \u001b[38;5;124m\"\u001b[39m\u001b[38;5;124mGray\u001b[39m\u001b[38;5;124m\"\u001b[39m})\n\u001b[0;32m----> 2\u001b[0m \u001b[38;5;28;43mnext\u001b[39;49m\u001b[43m(\u001b[49m\u001b[43mcur\u001b[49m\u001b[43m)\u001b[49m\n",
      "File \u001b[0;32m~/.local/share/virtualenvs/DataEngineerTools-d_IoKyOp/lib/python3.12/site-packages/pymongo/synchronous/cursor.py:1281\u001b[0m, in \u001b[0;36mCursor.__next__\u001b[0;34m(self)\u001b[0m\n\u001b[1;32m   1280\u001b[0m \u001b[38;5;28;01mdef\u001b[39;00m \u001b[38;5;21m__next__\u001b[39m(\u001b[38;5;28mself\u001b[39m) \u001b[38;5;241m-\u001b[39m\u001b[38;5;241m>\u001b[39m _DocumentType:\n\u001b[0;32m-> 1281\u001b[0m     \u001b[38;5;28;01mreturn\u001b[39;00m \u001b[38;5;28;43mself\u001b[39;49m\u001b[38;5;241;43m.\u001b[39;49m\u001b[43mnext\u001b[49m\u001b[43m(\u001b[49m\u001b[43m)\u001b[49m\n",
      "File \u001b[0;32m~/.local/share/virtualenvs/DataEngineerTools-d_IoKyOp/lib/python3.12/site-packages/pymongo/synchronous/cursor.py:1260\u001b[0m, in \u001b[0;36mCursor.next\u001b[0;34m(self)\u001b[0m\n\u001b[1;32m   1258\u001b[0m     \u001b[38;5;28;01mreturn\u001b[39;00m \u001b[38;5;28mself\u001b[39m\u001b[38;5;241m.\u001b[39m_data\u001b[38;5;241m.\u001b[39mpopleft()\n\u001b[1;32m   1259\u001b[0m \u001b[38;5;28;01melse\u001b[39;00m:\n\u001b[0;32m-> 1260\u001b[0m     \u001b[38;5;28;01mraise\u001b[39;00m \u001b[38;5;167;01mStopIteration\u001b[39;00m\n",
      "\u001b[0;31mStopIteration\u001b[0m: "
     ]
    }
   ],
   "source": [
    "cur = collection_peaky.find({\"lastname\": \"Gray\"})\n",
    "next(cur)"
   ]
  },
  {
   "cell_type": "markdown",
   "metadata": {},
   "source": [
    "Plus aucun document ne possède ces propriétés.\n",
    "\n",
    "Pour supprimer un seul document (ou le premier si la condition n'est pas assez restrictive) :"
   ]
  },
  {
   "cell_type": "code",
   "execution_count": 126,
   "metadata": {
    "ExecuteTime": {
     "end_time": "2024-10-08T13:50:33.235079Z",
     "start_time": "2024-10-08T13:50:33.230646Z"
    }
   },
   "outputs": [
    {
     "data": {
      "text/plain": [
       "DeleteResult({'n': 1, 'ok': 1.0}, acknowledged=True)"
      ]
     },
     "execution_count": 126,
     "metadata": {},
     "output_type": "execute_result"
    }
   ],
   "source": [
    "result = collection_peaky.delete_one({\"firstname\": \"Arthur\"})\n",
    "result"
   ]
  },
  {
   "cell_type": "code",
   "execution_count": 127,
   "metadata": {
    "ExecuteTime": {
     "end_time": "2024-10-08T13:50:34.249901Z",
     "start_time": "2024-10-08T13:50:34.237920Z"
    }
   },
   "outputs": [
    {
     "data": {
      "text/plain": [
       "{'_id': ObjectId('6758571ea78f99ccaf32bec4'),\n",
       " 'firstname': 'Arthur',\n",
       " 'lastname': 'Shelby',\n",
       " 'position': 'Associate',\n",
       " 'gender': 'Male',\n",
       " 'age': 38,\n",
       " 'description': \"Arthur Shelby Jr. is the eldest of the Shelby siblings and the tough member of Peaky Blinders, the Deputy Vice President Shelby Company Limited. He's also a member of the ICA.\",\n",
       " 'company': 'Peaky Blinders',\n",
       " 'episodes': [1, 4, 6],\n",
       " 'shelbyFamily': True}"
      ]
     },
     "execution_count": 127,
     "metadata": {},
     "output_type": "execute_result"
    }
   ],
   "source": [
    "cur = collection_peaky.find({\"firstname\": \"Arthur\"})\n",
    "next(cur)"
   ]
  },
  {
   "cell_type": "markdown",
   "metadata": {},
   "source": [
    "Pour supprimer tous les documents de la collection : \n"
   ]
  },
  {
   "cell_type": "code",
   "execution_count": 128,
   "metadata": {
    "ExecuteTime": {
     "end_time": "2024-10-08T13:50:48.340111Z",
     "start_time": "2024-10-08T13:50:48.335677Z"
    }
   },
   "outputs": [
    {
     "data": {
      "text/plain": [
       "DeleteResult({'n': 8, 'ok': 1.0}, acknowledged=True)"
      ]
     },
     "execution_count": 128,
     "metadata": {},
     "output_type": "execute_result"
    }
   ],
   "source": [
    "result = collection_peaky.delete_many({})\n",
    "result"
   ]
  },
  {
   "cell_type": "code",
   "execution_count": 129,
   "metadata": {
    "ExecuteTime": {
     "end_time": "2024-10-08T13:50:49.224561Z",
     "start_time": "2024-10-08T13:50:49.211534Z"
    }
   },
   "outputs": [
    {
     "ename": "StopIteration",
     "evalue": "",
     "output_type": "error",
     "traceback": [
      "\u001b[0;31m---------------------------------------------------------------------------\u001b[0m",
      "\u001b[0;31mStopIteration\u001b[0m                             Traceback (most recent call last)",
      "Cell \u001b[0;32mIn[129], line 2\u001b[0m\n\u001b[1;32m      1\u001b[0m cur \u001b[38;5;241m=\u001b[39m collection_peaky\u001b[38;5;241m.\u001b[39mfind()\n\u001b[0;32m----> 2\u001b[0m \u001b[38;5;28;43mnext\u001b[39;49m\u001b[43m(\u001b[49m\u001b[43mcur\u001b[49m\u001b[43m)\u001b[49m\n",
      "File \u001b[0;32m~/.local/share/virtualenvs/DataEngineerTools-d_IoKyOp/lib/python3.12/site-packages/pymongo/synchronous/cursor.py:1281\u001b[0m, in \u001b[0;36mCursor.__next__\u001b[0;34m(self)\u001b[0m\n\u001b[1;32m   1280\u001b[0m \u001b[38;5;28;01mdef\u001b[39;00m \u001b[38;5;21m__next__\u001b[39m(\u001b[38;5;28mself\u001b[39m) \u001b[38;5;241m-\u001b[39m\u001b[38;5;241m>\u001b[39m _DocumentType:\n\u001b[0;32m-> 1281\u001b[0m     \u001b[38;5;28;01mreturn\u001b[39;00m \u001b[38;5;28;43mself\u001b[39;49m\u001b[38;5;241;43m.\u001b[39;49m\u001b[43mnext\u001b[49m\u001b[43m(\u001b[49m\u001b[43m)\u001b[49m\n",
      "File \u001b[0;32m~/.local/share/virtualenvs/DataEngineerTools-d_IoKyOp/lib/python3.12/site-packages/pymongo/synchronous/cursor.py:1260\u001b[0m, in \u001b[0;36mCursor.next\u001b[0;34m(self)\u001b[0m\n\u001b[1;32m   1258\u001b[0m     \u001b[38;5;28;01mreturn\u001b[39;00m \u001b[38;5;28mself\u001b[39m\u001b[38;5;241m.\u001b[39m_data\u001b[38;5;241m.\u001b[39mpopleft()\n\u001b[1;32m   1259\u001b[0m \u001b[38;5;28;01melse\u001b[39;00m:\n\u001b[0;32m-> 1260\u001b[0m     \u001b[38;5;28;01mraise\u001b[39;00m \u001b[38;5;167;01mStopIteration\u001b[39;00m\n",
      "\u001b[0;31mStopIteration\u001b[0m: "
     ]
    }
   ],
   "source": [
    "cur = collection_peaky.find()\n",
    "next(cur)"
   ]
  },
  {
   "cell_type": "markdown",
   "metadata": {},
   "source": [
    "Plus aucun document n'est présent dans la collection\n",
    "\n",
    "Quelques choses à savoir : \n",
    "\n",
    "- La méthode `deleteMany()` applique une fonction à tous les documents. Toutes les fonctions en Mongo sont atomiques ce qui veut dire qu'elles s'appliquent à chaque document indépendamment les uns des autres.\n",
    "- La méthode `delete()` ne supprime pas les index, même si on supprime tous les documents de la collection.\n"
   ]
  },
  {
   "cell_type": "markdown",
   "metadata": {},
   "source": [
    "### Exercice \n",
    "\n",
    "Maintenant que la collection est vide, réintégrez les données précédemment supprimés. "
   ]
  },
  {
   "cell_type": "code",
   "execution_count": 136,
   "metadata": {
    "ExecuteTime": {
     "end_time": "2024-10-08T13:51:11.478692Z",
     "start_time": "2024-10-08T13:51:11.477167Z"
    }
   },
   "outputs": [
    {
     "ename": "BulkWriteError",
     "evalue": "batch op errors occurred, full error: {'writeErrors': [{'index': 0, 'code': 11000, 'errmsg': \"E11000 duplicate key error collection: series.peaky index: _id_ dup key: { _id: ObjectId('6758571ea78f99ccaf32bec3') }\", 'keyPattern': {'_id': 1}, 'keyValue': {'_id': ObjectId('6758571ea78f99ccaf32bec3')}, 'op': {'firstname': 'Thomas', 'lastname': 'Shelby', 'position': 'CEO', 'gender': 'Male', 'age': 35, 'description': \"Thomas 'Tommy' Michael Shelby M.P. OBE, is the leader of the Birmingham criminal gang Peaky Blinders and the patriarch of the Shelby Family. His experiences during and after the First World War have left him disillusioned and determined to move his family up in the world.\", 'nicknames': ['Tom', 'Tommy', 'Thomas'], 'company': 'Peaky Blinders', 'episodes': [1, 2, 4, 5, 6], '_id': ObjectId('6758571ea78f99ccaf32bec3')}}], 'writeConcernErrors': [], 'nInserted': 0, 'nUpserted': 0, 'nMatched': 0, 'nModified': 0, 'nRemoved': 0, 'upserted': []}",
     "output_type": "error",
     "traceback": [
      "\u001b[0;31m---------------------------------------------------------------------------\u001b[0m",
      "\u001b[0;31mBulkWriteError\u001b[0m                            Traceback (most recent call last)",
      "Cell \u001b[0;32mIn[136], line 1\u001b[0m\n\u001b[0;32m----> 1\u001b[0m \u001b[43mcollection_peaky\u001b[49m\u001b[38;5;241;43m.\u001b[39;49m\u001b[43minsert_many\u001b[49m\u001b[43m(\u001b[49m\u001b[43mDOCUMENTS\u001b[49m\u001b[43m)\u001b[49m\n",
      "File \u001b[0;32m~/.local/share/virtualenvs/DataEngineerTools-d_IoKyOp/lib/python3.12/site-packages/pymongo/_csot.py:120\u001b[0m, in \u001b[0;36mapply.<locals>.csot_wrapper\u001b[0;34m(self, *args, **kwargs)\u001b[0m\n\u001b[1;32m    118\u001b[0m         \u001b[38;5;28;01mwith\u001b[39;00m _TimeoutContext(timeout):\n\u001b[1;32m    119\u001b[0m             \u001b[38;5;28;01mreturn\u001b[39;00m func(\u001b[38;5;28mself\u001b[39m, \u001b[38;5;241m*\u001b[39margs, \u001b[38;5;241m*\u001b[39m\u001b[38;5;241m*\u001b[39mkwargs)\n\u001b[0;32m--> 120\u001b[0m \u001b[38;5;28;01mreturn\u001b[39;00m \u001b[43mfunc\u001b[49m\u001b[43m(\u001b[49m\u001b[38;5;28;43mself\u001b[39;49m\u001b[43m,\u001b[49m\u001b[43m \u001b[49m\u001b[38;5;241;43m*\u001b[39;49m\u001b[43margs\u001b[49m\u001b[43m,\u001b[49m\u001b[43m \u001b[49m\u001b[38;5;241;43m*\u001b[39;49m\u001b[38;5;241;43m*\u001b[39;49m\u001b[43mkwargs\u001b[49m\u001b[43m)\u001b[49m\n",
      "File \u001b[0;32m~/.local/share/virtualenvs/DataEngineerTools-d_IoKyOp/lib/python3.12/site-packages/pymongo/synchronous/collection.py:954\u001b[0m, in \u001b[0;36mCollection.insert_many\u001b[0;34m(self, documents, ordered, bypass_document_validation, session, comment)\u001b[0m\n\u001b[1;32m    952\u001b[0m blk \u001b[38;5;241m=\u001b[39m _Bulk(\u001b[38;5;28mself\u001b[39m, ordered, bypass_document_validation, comment\u001b[38;5;241m=\u001b[39mcomment)\n\u001b[1;32m    953\u001b[0m blk\u001b[38;5;241m.\u001b[39mops \u001b[38;5;241m=\u001b[39m \u001b[38;5;28mlist\u001b[39m(gen())\n\u001b[0;32m--> 954\u001b[0m \u001b[43mblk\u001b[49m\u001b[38;5;241;43m.\u001b[39;49m\u001b[43mexecute\u001b[49m\u001b[43m(\u001b[49m\u001b[43mwrite_concern\u001b[49m\u001b[43m,\u001b[49m\u001b[43m \u001b[49m\u001b[43msession\u001b[49m\u001b[43m,\u001b[49m\u001b[43m \u001b[49m\u001b[43m_Op\u001b[49m\u001b[38;5;241;43m.\u001b[39;49m\u001b[43mINSERT\u001b[49m\u001b[43m)\u001b[49m\n\u001b[1;32m    955\u001b[0m \u001b[38;5;28;01mreturn\u001b[39;00m InsertManyResult(inserted_ids, write_concern\u001b[38;5;241m.\u001b[39macknowledged)\n",
      "File \u001b[0;32m~/.local/share/virtualenvs/DataEngineerTools-d_IoKyOp/lib/python3.12/site-packages/pymongo/synchronous/bulk.py:736\u001b[0m, in \u001b[0;36m_Bulk.execute\u001b[0;34m(self, write_concern, session, operation)\u001b[0m\n\u001b[1;32m    734\u001b[0m         \u001b[38;5;28;01mreturn\u001b[39;00m \u001b[38;5;28;01mNone\u001b[39;00m\n\u001b[1;32m    735\u001b[0m \u001b[38;5;28;01melse\u001b[39;00m:\n\u001b[0;32m--> 736\u001b[0m     \u001b[38;5;28;01mreturn\u001b[39;00m \u001b[38;5;28;43mself\u001b[39;49m\u001b[38;5;241;43m.\u001b[39;49m\u001b[43mexecute_command\u001b[49m\u001b[43m(\u001b[49m\u001b[43mgenerator\u001b[49m\u001b[43m,\u001b[49m\u001b[43m \u001b[49m\u001b[43mwrite_concern\u001b[49m\u001b[43m,\u001b[49m\u001b[43m \u001b[49m\u001b[43msession\u001b[49m\u001b[43m,\u001b[49m\u001b[43m \u001b[49m\u001b[43moperation\u001b[49m\u001b[43m)\u001b[49m\n",
      "File \u001b[0;32m~/.local/share/virtualenvs/DataEngineerTools-d_IoKyOp/lib/python3.12/site-packages/pymongo/synchronous/bulk.py:603\u001b[0m, in \u001b[0;36m_Bulk.execute_command\u001b[0;34m(self, generator, write_concern, session, operation)\u001b[0m\n\u001b[1;32m    593\u001b[0m _ \u001b[38;5;241m=\u001b[39m client\u001b[38;5;241m.\u001b[39m_retryable_write(\n\u001b[1;32m    594\u001b[0m     \u001b[38;5;28mself\u001b[39m\u001b[38;5;241m.\u001b[39mis_retryable,\n\u001b[1;32m    595\u001b[0m     retryable_bulk,\n\u001b[0;32m   (...)\u001b[0m\n\u001b[1;32m    599\u001b[0m     operation_id\u001b[38;5;241m=\u001b[39mop_id,\n\u001b[1;32m    600\u001b[0m )\n\u001b[1;32m    602\u001b[0m \u001b[38;5;28;01mif\u001b[39;00m full_result[\u001b[38;5;124m\"\u001b[39m\u001b[38;5;124mwriteErrors\u001b[39m\u001b[38;5;124m\"\u001b[39m] \u001b[38;5;129;01mor\u001b[39;00m full_result[\u001b[38;5;124m\"\u001b[39m\u001b[38;5;124mwriteConcernErrors\u001b[39m\u001b[38;5;124m\"\u001b[39m]:\n\u001b[0;32m--> 603\u001b[0m     \u001b[43m_raise_bulk_write_error\u001b[49m\u001b[43m(\u001b[49m\u001b[43mfull_result\u001b[49m\u001b[43m)\u001b[49m\n\u001b[1;32m    604\u001b[0m \u001b[38;5;28;01mreturn\u001b[39;00m full_result\n",
      "File \u001b[0;32m~/.local/share/virtualenvs/DataEngineerTools-d_IoKyOp/lib/python3.12/site-packages/pymongo/bulk_shared.py:131\u001b[0m, in \u001b[0;36m_raise_bulk_write_error\u001b[0;34m(full_result)\u001b[0m\n\u001b[1;32m    125\u001b[0m         errmsg \u001b[38;5;241m=\u001b[39m (\n\u001b[1;32m    126\u001b[0m             \u001b[38;5;124m\"\u001b[39m\u001b[38;5;124mThis MongoDB deployment does not support \u001b[39m\u001b[38;5;124m\"\u001b[39m\n\u001b[1;32m    127\u001b[0m             \u001b[38;5;124m\"\u001b[39m\u001b[38;5;124mretryable writes. Please add retryWrites=false \u001b[39m\u001b[38;5;124m\"\u001b[39m\n\u001b[1;32m    128\u001b[0m             \u001b[38;5;124m\"\u001b[39m\u001b[38;5;124mto your connection string.\u001b[39m\u001b[38;5;124m\"\u001b[39m\n\u001b[1;32m    129\u001b[0m         )\n\u001b[1;32m    130\u001b[0m         \u001b[38;5;28;01mraise\u001b[39;00m OperationFailure(errmsg, code, full_result)\n\u001b[0;32m--> 131\u001b[0m \u001b[38;5;28;01mraise\u001b[39;00m BulkWriteError(full_result)\n",
      "\u001b[0;31mBulkWriteError\u001b[0m: batch op errors occurred, full error: {'writeErrors': [{'index': 0, 'code': 11000, 'errmsg': \"E11000 duplicate key error collection: series.peaky index: _id_ dup key: { _id: ObjectId('6758571ea78f99ccaf32bec3') }\", 'keyPattern': {'_id': 1}, 'keyValue': {'_id': ObjectId('6758571ea78f99ccaf32bec3')}, 'op': {'firstname': 'Thomas', 'lastname': 'Shelby', 'position': 'CEO', 'gender': 'Male', 'age': 35, 'description': \"Thomas 'Tommy' Michael Shelby M.P. OBE, is the leader of the Birmingham criminal gang Peaky Blinders and the patriarch of the Shelby Family. His experiences during and after the First World War have left him disillusioned and determined to move his family up in the world.\", 'nicknames': ['Tom', 'Tommy', 'Thomas'], 'company': 'Peaky Blinders', 'episodes': [1, 2, 4, 5, 6], '_id': ObjectId('6758571ea78f99ccaf32bec3')}}], 'writeConcernErrors': [], 'nInserted': 0, 'nUpserted': 0, 'nMatched': 0, 'nModified': 0, 'nRemoved': 0, 'upserted': []}"
     ]
    }
   ],
   "source": [
    "collection_peaky.insert_many(DOCUMENTS)"
   ]
  },
  {
   "cell_type": "markdown",
   "metadata": {},
   "source": [
    "## Aggregation\n",
    "\n",
    "\n",
    "Une aggrégation permet de faire des opérations complexes sur des groupes de documents directement dans la base. Elle se charge de grouper les documents entre eux suivant la requête et se charge d'effectuer une opération sur l'ensemble des documents de chacun des groupes. On peut retrouver les mêmes opérations en SQL avec les arguments `GROUP BY`.\n",
    "\n",
    "La syntaxe est très similaire à toutes les autres fonctions Mongo mais la requête va être plus complexe. \n",
    "\n",
    "```\n",
    "db.<YOUR_COLLECTION_NAME>.aggregate(AGGREGATE_OPERATION)\n",
    "```\n",
    "\n",
    "On peut vouloir récupérer le nombre de personnages de chaque famille présente dans la série : \n"
   ]
  },
  {
   "cell_type": "code",
   "execution_count": 137,
   "metadata": {
    "ExecuteTime": {
     "end_time": "2024-10-08T13:52:17.575037Z",
     "start_time": "2024-10-08T13:52:17.571097Z"
    }
   },
   "outputs": [
    {
     "data": {
      "text/plain": [
       "[{'_id': 'Shelby', 'charactereNumberByFamily': 3},\n",
       " {'_id': 'Gray', 'charactereNumberByFamily': 2},\n",
       " {'_id': 'Thorne', 'charactereNumberByFamily': 1}]"
      ]
     },
     "execution_count": 137,
     "metadata": {},
     "output_type": "execute_result"
    }
   ],
   "source": [
    "cur = collection_peaky.aggregate([{\"$group\" : {\"_id\" : \"$lastname\", \"charactereNumberByFamily\" : {\"$sum\" : 1}}}])\n",
    "list(cur)"
   ]
  },
  {
   "cell_type": "markdown",
   "metadata": {},
   "source": [
    "\n",
    "Vous avez accès à toutes les opérations mathématiques dont vous avez besoin : \n",
    "\n",
    "- &#36;sum : fait la somme de \n",
    "- &#36;avg : fait la moyenne \n",
    "- &#36;min : récupère la valeur minimale \n",
    "- &#36;max : récupère la valeur maximale \n",
    "- &#36;first : récupère le premier élément\n",
    "- &#36;last : récupère le dernier élément\n"
   ]
  },
  {
   "cell_type": "code",
   "execution_count": 138,
   "metadata": {
    "ExecuteTime": {
     "end_time": "2024-10-08T13:53:00.725270Z",
     "start_time": "2024-10-08T13:53:00.720942Z"
    }
   },
   "outputs": [
    {
     "data": {
      "text/plain": [
       "[{'_id': 'Shelby', 'averageAgeByFamily': 34.333333333333336},\n",
       " {'_id': 'Thorne', 'averageAgeByFamily': 28.0},\n",
       " {'_id': 'Gray', 'averageAgeByFamily': 33.0}]"
      ]
     },
     "execution_count": 138,
     "metadata": {},
     "output_type": "execute_result"
    }
   ],
   "source": [
    "cur = collection_peaky.aggregate([{\"$group\" : {\"_id\" : \"$lastname\", \"averageAgeByFamily\" : {\"$avg\" : \"$age\"}}}])\n",
    "list(cur)\n"
   ]
  },
  {
   "cell_type": "code",
   "execution_count": 134,
   "metadata": {
    "ExecuteTime": {
     "end_time": "2024-10-08T13:53:03.632462Z",
     "start_time": "2024-10-08T13:53:03.628697Z"
    }
   },
   "outputs": [
    {
     "data": {
      "text/plain": [
       "[{'_id': 'Thorne', 'minAgeByFamily': 28},\n",
       " {'_id': 'Gray', 'minAgeByFamily': 21},\n",
       " {'_id': 'Shelby', 'minAgeByFamily': 30}]"
      ]
     },
     "execution_count": 134,
     "metadata": {},
     "output_type": "execute_result"
    }
   ],
   "source": [
    "cur = collection_peaky.aggregate([{\"$group\" : {\"_id\" : \"$lastname\", \"minAgeByFamily\" : {\"$min\" : \"$age\"}}}])\n",
    "list(cur)\n"
   ]
  },
  {
   "cell_type": "code",
   "execution_count": 139,
   "metadata": {
    "ExecuteTime": {
     "end_time": "2024-10-08T13:53:19.686550Z",
     "start_time": "2024-10-08T13:53:19.682455Z"
    }
   },
   "outputs": [
    {
     "data": {
      "text/plain": [
       "[{'_id': 'Thorne', 'lastAgeByFamily': 28},\n",
       " {'_id': 'Shelby', 'lastAgeByFamily': 30},\n",
       " {'_id': 'Gray', 'lastAgeByFamily': 45}]"
      ]
     },
     "execution_count": 139,
     "metadata": {},
     "output_type": "execute_result"
    }
   ],
   "source": [
    "cur = collection_peaky.aggregate([{\"$group\" : {\"_id\" : \"$lastname\", \"lastAgeByFamily\" : {\"$last\" : \"$age\"}}}])\n",
    "list(cur)\n"
   ]
  },
  {
   "cell_type": "markdown",
   "metadata": {},
   "source": [
    "On peut ajouter un paramètre à la fonction `aggregate()` pour filtrer les élements à aggréger.\n",
    "Si on ne veut récupérer que les hommes : \n"
   ]
  },
  {
   "cell_type": "code",
   "execution_count": 140,
   "metadata": {
    "ExecuteTime": {
     "end_time": "2024-10-08T13:53:24.024242Z",
     "start_time": "2024-10-08T13:53:24.020251Z"
    }
   },
   "outputs": [
    {
     "data": {
      "text/plain": [
       "[{'_id': 'Gray', 'averageAgeByFamily': 21.0},\n",
       " {'_id': 'Shelby', 'averageAgeByFamily': 34.333333333333336}]"
      ]
     },
     "execution_count": 140,
     "metadata": {},
     "output_type": "execute_result"
    }
   ],
   "source": [
    "cur = collection_peaky.aggregate([\n",
    "        {\"$match\":{\"gender\":\"Male\"}},\n",
    "        {\"$group\" : {\"_id\" : \"$lastname\", \"averageAgeByFamily\" : {\"$avg\" : \"$age\"}}}\n",
    "    ])\n",
    "list(cur)"
   ]
  },
  {
   "cell_type": "markdown",
   "metadata": {},
   "source": [
    "Il y a peu de temps Mongo supportait des opérations Map Reduce avec du javascript. Depuis les dernières versions le ap reduce est déprécié en faveur des pipelines d'aggregation. Ces pipelines permettent de transformer et manipulé les données complexes de manière flexibles en décrivant les différentes transformations et aggrégations à utiliser dans notre pipeline."
   ]
  },
  {
   "cell_type": "code",
   "execution_count": 143,
   "metadata": {
    "ExecuteTime": {
     "end_time": "2024-10-08T13:58:31.878388Z",
     "start_time": "2024-10-08T13:58:31.874172Z"
    }
   },
   "outputs": [
    {
     "name": "stdout",
     "output_type": "stream",
     "text": [
      "{'_id': 'Shelby', 'sumAge': 103}\n",
      "{'_id': 'Gray', 'sumAge': 21}\n"
     ]
    }
   ],
   "source": [
    "pipeline = [\n",
    "    {\"$match\": {\"gender\": \"Male\"}},\n",
    "    {\"$group\": {\"_id\": \"$lastname\", \"sumAge\": {\"$sum\": \"$age\"}}}\n",
    "]\n",
    "\n",
    "result = list(collection_peaky.aggregate(pipeline))\n",
    "\n",
    "for res in result:\n",
    "    print(res)"
   ]
  },
  {
   "cell_type": "markdown",
   "metadata": {},
   "source": [
    "Ces méthodes sont surtout utilisées dans un contexte avec une volumétrie de données importantes"
   ]
  },
  {
   "cell_type": "markdown",
   "metadata": {},
   "source": [
    "N'hésitez pas à explorer Mongosh et un client graphique avant de passer à la suite pour vous familiariser avec l'écosystème.\n",
    "\n",
    "Deux exercices sont disponibles pour mettre en pratique ce que vous avez appris : `ExerciceKickstarter.ipynb`et `ExerciceYoutube.ipynb`"
   ]
  }
 ],
 "metadata": {
  "kernelspec": {
   "display_name": "DataEngineerTools-d_IoKyOp",
   "language": "python",
   "name": "python3"
  },
  "language_info": {
   "codemirror_mode": {
    "name": "ipython",
    "version": 3
   },
   "file_extension": ".py",
   "mimetype": "text/x-python",
   "name": "python",
   "nbconvert_exporter": "python",
   "pygments_lexer": "ipython3",
   "version": "3.12.2"
  },
  "varInspector": {
   "cols": {
    "lenName": 16,
    "lenType": 16,
    "lenVar": 40
   },
   "kernels_config": {
    "python": {
     "delete_cmd_postfix": "",
     "delete_cmd_prefix": "del ",
     "library": "var_list.py",
     "varRefreshCmd": "print(var_dic_list())"
    },
    "r": {
     "delete_cmd_postfix": ") ",
     "delete_cmd_prefix": "rm(",
     "library": "var_list.r",
     "varRefreshCmd": "cat(var_dic_list()) "
    }
   },
   "types_to_exclude": [
    "module",
    "function",
    "builtin_function_or_method",
    "instance",
    "_Feature"
   ],
   "window_display": false
  }
 },
 "nbformat": 4,
 "nbformat_minor": 2
}
