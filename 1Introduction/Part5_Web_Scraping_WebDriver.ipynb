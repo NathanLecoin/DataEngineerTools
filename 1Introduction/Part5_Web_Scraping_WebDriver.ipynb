{
 "cells": [
  {
   "cell_type": "markdown",
   "metadata": {},
   "source": [
    "# Introduction"
   ]
  },
  {
   "cell_type": "markdown",
   "metadata": {},
   "source": [
    "Aujourd'hui la plupart des sites web utilisent du JavaScript pour rendre le site plus dynamique et agréable, mais aussi pour afficher la donnée. \n",
    "\n",
    "Pour ces sites, la première méthode abordée n'est pas efficace, car de nombreuses requêtes sont utilisées pour se connecter, afficher la donnée, naviguer, il faudrait prendre en compte toutes ces requêtes et les assembler pour simuler le comportement du site. \n",
    "\n",
    "**C'est le comportement de votre navigateur**, il compile toutes les interactions, les requêtes et génère du HTML permettant d'afficher l'interface graphique d'un site web.\n",
    "\n",
    "Pour palier ce problème, on peut laisser le navigateur faire son travail et contrôler sa surcouche logicielle. Pour cela, on peut prendre le contrôle d'un navigateur comme Chrome, Edge, Firefox ou Safari depuis un script Python. \n",
    "\n",
    "Pour cela, nous allons utiliser un package Python `Selenium` https://selenium-python.readthedocs.io/ qui permet d'instancier un navigateur et de le contrôler. Sélénium est beaucoup utilisé pour générer des tests automatiques de sites web. \n",
    "\n",
    "On peut trouver les drivers des différents browser : \n",
    "- Chrome:\thttps://googlechromelabs.github.io/chrome-for-testing/#stable (bien télécharger le \"chromedriver\" et non pas chrome)\n",
    "- Firefox:\thttps://github.com/mozilla/geckodriver/releases\n",
    "- Safari:\thttps://webkit.org/blog/6900/webdriver-support-in-safari-10/"
   ]
  },
  {
   "cell_type": "markdown",
   "metadata": {},
   "source": [
    "**Depuis les dernières versions de Selenium, il n'est plus néccessaires de télécharger les driver des browsers car Selenium les manage**"
   ]
  },
  {
   "cell_type": "code",
   "execution_count": 54,
   "metadata": {
    "ExecuteTime": {
     "end_time": "2024-10-07T20:20:49.439215Z",
     "start_time": "2024-10-07T20:20:49.436763Z"
    }
   },
   "outputs": [],
   "source": [
    "from selenium import webdriver\n"
   ]
  },
  {
   "cell_type": "code",
   "execution_count": 55,
   "metadata": {
    "ExecuteTime": {
     "end_time": "2024-10-07T20:20:50.364966Z",
     "start_time": "2024-10-07T20:20:49.707577Z"
    }
   },
   "outputs": [],
   "source": [
    "chrome = webdriver.Chrome()"
   ]
  },
  {
   "cell_type": "markdown",
   "metadata": {},
   "source": [
    "Vous devez voir apparaître une nouvelle instance de votre navigateur.\n",
    "Chrome vous demande depuis peu de selectionner votre navigateur par défaut. Etant donné que notre but est de tout controller depuis notre code, on peut bypass cette demande en ajoutant des options au webdriver de Chrome"
   ]
  },
  {
   "cell_type": "code",
   "execution_count": 56,
   "metadata": {
    "ExecuteTime": {
     "end_time": "2024-10-07T20:20:56.232916Z",
     "start_time": "2024-10-07T20:20:55.301154Z"
    }
   },
   "outputs": [],
   "source": [
    "from selenium.webdriver.chrome.options import Options\n",
    "\n",
    "chrome_options = Options()\n",
    "chrome_options.add_argument(\"--disable-search-engine-choice-screen\")\n",
    "\n",
    "chrome = webdriver.Chrome(options=chrome_options)"
   ]
  },
  {
   "cell_type": "markdown",
   "metadata": {},
   "source": [
    "Maintenant, vous avez le controlle du navigateur depuis Python. Si vous voulez accéder à une page :"
   ]
  },
  {
   "cell_type": "code",
   "execution_count": 57,
   "metadata": {
    "ExecuteTime": {
     "end_time": "2024-10-07T20:21:03.242209Z",
     "start_time": "2024-10-07T20:21:02.495942Z"
    }
   },
   "outputs": [],
   "source": [
    "chrome.get(\"https://books.toscrape.com/\")"
   ]
  },
  {
   "cell_type": "markdown",
   "metadata": {},
   "source": [
    "Allez maintenant voir votre fenêtre. Vous êtes sur un faux site de vente de livre. Ce site est spécialement concu pour être scrapé et comprendre les bases, mais en réalité scraper un site est un peu plus complexe, comme vous allez vous en rendre compte dans la section 2 sur Scrapy.\n",
    "\n",
    "Vous pouvez maintenant vous déplacer dans la page. Pour cela, il va falloir inspecter le code source de la page.\n",
    "\n",
    "Il existe de nombreuse méthode pour récupérer les éléments par exemple `find_element` qui permet de récupérer un élément grâce au texte affiché. Ici, si on veut récupérer cliquer sur la section `Travel` pour récupérer les livres de voyages"
   ]
  },
  {
   "cell_type": "code",
   "execution_count": 58,
   "metadata": {
    "ExecuteTime": {
     "end_time": "2024-10-07T20:21:05.755116Z",
     "start_time": "2024-10-07T20:21:05.745587Z"
    }
   },
   "outputs": [
    {
     "data": {
      "text/plain": [
       "selenium.webdriver.remote.webelement.WebElement"
      ]
     },
     "execution_count": 58,
     "metadata": {},
     "output_type": "execute_result"
    }
   ],
   "source": [
    "from selenium.webdriver.common.by import By\n",
    "link = chrome.find_element(By.LINK_TEXT, \"Travel\")\n",
    "type(link)"
   ]
  },
  {
   "cell_type": "markdown",
   "metadata": {},
   "source": [
    "Si on veut entrer dans le lien, il suffit d'appeler la méthode `click`."
   ]
  },
  {
   "cell_type": "code",
   "execution_count": 59,
   "metadata": {
    "ExecuteTime": {
     "end_time": "2024-10-07T20:21:13.093751Z",
     "start_time": "2024-10-07T20:21:12.648032Z"
    }
   },
   "outputs": [],
   "source": [
    "link.click()"
   ]
  },
  {
   "cell_type": "markdown",
   "metadata": {},
   "source": [
    "Vous êtes arrivé sur la page des livres de voyage. Maintenant nous allons récupérer toutes les livres. On remarque que tous les livres ont une class HTML nommée `product_pod`."
   ]
  },
  {
   "cell_type": "code",
   "execution_count": 60,
   "metadata": {
    "ExecuteTime": {
     "end_time": "2024-10-07T20:23:04.672320Z",
     "start_time": "2024-10-07T20:23:04.660727Z"
    }
   },
   "outputs": [
    {
     "data": {
      "text/plain": [
       "(list, 11)"
      ]
     },
     "execution_count": 60,
     "metadata": {},
     "output_type": "execute_result"
    }
   ],
   "source": [
    "all_widgets = chrome.find_elements(By.CLASS_NAME, \"product_pod\")\n",
    "type(all_widgets), len(all_widgets)"
   ]
  },
  {
   "cell_type": "markdown",
   "metadata": {},
   "source": [
    "On obtient une liste d'éléments décrits par cette class. Il y en a 11, un pour chaque livre. Pour récupérer le titre du premier livre: "
   ]
  },
  {
   "cell_type": "code",
   "execution_count": 61,
   "metadata": {
    "ExecuteTime": {
     "end_time": "2024-10-07T20:27:37.371182Z",
     "start_time": "2024-10-07T20:27:37.354009Z"
    }
   },
   "outputs": [
    {
     "data": {
      "text/plain": [
       "\"It's Only the Himalayas\""
      ]
     },
     "execution_count": 61,
     "metadata": {},
     "output_type": "execute_result"
    }
   ],
   "source": [
    "first_book = all_widgets[0]\n",
    "first_book_title = first_book.find_element(By.CSS_SELECTOR, \"h3\")\n",
    "first_book_title.text"
   ]
  },
  {
   "cell_type": "markdown",
   "metadata": {},
   "source": [
    "Si vous êtes fan de JavaScript vous pouvez même injecter du code JS dans le navigateur depuis Python pour exécuter des opérations complexes. "
   ]
  },
  {
   "cell_type": "code",
   "execution_count": 62,
   "metadata": {
    "ExecuteTime": {
     "end_time": "2024-10-07T20:30:34.896050Z",
     "start_time": "2024-10-07T20:30:34.893742Z"
    }
   },
   "outputs": [],
   "source": [
    "js_script = \"\"\"\n",
    "const class_name = 'DSIA'\n",
    "alert(`Hi from ${class_name}`)\n",
    "\"\"\""
   ]
  },
  {
   "cell_type": "code",
   "execution_count": 63,
   "metadata": {
    "ExecuteTime": {
     "end_time": "2024-10-07T20:30:40.245670Z",
     "start_time": "2024-10-07T20:30:40.233696Z"
    }
   },
   "outputs": [],
   "source": [
    "chrome.execute_script(js_script)"
   ]
  },
  {
   "cell_type": "markdown",
   "metadata": {},
   "source": [
    "# Exercice"
   ]
  },
  {
   "cell_type": "markdown",
   "metadata": {},
   "source": [
    "## Exercice 1"
   ]
  },
  {
   "cell_type": "markdown",
   "metadata": {},
   "source": [
    "Extraire le prix des livres :"
   ]
  },
  {
   "cell_type": "code",
   "execution_count": 65,
   "metadata": {
    "ExecuteTime": {
     "end_time": "2024-10-07T20:31:55.408417Z",
     "start_time": "2024-10-07T20:31:55.396231Z"
    }
   },
   "outputs": [
    {
     "name": "stdout",
     "output_type": "stream",
     "text": [
      "['£45.17', '£49.43', '£48.87', '£36.94', '£37.33', '£44.34', '£30.54', '£56.88', '£23.21', '£38.95', '£26.08']\n"
     ]
    }
   ],
   "source": [
    "def extract_price(book_web_element):\n",
    "    # raise NotImplementedError('Need to be implemented')\n",
    "    book_list = []\n",
    "    for book in book_web_element:\n",
    "        book_price = book.find_element(By.CSS_SELECTOR, \".price_color\").text       \n",
    "        book_list.append(book_price)\n",
    "        \n",
    "    return book_list\n",
    "\n",
    "\n",
    "book_prices = extract_price(all_widgets)\n",
    "print(book_prices)"
   ]
  },
  {
   "cell_type": "markdown",
   "metadata": {},
   "source": [
    "Extraire l'image des livres: "
   ]
  },
  {
   "cell_type": "code",
   "execution_count": 66,
   "metadata": {
    "ExecuteTime": {
     "end_time": "2024-10-07T20:32:35.941382Z",
     "start_time": "2024-10-07T20:32:35.927749Z"
    }
   },
   "outputs": [
    {
     "name": "stdout",
     "output_type": "stream",
     "text": [
      "['https://books.toscrape.com/media/cache/27/a5/27a53d0bb95bdd88288eaf66c9230d7e.jpg', 'https://books.toscrape.com/media/cache/57/77/57770cac1628f4407636635f4b85e88c.jpg', 'https://books.toscrape.com/media/cache/9a/7e/9a7e63f12829df4b43b31d110bf3dc2e.jpg', 'https://books.toscrape.com/media/cache/d5/bf/d5bf0090470b0b8ea46d9c166f7895aa.jpg', 'https://books.toscrape.com/media/cache/98/c2/98c2e95c5fd1a4e7cd5f2b63c52826cb.jpg', 'https://books.toscrape.com/media/cache/4e/15/4e15150388702ebca2c5a523ac270539.jpg', 'https://books.toscrape.com/media/cache/76/de/76de41867f323d7f1f4fbe2fdfc1b2ba.jpg', 'https://books.toscrape.com/media/cache/db/46/db46159b05faa5d95262112bf9c29ddd.jpg', 'https://books.toscrape.com/media/cache/e0/4f/e04f8eda2a2fa947aec17640202d9ab0.jpg', 'https://books.toscrape.com/media/cache/06/81/0681530a7bc301caf5c3257e1b0f0750.jpg', 'https://books.toscrape.com/media/cache/d7/0f/d70f7edd92705c45a82118c3ff6c299d.jpg']\n"
     ]
    }
   ],
   "source": [
    "def extract_images(book_web_elements):\n",
    "    image_list = []\n",
    "    for book in book_web_elements:\n",
    "            book_image = book.find_element(By.CSS_SELECTOR, \"img\").get_attribute(\"src\")\n",
    "            image_list.append(book_image)\n",
    "    return image_list\n",
    "\n",
    "book_images = extract_images(all_widgets)\n",
    "print(book_images)"
   ]
  },
  {
   "cell_type": "markdown",
   "metadata": {},
   "source": [
    "Extraire le nombre d'étoiles d'un livre: "
   ]
  },
  {
   "cell_type": "code",
   "execution_count": 71,
   "metadata": {
    "ExecuteTime": {
     "end_time": "2024-10-07T20:34:01.578701Z",
     "start_time": "2024-10-07T20:34:01.567201Z"
    }
   },
   "outputs": [
    {
     "name": "stdout",
     "output_type": "stream",
     "text": [
      "['star-rating Two', 'star-rating Four', 'star-rating Three', 'star-rating Two', 'star-rating Three', 'star-rating Two', 'star-rating One', 'star-rating Four', 'star-rating One', 'star-rating Three', 'star-rating Five']\n"
     ]
    }
   ],
   "source": [
    "def extract_stars(book_web_elements):\n",
    "    stars_list = []\n",
    "    for book in book_web_elements:\n",
    "            book_star = book.find_element(By.CSS_SELECTOR, \"p.star-rating\").get_attribute(\"class\")\n",
    "            stars_list.append(book_star)\n",
    "    return stars_list\n",
    "\n",
    "book_stars = extract_stars(all_widgets)\n",
    "print(book_stars)"
   ]
  },
  {
   "cell_type": "code",
   "execution_count": 73,
   "metadata": {
    "ExecuteTime": {
     "end_time": "2024-10-07T20:34:04.274066Z",
     "start_time": "2024-10-07T20:34:04.201186Z"
    }
   },
   "outputs": [
    {
     "ename": "InvalidSessionIdException",
     "evalue": "Message: invalid session id\nStacktrace:\n0   chromedriver                        0x0000000104957ac4 cxxbridge1$str$ptr + 3651580\n1   chromedriver                        0x0000000104950314 cxxbridge1$str$ptr + 3620940\n2   chromedriver                        0x00000001043b8324 cxxbridge1$string$len + 88824\n3   chromedriver                        0x00000001043f05d0 cxxbridge1$string$len + 318884\n4   chromedriver                        0x000000010441b244 cxxbridge1$string$len + 494104\n5   chromedriver                        0x0000000104416724 cxxbridge1$string$len + 474872\n6   chromedriver                        0x0000000104415a54 cxxbridge1$string$len + 471592\n7   chromedriver                        0x0000000104389e44 chromedriver + 89668\n8   chromedriver                        0x0000000104922e08 cxxbridge1$str$ptr + 3435328\n9   chromedriver                        0x0000000104926120 cxxbridge1$str$ptr + 3448408\n10  chromedriver                        0x000000010490a17c cxxbridge1$str$ptr + 3333812\n11  chromedriver                        0x00000001049269e0 cxxbridge1$str$ptr + 3450648\n12  chromedriver                        0x00000001048fb988 cxxbridge1$str$ptr + 3274432\n13  chromedriver                        0x0000000104388c0c chromedriver + 85004\n14  dyld                                0x00000001850c4274 start + 2840\n",
     "output_type": "error",
     "traceback": [
      "\u001b[0;31m---------------------------------------------------------------------------\u001b[0m",
      "\u001b[0;31mInvalidSessionIdException\u001b[0m                 Traceback (most recent call last)",
      "Cell \u001b[0;32mIn[73], line 1\u001b[0m\n\u001b[0;32m----> 1\u001b[0m \u001b[43mchrome\u001b[49m\u001b[38;5;241;43m.\u001b[39;49m\u001b[43mclose\u001b[49m\u001b[43m(\u001b[49m\u001b[43m)\u001b[49m\n",
      "File \u001b[0;32m/Library/Frameworks/Python.framework/Versions/3.12/lib/python3.12/site-packages/selenium/webdriver/remote/webdriver.py:458\u001b[0m, in \u001b[0;36mWebDriver.close\u001b[0;34m(self)\u001b[0m\n\u001b[1;32m    450\u001b[0m \u001b[38;5;28;01mdef\u001b[39;00m \u001b[38;5;21mclose\u001b[39m(\u001b[38;5;28mself\u001b[39m) \u001b[38;5;241m-\u001b[39m\u001b[38;5;241m>\u001b[39m \u001b[38;5;28;01mNone\u001b[39;00m:\n\u001b[1;32m    451\u001b[0m \u001b[38;5;250m    \u001b[39m\u001b[38;5;124;03m\"\"\"Closes the current window.\u001b[39;00m\n\u001b[1;32m    452\u001b[0m \n\u001b[1;32m    453\u001b[0m \u001b[38;5;124;03m    :Usage:\u001b[39;00m\n\u001b[0;32m   (...)\u001b[0m\n\u001b[1;32m    456\u001b[0m \u001b[38;5;124;03m            driver.close()\u001b[39;00m\n\u001b[1;32m    457\u001b[0m \u001b[38;5;124;03m    \"\"\"\u001b[39;00m\n\u001b[0;32m--> 458\u001b[0m     \u001b[38;5;28;43mself\u001b[39;49m\u001b[38;5;241;43m.\u001b[39;49m\u001b[43mexecute\u001b[49m\u001b[43m(\u001b[49m\u001b[43mCommand\u001b[49m\u001b[38;5;241;43m.\u001b[39;49m\u001b[43mCLOSE\u001b[49m\u001b[43m)\u001b[49m\n",
      "File \u001b[0;32m/Library/Frameworks/Python.framework/Versions/3.12/lib/python3.12/site-packages/selenium/webdriver/remote/webdriver.py:347\u001b[0m, in \u001b[0;36mWebDriver.execute\u001b[0;34m(self, driver_command, params)\u001b[0m\n\u001b[1;32m    345\u001b[0m response \u001b[38;5;241m=\u001b[39m \u001b[38;5;28mself\u001b[39m\u001b[38;5;241m.\u001b[39mcommand_executor\u001b[38;5;241m.\u001b[39mexecute(driver_command, params)\n\u001b[1;32m    346\u001b[0m \u001b[38;5;28;01mif\u001b[39;00m response:\n\u001b[0;32m--> 347\u001b[0m     \u001b[38;5;28;43mself\u001b[39;49m\u001b[38;5;241;43m.\u001b[39;49m\u001b[43merror_handler\u001b[49m\u001b[38;5;241;43m.\u001b[39;49m\u001b[43mcheck_response\u001b[49m\u001b[43m(\u001b[49m\u001b[43mresponse\u001b[49m\u001b[43m)\u001b[49m\n\u001b[1;32m    348\u001b[0m     response[\u001b[38;5;124m\"\u001b[39m\u001b[38;5;124mvalue\u001b[39m\u001b[38;5;124m\"\u001b[39m] \u001b[38;5;241m=\u001b[39m \u001b[38;5;28mself\u001b[39m\u001b[38;5;241m.\u001b[39m_unwrap_value(response\u001b[38;5;241m.\u001b[39mget(\u001b[38;5;124m\"\u001b[39m\u001b[38;5;124mvalue\u001b[39m\u001b[38;5;124m\"\u001b[39m, \u001b[38;5;28;01mNone\u001b[39;00m))\n\u001b[1;32m    349\u001b[0m     \u001b[38;5;28;01mreturn\u001b[39;00m response\n",
      "File \u001b[0;32m/Library/Frameworks/Python.framework/Versions/3.12/lib/python3.12/site-packages/selenium/webdriver/remote/errorhandler.py:229\u001b[0m, in \u001b[0;36mErrorHandler.check_response\u001b[0;34m(self, response)\u001b[0m\n\u001b[1;32m    227\u001b[0m         alert_text \u001b[38;5;241m=\u001b[39m value[\u001b[38;5;124m\"\u001b[39m\u001b[38;5;124malert\u001b[39m\u001b[38;5;124m\"\u001b[39m]\u001b[38;5;241m.\u001b[39mget(\u001b[38;5;124m\"\u001b[39m\u001b[38;5;124mtext\u001b[39m\u001b[38;5;124m\"\u001b[39m)\n\u001b[1;32m    228\u001b[0m     \u001b[38;5;28;01mraise\u001b[39;00m exception_class(message, screen, stacktrace, alert_text)  \u001b[38;5;66;03m# type: ignore[call-arg]  # mypy is not smart enough here\u001b[39;00m\n\u001b[0;32m--> 229\u001b[0m \u001b[38;5;28;01mraise\u001b[39;00m exception_class(message, screen, stacktrace)\n",
      "\u001b[0;31mInvalidSessionIdException\u001b[0m: Message: invalid session id\nStacktrace:\n0   chromedriver                        0x0000000104957ac4 cxxbridge1$str$ptr + 3651580\n1   chromedriver                        0x0000000104950314 cxxbridge1$str$ptr + 3620940\n2   chromedriver                        0x00000001043b8324 cxxbridge1$string$len + 88824\n3   chromedriver                        0x00000001043f05d0 cxxbridge1$string$len + 318884\n4   chromedriver                        0x000000010441b244 cxxbridge1$string$len + 494104\n5   chromedriver                        0x0000000104416724 cxxbridge1$string$len + 474872\n6   chromedriver                        0x0000000104415a54 cxxbridge1$string$len + 471592\n7   chromedriver                        0x0000000104389e44 chromedriver + 89668\n8   chromedriver                        0x0000000104922e08 cxxbridge1$str$ptr + 3435328\n9   chromedriver                        0x0000000104926120 cxxbridge1$str$ptr + 3448408\n10  chromedriver                        0x000000010490a17c cxxbridge1$str$ptr + 3333812\n11  chromedriver                        0x00000001049269e0 cxxbridge1$str$ptr + 3450648\n12  chromedriver                        0x00000001048fb988 cxxbridge1$str$ptr + 3274432\n13  chromedriver                        0x0000000104388c0c chromedriver + 85004\n14  dyld                                0x00000001850c4274 start + 2840\n"
     ]
    }
   ],
   "source": [
    "chrome.close()"
   ]
  },
  {
   "cell_type": "code",
   "execution_count": null,
   "metadata": {},
   "outputs": [],
   "source": []
  }
 ],
 "metadata": {
  "kernelspec": {
   "display_name": "Python 3",
   "language": "python",
   "name": "python3"
  },
  "language_info": {
   "codemirror_mode": {
    "name": "ipython",
    "version": 3
   },
   "file_extension": ".py",
   "mimetype": "text/x-python",
   "name": "python",
   "nbconvert_exporter": "python",
   "pygments_lexer": "ipython3",
   "version": "3.12.2"
  }
 },
 "nbformat": 4,
 "nbformat_minor": 2
}
