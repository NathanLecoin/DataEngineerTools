{
 "cells": [
  {
   "cell_type": "markdown",
   "metadata": {},
   "source": [
    "# Requête HTTP "
   ]
  },
  {
   "cell_type": "markdown",
   "metadata": {},
   "source": [
    "Un requête HTTP est une requête basée sur le protocole TCP, elle fait partie de la couche application de la couche OSI. Elle permet d'accéder aux données mise à disposition sur une adresse IP (ou url résolue par un DNS) et un port. \n",
    "\n",
    "Les deux ports les plus utilisés dans le web sont le 80 pour les sites en HTTP et le 443 pour les sites en HTTPS. HTTPS est une variable du protocole HTTP basé sur le protocole TLS.\n",
    "\n",
    "Il existe de nombreux types de requêtes selon la convention `REST`: \n",
    "- GET\n",
    "- POST\n",
    "- PUT \n",
    "- DELETE\n",
    "- UPDATE.\n",
    "\n",
    "Dans notre cas, nous allons utiliser la plupart du temps des GET et potentiellement des POST. \n",
    "- Le GET permet comme son nom l'indique de récupérer des informations en fonction de certains paramètres. \n",
    "- Le POST nécessite un envoi de données pour récupérer des données. Le body du post est, la plupart du temps, envoyé sous la forme d'un objet JSON.\n",
    "\n",
    "Ces requêtes encapsulent un certain nombre de paramètres qui permettent soient d'identifier une provenance et un utilisateur ou de réaliser différentes actions."
   ]
  },
  {
   "cell_type": "code",
   "execution_count": 14,
   "metadata": {
    "ExecuteTime": {
     "end_time": "2024-10-07T19:47:38.635370Z",
     "start_time": "2024-10-07T19:47:38.599631Z"
    }
   },
   "outputs": [],
   "source": [
    "import requests"
   ]
  },
  {
   "cell_type": "code",
   "execution_count": 15,
   "metadata": {
    "ExecuteTime": {
     "end_time": "2024-10-07T19:48:01.794276Z",
     "start_time": "2024-10-07T19:48:01.690378Z"
    }
   },
   "outputs": [
    {
     "data": {
      "text/plain": [
       "200"
      ]
     },
     "execution_count": 15,
     "metadata": {},
     "output_type": "execute_result"
    }
   ],
   "source": [
    "url = \"https://www.esiee.fr/\"\n",
    "response = requests.get(url)\n",
    "response.status_code"
   ]
  },
  {
   "cell_type": "markdown",
   "metadata": {},
   "source": [
    "Il existe deux méthodes pour récupérer le contenu de la page :\n",
    "\n",
    "- `response.text` qui permet de retourner le texte sous la forme d'une chaine de charactères.\n",
    "- `response.content` qui permet de récupérer le contenu de la page sous la forme de bytes"
   ]
  },
  {
   "cell_type": "code",
   "execution_count": 18,
   "metadata": {
    "ExecuteTime": {
     "end_time": "2024-10-07T19:48:06.901620Z",
     "start_time": "2024-10-07T19:48:06.898643Z"
    }
   },
   "outputs": [
    {
     "data": {
      "text/plain": [
       "bytes"
      ]
     },
     "execution_count": 18,
     "metadata": {},
     "output_type": "execute_result"
    }
   ],
   "source": [
    "type(response.content)"
   ]
  },
  {
   "cell_type": "code",
   "execution_count": 19,
   "metadata": {
    "ExecuteTime": {
     "end_time": "2024-10-07T19:48:13.168682Z",
     "start_time": "2024-10-07T19:48:13.166007Z"
    }
   },
   "outputs": [
    {
     "data": {
      "text/plain": [
       "str"
      ]
     },
     "execution_count": 19,
     "metadata": {},
     "output_type": "execute_result"
    }
   ],
   "source": [
    "type(response.text)"
   ]
  },
  {
   "cell_type": "markdown",
   "metadata": {},
   "source": [
    "Pour récupérer les 1000 premiers charactères de la page :"
   ]
  },
  {
   "cell_type": "code",
   "execution_count": 7,
   "metadata": {
    "ExecuteTime": {
     "end_time": "2024-10-07T19:48:15.251081Z",
     "start_time": "2024-10-07T19:48:15.248157Z"
    }
   },
   "outputs": [
    {
     "data": {
      "text/plain": [
       "'<!DOCTYPE html>\\n<html lang=\"fr-FR\">\\n<head>\\n\\n<meta charset=\"utf-8\">\\n<!-- \\n\\tThis website is powered by TYPO3 - inspiring people to share!\\n\\tTYPO3 is a free open source Content Management Framework initially created by Kasper Skaarhoj and licensed under GNU/GPL.\\n\\tTYPO3 is copyright 1998-2024 of Kasper Skaarhoj. Extensions are copyright of their respective owners.\\n\\tInformation and contribution at https://typo3.org/\\n-->\\n\\n\\n\\n<title>ESIEE Paris, l&#039;école de l&#039;innovation technologique | ESIEE Paris</title>\\n<meta name=\"generator\" content=\"TYPO3 CMS\" />\\n<meta name=\"description\" content=\"Rejoignez ESIEE Paris, grande école d&#039;ingénieur dans les domaines des transitions numérique, énergétique et environnementale. Classée dans le groupe A, parmi les meilleures écoles d&#039;ingénieur selon le classement de l&#039;Etudiant. Habilitée par la Commission des Titres d&#039;Ingénieur (CTI). Membre de la Conférence des Grandes Ecoles (CGE). \" />\\n<meta name=\"viewport\" content=\"width=device-width'"
      ]
     },
     "execution_count": 7,
     "metadata": {},
     "output_type": "execute_result"
    }
   ],
   "source": [
    "response.text[0:1000]"
   ]
  },
  {
   "cell_type": "markdown",
   "metadata": {},
   "source": [
    "Pour récupérer les headers HTTP de la réponse :"
   ]
  },
  {
   "cell_type": "code",
   "execution_count": 20,
   "metadata": {
    "ExecuteTime": {
     "end_time": "2024-10-07T19:48:23.287126Z",
     "start_time": "2024-10-07T19:48:23.284018Z"
    }
   },
   "outputs": [
    {
     "data": {
      "text/plain": [
       "{'Date': 'Tue, 19 Nov 2024 12:10:37 GMT', 'Server': 'Apache', 'Content-Language': 'fr', 'Vary': 'Accept-Encoding', 'Content-Encoding': 'gzip', 'X-UA-Compatible': 'IE=edge', 'X-Content-Type-Options': 'nosniff', 'Content-Length': '16453', 'Content-Type': 'text/html; charset=utf-8', 'X-Varnish': '108036618 109347314', 'Age': '7', 'Via': '1.1 varnish (Varnish/7.1)', 'Accept-Ranges': 'bytes', 'Connection': 'keep-alive'}"
      ]
     },
     "execution_count": 20,
     "metadata": {},
     "output_type": "execute_result"
    }
   ],
   "source": [
    "response.headers"
   ]
  },
  {
   "cell_type": "markdown",
   "metadata": {},
   "source": [
    "On peut modifier les paramètres de la requête et/ou ses headers. On peut par exemple ajouter un UserAgent (identifiant de l'initiateur de la requête) et un timeout de 10 secondes :"
   ]
  },
  {
   "cell_type": "code",
   "execution_count": 21,
   "metadata": {
    "ExecuteTime": {
     "end_time": "2024-10-07T19:48:38.532299Z",
     "start_time": "2024-10-07T19:48:38.452433Z"
    }
   },
   "outputs": [
    {
     "data": {
      "text/plain": [
       "b'<!DOCTYPE html>\\n<html lang=\"fr-FR\">\\n<head>\\n\\n<meta charset=\"utf-8\">\\n<!-- \\n\\tThis website is powered by TYPO3 - inspiring people to share!\\n\\tTYPO3 is a free open source Content Management Framework initially created by Kasper Skaarhoj and licensed under GNU/GPL.\\n\\tTYPO3 is copyright 1998-2024 of Kasper Skaarhoj. Extensions are copyright of their respective owners.\\n\\tInformation and contribution at https://typo3.org/\\n-->\\n\\n\\n\\n<title>ESIEE Paris, l&#039;\\xc3\\xa9cole de l&#039;innovation technologique | ESIEE Paris</title>\\n<meta name=\"generator\" content=\"TYPO3 CMS\" />\\n<meta name=\"description\" content=\"Rejoignez ESIEE Paris, grande \\xc3\\xa9cole d&#039;ing\\xc3\\xa9nieur dans les domaines des transitions num\\xc3\\xa9rique, \\xc3\\xa9nerg\\xc3\\xa9tique et environnementale. Class\\xc3\\xa9e dans le groupe A, parmi les meilleures \\xc3\\xa9coles d&#039;ing\\xc3\\xa9nieur selon le classement de l&#039;Etudiant. Habilit\\xc3\\xa9e par la Commission des Titres d&#039;Ing\\xc3\\xa9nieur (CTI). Membre de la Conf\\xc3\\xa9rence des Grandes Ecoles (CGE). \" />\\n<meta name=\"viewport\" content=\"width='"
      ]
     },
     "execution_count": 21,
     "metadata": {},
     "output_type": "execute_result"
    }
   ],
   "source": [
    "headers = {'User-Agent': 'Mozilla/5.0 (Macintosh; Intel Mac OS X 10_10_1) AppleWebKit/537.36 (KHTML, like Gecko) Chrome/39.0.2171.95 Safari/537.36'}\n",
    "response = requests.get(url, headers=headers, timeout = 10)\n",
    "response.content[0:1000]"
   ]
  },
  {
   "cell_type": "markdown",
   "metadata": {},
   "source": [
    "## Exercice"
   ]
  },
  {
   "cell_type": "markdown",
   "metadata": {},
   "source": [
    "## Exercice 1\n",
    "\n",
    "- Créer une classe Python permettant de faire des requêtes HTTP.\n",
    "- Cette classe doit utiliser toujours le même UserAgent.\n",
    "- Le TimeOut sera spécifié à chaque appelle avec une valeur par défaut.\n",
    "- Un mécanisme de retry sera mis en place de façon recursive.\n",
    "\n",
    "## Exercice 2\n",
    "\n",
    "- Faire une fonction permettant de supprimer tous les espaces supperflus d'une string\n",
    "- Faire une fonction qui prend une string html et renvois une string intelligible (enlever les caractères spéciaux,\n",
    "- Récupérer le domaine en fonction d'un url"
   ]
  },
  {
   "cell_type": "code",
   "execution_count": 36,
   "metadata": {},
   "outputs": [],
   "source": [
    "# EXERCICE 1\n",
    "\n",
    "class HTTPClient:\n",
    "    \n",
    "    def __init__(self, max_retries=3):\n",
    "        # Déf user-agent\n",
    "        self.user_agent = \"Mozilla/5.0 (Macintosh; Intel Mac OS X 10_10_1) AppleWebKit/537.36 (KHTML, like Gecko) Chrome/39.0.2171.95 Safari/537.36\"\n",
    "        # Nombre de retries autorisés avant d'abandonner la requête (par défaut, 3 tentatives).\n",
    "        self.max_retries = max_retries\n",
    "        \n",
    "        \n",
    "    def make_request(self, url, timeout=10, retry_count=0):\n",
    "        headers = {\n",
    "            'User-Agent': self.user_agent\n",
    "        }\n",
    "        \n",
    "        try:\n",
    "            # Tentative d'envoi de la requête GET avec l'URL et les headers\n",
    "            response = requests.get(url, headers=headers, timeout=timeout)\n",
    "            # Vérification du statut de la réponse. Si erreur, une exception est levée.\n",
    "            response.raise_for_status()\n",
    "            return response\n",
    "        except requests.RequestException as e:\n",
    "            # Si une erreur se produit (connexion, timeout, etc.), elle est capturée ici\n",
    "            print(f\"Erreur lors de la requête : {e}\")\n",
    "            \n",
    "            # Si on n'a pas atteint le nombre maximal de retries, on tente à nouveau\n",
    "            if retry_count < self.max_retries:\n",
    "                print(f\"Retry {retry_count + 1}/{self.max_retries}\")\n",
    "                return self.make_request(url, timeout, retry_count + 1)\n",
    "            else:\n",
    "                # Si le nombre de retries a été atteint, on abandonne\n",
    "                print(\"Nombre maximal de retries atteint.\")\n",
    "                return None\n",
    "            \n",
    "    # Méthode de test pour effectuer une requête HTTP et afficher le résultat\n",
    "    def test_request(self, url, timeout=10):\n",
    "        # Affichage de l'URL avant de faire la requête\n",
    "        print(\"Test de requête HTTP avec URL :\", url)\n",
    "        \n",
    "        # Appel de la méthode make_request pour obtenir la réponse\n",
    "        response = self.make_request(url, timeout)\n",
    "        \n",
    "        # Si la requête a réussi, on affiche le code de statut de la réponse\n",
    "        if response:\n",
    "            print(\"Test réussi, statut de la réponse :\", response.status_code)\n",
    "        else:\n",
    "            # Si la requête a échoué après plusieurs tentatives, on affiche un message d'erreur\n",
    "            print(\"Test échoué après plusieurs retries.\")\n"
   ]
  },
  {
   "cell_type": "code",
   "execution_count": 45,
   "metadata": {},
   "outputs": [
    {
     "name": "stdout",
     "output_type": "stream",
     "text": [
      "Test de requête HTTP avec URL : https://www.esiee.fr/\n",
      "Test réussi, statut de la réponse : 200\n",
      "\n",
      "\n",
      "Test de requête HTTP avec URL : https://www.esiee.fr/\n",
      "Erreur lors de la requête : HTTPSConnectionPool(host='www.esiee.fr', port=443): Max retries exceeded with url: / (Caused by ConnectTimeoutError(<urllib3.connection.HTTPSConnection object at 0x10be2d580>, 'Connection to www.esiee.fr timed out. (connect timeout=0.001)'))\n",
      "Retry 1/3\n",
      "Erreur lors de la requête : HTTPSConnectionPool(host='www.esiee.fr', port=443): Max retries exceeded with url: / (Caused by ConnectTimeoutError(<urllib3.connection.HTTPSConnection object at 0x10c105c10>, 'Connection to www.esiee.fr timed out. (connect timeout=0.001)'))\n",
      "Retry 2/3\n",
      "Erreur lors de la requête : HTTPSConnectionPool(host='www.esiee.fr', port=443): Max retries exceeded with url: / (Caused by ConnectTimeoutError(<urllib3.connection.HTTPSConnection object at 0x10c106510>, 'Connection to www.esiee.fr timed out. (connect timeout=0.001)'))\n",
      "Retry 3/3\n",
      "Erreur lors de la requête : HTTPSConnectionPool(host='www.esiee.fr', port=443): Max retries exceeded with url: / (Caused by ConnectTimeoutError(<urllib3.connection.HTTPSConnection object at 0x10c106e10>, 'Connection to www.esiee.fr timed out. (connect timeout=0.001)'))\n",
      "Nombre maximal de retries atteint.\n",
      "Test échoué après plusieurs retries.\n"
     ]
    }
   ],
   "source": [
    "client = HTTPClient(max_retries=3)\n",
    "\n",
    "# Test normal avec timeout par défaut\n",
    "client.test_request(\"https://www.esiee.fr/\")\n",
    "print('\\n')\n",
    "\n",
    "# Test avec un timeout court pour forcer un retry\n",
    "client.test_request(\"https://www.esiee.fr/\", timeout=0.001)"
   ]
  },
  {
   "cell_type": "code",
   "execution_count": 26,
   "metadata": {},
   "outputs": [],
   "source": [
    "# EXERCICE 2\n",
    "\n",
    "def remove_spaces(string):\n",
    "    \n",
    "    return \" \".join(string.split())"
   ]
  },
  {
   "cell_type": "code",
   "execution_count": 27,
   "metadata": {},
   "outputs": [],
   "source": [
    "def remove_special_carac_html_string(html):\n",
    "    \n",
    "    # initializing bad_chars_list\n",
    "    bad_chars = [';', ':', '!', \"*\", \" \"]\n",
    "        \n",
    "    # remove bad_chars\n",
    "    for i in bad_chars:\n",
    "        new_string = html.replace(i, '')\n",
    "        \n",
    "    return new_string"
   ]
  },
  {
   "cell_type": "code",
   "execution_count": 29,
   "metadata": {},
   "outputs": [],
   "source": [
    "def extract_domain(url):\n",
    "    \n",
    "    from urllib.parse import urlparse\n",
    "    \n",
    "    parsed_url = urlparse(url)\n",
    "    return parsed_url.netloc\n"
   ]
  },
  {
   "cell_type": "markdown",
   "metadata": {},
   "source": [
    "# Exploitation du HTML  "
   ]
  },
  {
   "cell_type": "markdown",
   "metadata": {},
   "source": [
    "Ici, il faut récupérer le code HTML d'un site web à partir d'une requête. Lorsque vous avez récupéré le texte d'un site il faut le parser. Pour cela, on utilise BeautifulSoup qui permet de transformer la structure HTML en objet Python. Cela permet de récupérer efficacement les données qui nous intéresse.\n",
    "\n",
    "Pour les webmasters, le blocage le plus souvent mis en place et un blocage sur le User-Agent. Le User-Agent est un paramètre intégré dans la requête HTTP réalisé par le Navigateur pour envoyer au front des informations basiques :\n",
    "\n",
    "- la version du Navigateur,\n",
    "- la version de l'OS\n",
    "- Le type de gestionnaire graphique (Gecko)\n",
    "- le type de device utilisé"
   ]
  },
  {
   "cell_type": "markdown",
   "metadata": {},
   "source": [
    "Exemple de User Agent :  \n",
    "\n",
    "`Mozilla/5.0 (Windows NT 6.1; Win64; x64; rv:47.0) Gecko/20100101 Firefox/47.0`"
   ]
  },
  {
   "cell_type": "markdown",
   "metadata": {},
   "source": [
    "Commençons à utiliser `BeautifulSoup`, il est normalement déjà installé, le cas échéant executez les lignes suivantes : "
   ]
  },
  {
   "cell_type": "code",
   "execution_count": 30,
   "metadata": {
    "ExecuteTime": {
     "end_time": "2024-10-07T19:50:10.823860Z",
     "start_time": "2024-10-07T19:50:10.764935Z"
    }
   },
   "outputs": [],
   "source": [
    "import requests\n",
    "from bs4 import BeautifulSoup"
   ]
  },
  {
   "cell_type": "markdown",
   "metadata": {},
   "source": [
    "Pour transformer une requête (requests) en objet BeautifulSoup :"
   ]
  },
  {
   "cell_type": "code",
   "execution_count": 31,
   "metadata": {
    "ExecuteTime": {
     "end_time": "2024-10-07T19:50:13.979141Z",
     "start_time": "2024-10-07T19:50:13.888552Z"
    }
   },
   "outputs": [],
   "source": [
    "response = requests.get(url)\n",
    "soup = BeautifulSoup(response.text)"
   ]
  },
  {
   "cell_type": "markdown",
   "metadata": {},
   "source": [
    "Pour trouver tous les liens d'une page, on récupère la balise `a` qui permet de gérer les liens en HTML :"
   ]
  },
  {
   "cell_type": "code",
   "execution_count": 32,
   "metadata": {
    "ExecuteTime": {
     "end_time": "2024-10-07T19:50:19.065788Z",
     "start_time": "2024-10-07T19:50:19.063429Z"
    }
   },
   "outputs": [
    {
     "data": {
      "text/plain": [
       "[<a href=\"/#content\">Aller au contenu</a>,\n",
       " <a href=\"/#menu\">Aller au menu</a>,\n",
       " <a href=\"/plan-du-site/\">Plan du site</a>,\n",
       " <a href=\"/actualites/journees-portes-ouvertes-2024-2025\" target=\"_blank\" title=\"Ouvre une nouvelle fenêtre\">Bien choisir son école, c'est aussi la rencontrer ! Rendez-vous à ESIEE Paris le 7 décembre de 13h à 18h pour notre journée portes ouvertes.</a>,\n",
       " <a href=\"/\"><img alt=\"ESIEE PARIS\" class=\"a42-ac-replace-img\" src=\"/typo3conf/ext/esiee_sitepackage/Resources/Public/imgs/svg/logo-esiee.svg\"/></a>,\n",
       " <a href=\"/brochures-1\">Brochures</a>,\n",
       " <a href=\"/informations/etudiantes-et-etudiants\">Espace élèves</a>,\n",
       " <a href=\"/\" hreflang=\"fr-FR\" title=\"Français\">\n",
       " <span>Fr</span>\n",
       " </a>,\n",
       " <a href=\"/en/\" hreflang=\"en-US\" title=\"English\">\n",
       " <span>En</span>\n",
       " </a>,\n",
       " <a href=\"/candidater-1\">Candidater</a>]"
      ]
     },
     "execution_count": 32,
     "metadata": {},
     "output_type": "execute_result"
    }
   ],
   "source": [
    "soup.find_all(\"a\")[0:10]"
   ]
  },
  {
   "cell_type": "markdown",
   "metadata": {},
   "source": [
    "On peut aussi préciser la classe HTML qu'on veut récupérer :\n",
    "\n",
    "```python\n",
    "soup.find_all(class_=\"<CLASS_NAME>\")[0:10]\n",
    "```\n",
    "\n",
    "Ici par exemple: "
   ]
  },
  {
   "cell_type": "code",
   "execution_count": 33,
   "metadata": {
    "ExecuteTime": {
     "end_time": "2024-10-07T19:50:34.406680Z",
     "start_time": "2024-10-07T19:50:34.400091Z"
    }
   },
   "outputs": [
    {
     "data": {
      "text/plain": [
       "[<button aria-controls=\"searchbox-header-form\" aria-expanded=\"false\" class=\"toggler\">\n",
       " <i class=\"fa-solid fa-magnifying-glass\"></i>\n",
       " <i class=\"fa-solid fa-xmark\"></i>\n",
       " <span class=\"sr-only\">\n",
       " <span class=\"display\">Afficher</span><span class=\"hide\">Masquer</span> la recherche\n",
       " \t\t</span>\n",
       " </button>,\n",
       " <button aria-controls=\"submenu-40\" aria-expanded=\"false\" class=\"toggler\"><span class=\"sr-only\"><span class=\"display\">Afficher</span><span class=\"hide\">Masquer</span> le sous menu : </span>L'école</button>,\n",
       " <button aria-controls=\"submenu-563\" aria-expanded=\"false\" class=\"toggler\"><span class=\"sr-only\"><span class=\"display\">Afficher</span><span class=\"hide\">Masquer</span> le sous menu : </span>Gouvernance et conseils</button>,\n",
       " <button aria-controls=\"submenu-65\" aria-expanded=\"false\" class=\"toggler\"><span class=\"sr-only\"><span class=\"display\">Afficher</span><span class=\"hide\">Masquer</span> le sous menu : </span>Départements d'enseignements et de recherche</button>,\n",
       " <button aria-controls=\"submenu-67\" aria-expanded=\"false\" class=\"toggler\"><span class=\"sr-only\"><span class=\"display\">Afficher</span><span class=\"hide\">Masquer</span> le sous menu : </span>Salles blanches</button>]"
      ]
     },
     "execution_count": 33,
     "metadata": {},
     "output_type": "execute_result"
    }
   ],
   "source": [
    "soup.find_all(class_=\"toggler\")[0:5]"
   ]
  },
  {
   "cell_type": "markdown",
   "metadata": {},
   "source": [
    "Pour récupérer le text sans les balises HTML :"
   ]
  },
  {
   "cell_type": "code",
   "execution_count": 34,
   "metadata": {
    "ExecuteTime": {
     "end_time": "2024-10-07T19:50:43.103789Z",
     "start_time": "2024-10-07T19:50:43.100752Z"
    }
   },
   "outputs": [
    {
     "data": {
      "text/plain": [
       "\"\\n\\n\\n\\n\\nESIEE Paris, l'école de l'innovation technologique | ESIEE Paris\\n\\n\\n\\n\\n\\n\\n\\n\\n\\n\\n\\n\\n\\n\\n\\n\\n\\n\\n\\n\\n\\n\\n\\n\\n\\nAller au contenu\\nAller au menu\\nPlan du site\\n\\n\\n\\n\\n\\n\\n\\nBien choisir son école, c'est aussi la rencontrer ! Rendez-vous à ESIEE Paris le 7 décembre de 13h à 18h pour notre journée portes ouvertes.\\n\\n\\n\\n\\n\\nMasquer l'alerte\\n\\n\\n\\n\\n\\n\\n\\n\\n\\n\\n\\n\\n\\n\\nBrochuresEspace élèves\\n\\n\\n\\nFr\\n\\n\\n\\n\\nEn\\n\\n\\n\\n\\n\\n\\n\\n\\n\\nAfficherMasquer la recherche\\r\\n\\t\\t\\n\\n\\n\\nSaisissez votre recherche\\xa0:\\n\\nLancer la recherche\\n\\n\\n\\nCandidater\\n\\nAfficherMasquer le menu\\n\\n\\n\\n\\n\\nRetour au menu principalAfficherMasquer le sous menu\\xa0: L'écolePourquoi choisir ESIEE Paris ?AfficherMasquer le sous menu\\xa0: Gouvernance et conseilsGouvernance et conseilsConseil scientifiqueAfficherMasquer le sous menu\\xa0: Départements d'enseignements et de rechercheInformatique et télécommunicationsIngénierie des systèmes cyberphysiquesIngénierie industrielleSanté, énergie et environnement durableManagement, sciences humaines et languesCorps professoralAfficherMasquer le sous menu\\xa0: Salles blanchesSa\""
      ]
     },
     "execution_count": 34,
     "metadata": {},
     "output_type": "execute_result"
    }
   ],
   "source": [
    "soup.text[0:1000]"
   ]
  },
  {
   "cell_type": "markdown",
   "metadata": {},
   "source": [
    "## Exercice\n",
    "### Exercice 3\n",
    "\n",
    "Améliorer la classe développé précédemment.\n",
    "\n",
    "- Ajouter une méthode pour récupérer l'objet soup d'un url\n",
    "- Récupérer une liste de User Agent et effectuer une rotation aléatoire sur celui à utiliser\n",
    "- Utiliser cette classe pour parser une page HTML et récupérer : le titre, tous les H1 (si ils existent), les liens vers les images, les liens sortants vers d'autres sites, et le texte principal."
   ]
  },
  {
   "cell_type": "code",
   "execution_count": 70,
   "metadata": {},
   "outputs": [],
   "source": [
    "# EXERCICE 3 \n",
    "\n",
    "from urllib.parse import urlparse, urljoin\n",
    "import random\n",
    "\n",
    "class HTTPClient:\n",
    "    \n",
    "    def __init__(self, max_retries=3):\n",
    "    \n",
    "        # Def user agent\n",
    "        self.user_agent = \"Mozilla/5.0 (Macintosh; Intel Mac OS X 10_10_1) AppleWebKit/537.36 (KHTML, like Gecko) Chrome/39.0.2171.95 Safari/537.36\"\n",
    "        # Nb de retry\n",
    "        self.max_retries = max_retries\n",
    "    \n",
    "    # effectuer une requête\n",
    "    def make_request(self, url, timeout=10, retry_count=0):\n",
    "        headers = {\n",
    "            'User-Agent': self.user_agent\n",
    "        }\n",
    "        \n",
    "        try:\n",
    "            response = requests.get(url, headers=headers, timeout=timeout)\n",
    "            response.raise_for_status()\n",
    "            return response\n",
    "        except requests.RequestException as e:\n",
    "            print(f\"Erreur lors de la requête : {e}\")\n",
    "            \n",
    "            if retry_count < self.max_retries:\n",
    "                print(f\"Retry {retry_count + 1}/{self.max_retries}\")\n",
    "                return self.make_request(url, timeout, retry_count + 1)\n",
    "            else:\n",
    "                print(\"Nombre maximal de retries atteint.\")\n",
    "                return None\n",
    "    \n",
    "    def test_request(self, url, timeout=10):\n",
    "        print(\"Test de requête HTTP avec URL :\", url)\n",
    "        \n",
    "        response = self.make_request(url, timeout)\n",
    "        \n",
    "        if response:\n",
    "            print(\"Test réussi, statut de la réponse :\", response.status_code)\n",
    "        else:\n",
    "            print(\"Test échoué après plusieurs retries.\")\n",
    "            \n",
    "            \n",
    "            \n",
    "    # rotation aléatoire sur l'user agent  \n",
    "    def rotate_user_agent(self):\n",
    "        \"\"\"Choisit un User Agent aléatoire dans la liste.\"\"\"\n",
    "        return random.choice(self.user_agents)\n",
    "    \n",
    "    # récupérer l'objet soup d'un url\n",
    "    def get_soup(self, url, timeout=10):\n",
    "        \"\"\"Récupère un objet BeautifulSoup à partir d'une URL.\"\"\"\n",
    "        response = self.make_request(url, timeout)\n",
    "        if response:\n",
    "            return BeautifulSoup(response.text, 'html.parser')\n",
    "        else:\n",
    "            return None\n",
    "\n",
    "    # parser la page HTML\n",
    "    def parse_page(self, url, timeout=10):\n",
    "        \"\"\"Récupère les éléments principaux d'une page HTML.\"\"\"\n",
    "        soup = self.get_soup(url, timeout)\n",
    "        if not soup:\n",
    "            return None\n",
    "\n",
    "        # Extraction des données demandées\n",
    "        data = {\n",
    "            \"title\": soup.title.string if soup.title else \"Titre non trouvé\",\n",
    "            \"h1_tags\": [h1.get_text(strip=True) for h1 in soup.find_all('h1')],\n",
    "            \"image_links\": [img['src'] for img in soup.find_all('img', src=True)],\n",
    "            \"external_links\": [],\n",
    "            \"main_text\": soup.get_text(strip=True),\n",
    "        }\n",
    "\n",
    "        # Extraction des liens externes\n",
    "        all_links = soup.find_all('a', href=True)\n",
    "        domain = urlparse(url).netloc\n",
    "        for link in all_links:\n",
    "            href = link['href']\n",
    "            if urlparse(href).netloc and urlparse(href).netloc != domain:\n",
    "                data[\"external_links\"].append(urljoin(url, href))\n",
    "\n",
    "        return data "
   ]
  },
  {
   "cell_type": "code",
   "execution_count": 71,
   "metadata": {},
   "outputs": [
    {
     "name": "stdout",
     "output_type": "stream",
     "text": [
      "Titre de la page : ESIEE Paris, l'école de l'innovation technologique | ESIEE Paris\n",
      "\n",
      "H1 tags : ['']\n",
      "\n",
      "Liens vers des images : ['/typo3conf/ext/esiee_sitepackage/Resources/Public/imgs/svg/logo-esiee.svg', 'data:image/gif;base64,R0lGODlhAQABAIAAAP///wAAACH5BAEAAAAALAAAAAABAAEAAAICRAEAOw==', '/fileadmin/user_upload/Fichiers/image-home/ESIEE-Home-Main-Picture.webp', 'data:image/gif;base64,R0lGODlhAQABAIAAAP///wAAACH5BAEAAAAALAAAAAABAAEAAAICRAEAOw==', '/fileadmin/_processed_/9/5/csm_actu-jpo-1344x840_6889669208.jpg', 'data:image/gif;base64,R0lGODlhAQABAIAAAP///wAAACH5BAEAAAAALAAAAAABAAEAAAICRAEAOw==', '/fileadmin/_processed_/0/b/csm_photos-salons-1344x840_472aff3f3e.jpg', 'data:image/gif;base64,R0lGODlhAQABAIAAAP///wAAACH5BAEAAAAALAAAAAABAAEAAAICRAEAOw==', '/fileadmin/_processed_/0/3/csm_sandrine-wamy-trophees-des-femmes-de-l_industrie-2024-1344x840_7f464ae034.jpg', 'data:image/gif;base64,R0lGODlhAQABAIAAAP///wAAACH5BAEAAAAALAAAAAABAAEAAAICRAEAOw==', '/fileadmin/_processed_/1/6/csm_illustration-forum-esiee-2023_1c7f564193.jpg', 'data:image/gif;base64,R0lGODlhAQABAIAAAP///wAAACH5BAEAAAAALAAAAAABAAEAAAICRAEAOw==', '/fileadmin/_processed_/2/e/csm_20-jeux-game-jam-2024-1344x840_136734cca4.jpg', 'data:image/gif;base64,R0lGODlhAQABAIAAAP///wAAACH5BAEAAAAALAAAAAABAAEAAAICRAEAOw==', '/fileadmin/_processed_/7/2/csm_sajjad-maleki-best-paper-1344x840_81cb3e004d.jpg', 'data:image/gif;base64,R0lGODlhAQABAIAAAP///wAAACH5BAEAAAAALAAAAAABAAEAAAICRAEAOw==', '/fileadmin/_processed_/e/7/csm_critical-climate-machine-salle-1344x840_52de3657ff.jpg', 'data:image/gif;base64,R0lGODlhAQABAIAAAP///wAAACH5BAEAAAAALAAAAAABAAEAAAICRAEAOw==', '/fileadmin/_processed_/c/8/csm_visuel-taxe-soltea-2023-1344x756_9216c31522.jpg', 'data:image/gif;base64,R0lGODlhAQABAIAAAP///wAAACH5BAEAAAAALAAAAAABAAEAAAICRAEAOw==', '/fileadmin/_processed_/8/5/csm_roman-fuchs-1344x840_0a8c154738.jpg', 'data:image/gif;base64,R0lGODlhAQABAIAAAP///wAAACH5BAEAAAAALAAAAAABAAEAAAICRAEAOw==', '/fileadmin/_processed_/0/d/csm_visuel-amphi-titre-yann-lecun-1344x840_5827ab6ab4.jpg', 'data:image/gif;base64,R0lGODlhAQABAIAAAP///wAAACH5BAEAAAAALAAAAAABAAEAAAICRAEAOw==', '/fileadmin/_processed_/4/c/csm_heaver-xavier-beaunol-1344x756_9a71bd0ecb.jpg', 'data:image/gif;base64,R0lGODlhAQABAIAAAP///wAAACH5BAEAAAAALAAAAAABAAEAAAICRAEAOw==', '/fileadmin/_processed_/9/2/csm_certification-happyatschool-202-1344x840_e1c5a2b739.jpg', 'data:image/gif;base64,R0lGODlhAQABAIAAAP///wAAACH5BAEAAAAALAAAAAABAAEAAAICRAEAOw==', '/fileadmin/_processed_/3/c/csm_logo-actu-cwur-1344x840_7742b481da.jpg', 'data:image/gif;base64,R0lGODlhAQABAIAAAP///wAAACH5BAEAAAAALAAAAAABAAEAAAICRAEAOw==', '/fileadmin/_processed_/4/e/csm_membres-conseil-scientifique-1344x840_ddc935c844.png', 'data:image/gif;base64,R0lGODlhAQABAIAAAP///wAAACH5BAEAAAAALAAAAAABAAEAAAICRAEAOw==', '/fileadmin/_processed_/2/a/csm_evenement-neurosciences-1344x840_ff96aa55a6.jpg', 'data:image/gif;base64,R0lGODlhAQABAIAAAP///wAAACH5BAEAAAAALAAAAAABAAEAAAICRAEAOw==', '/fileadmin/_processed_/c/4/csm_participants-quiz-1344x840_3802f874ee.jpg', 'data:image/gif;base64,R0lGODlhAQABAIAAAP///wAAACH5BAEAAAAALAAAAAABAAEAAAICRAEAOw==', '/fileadmin/_processed_/e/a/csm_story-classements-540x960_1f891460f0.jpg', 'data:image/gif;base64,R0lGODlhAQABAIAAAP///wAAACH5BAEAAAAALAAAAAABAAEAAAICRAEAOw==', '/fileadmin/_processed_/4/2/csm_graphergia-2_a3abaa930e.png', 'data:image/gif;base64,R0lGODlhAQABAIAAAP///wAAACH5BAEAAAAALAAAAAABAAEAAAICRAEAOw==', '/fileadmin/_processed_/1/d/csm_capture-reportage-france5-lionel_d1c282b790.png', 'data:image/gif;base64,R0lGODlhAQABAIAAAP///wAAACH5BAEAAAAALAAAAAABAAEAAAICRAEAOw==', '/fileadmin/_processed_/7/0/csm_story-feminisation-540x960_6e3222ad89.jpg', 'data:image/gif;base64,R0lGODlhAQABAIAAAP///wAAACH5BAEAAAAALAAAAAABAAEAAAICRAEAOw==', '/fileadmin/_processed_/c/1/csm_actu-classement-logo-ranking-1344x840_ec9b640c4f.jpg', 'data:image/gif;base64,R0lGODlhAQABAIAAAP///wAAACH5BAEAAAAALAAAAAABAAEAAAICRAEAOw==', '/fileadmin/_processed_/a/d/csm_carte-grand-paris-1344x756_f1f626f07b.jpg', 'data:image/gif;base64,R0lGODlhAQABAIAAAP///wAAACH5BAEAAAAALAAAAAABAAEAAAICRAEAOw==', '/fileadmin/_processed_/d/7/csm_illustation_international_b2b69dfcd1.jpg', 'data:image/gif;base64,R0lGODlhAQABAIAAAP///wAAACH5BAEAAAAALAAAAAABAAEAAAICRAEAOw==', '/fileadmin/_processed_/0/f/csm_illustration-recherche-galette-1920x1080_a24a19d4b2.jpg', 'data:image/gif;base64,R0lGODlhAQABAIAAAP///wAAACH5BAEAAAAALAAAAAABAAEAAAICRAEAOw==', '/fileadmin/user_upload/Fichiers/entreprises/recruter-apprentis/illustration-travaux-groupe-1920x1080.jpg', 'data:image/gif;base64,R0lGODlhAQABAIAAAP///wAAACH5BAEAAAAALAAAAAABAAEAAAICRAEAOw==', '/fileadmin/user_upload/Fichiers/entreprises/illustration-innovation-abstaite-1920x1080.jpg', 'data:image/gif;base64,R0lGODlhAQABAIAAAP///wAAACH5BAEAAAAALAAAAAABAAEAAAICRAEAOw==', '/fileadmin/user_upload/Fichiers/recherche/illustration-salles-blanches-facade-exterieur-1920x1080.jpg', 'data:image/gif;base64,R0lGODlhAQABAIAAAP///wAAACH5BAEAAAAALAAAAAABAAEAAAICRAEAOw==', '/fileadmin/user_upload/Fichiers/entreprises/illustration-entretien-poignee-mains-1920x1080.jpg', 'data:image/gif;base64,R0lGODlhAQABAIAAAP///wAAACH5BAEAAAAALAAAAAABAAEAAAICRAEAOw==', '/fileadmin/_processed_/0/9/csm_blank-profile-picture-bleu-400x400_00479b2092.png', 'data:image/gif;base64,R0lGODlhAQABAIAAAP///wAAACH5BAEAAAAALAAAAAABAAEAAAICRAEAOw==', '/fileadmin/_processed_/e/5/csm_blank-profile-picture-rose-400-x-400_ed015df7e9.png', 'data:image/gif;base64,R0lGODlhAQABAIAAAP///wAAACH5BAEAAAAALAAAAAABAAEAAAICRAEAOw==', '/fileadmin/_processed_/0/4/csm_blank-profile-picture-bleu2_400_x_400_97b4966771.png', 'data:image/gif;base64,R0lGODlhAQABAIAAAP///wAAACH5BAEAAAAALAAAAAABAAEAAAICRAEAOw==', '/fileadmin/_processed_/1/1/csm_blank-profile-picture-vert-400-x-400_d335e61b02.png', 'data:image/gif;base64,R0lGODlhAQABAIAAAP///wAAACH5BAEAAAAALAAAAAABAAEAAAICRAEAOw==', '/fileadmin/_processed_/0/9/csm_blank-profile-picture-bleu-400x400_00479b2092.png', 'data:image/gif;base64,R0lGODlhAQABAIAAAP///wAAACH5BAEAAAAALAAAAAABAAEAAAICRAEAOw==', '/fileadmin/_processed_/e/5/csm_blank-profile-picture-rose-400-x-400_ed015df7e9.png', 'data:image/gif;base64,R0lGODlhAQABAIAAAP///wAAACH5BAEAAAAALAAAAAABAAEAAAICRAEAOw==', '/fileadmin/_processed_/0/4/csm_blank-profile-picture-bleu2_400_x_400_97b4966771.png', 'data:image/gif;base64,R0lGODlhAQABAIAAAP///wAAACH5BAEAAAAALAAAAAABAAEAAAICRAEAOw==', '/fileadmin/_processed_/1/1/csm_blank-profile-picture-vert-400-x-400_d335e61b02.png', 'data:image/gif;base64,R0lGODlhAQABAIAAAP///wAAACH5BAEAAAAALAAAAAABAAEAAAICRAEAOw==', '/fileadmin/_processed_/0/9/csm_blank-profile-picture-bleu-400x400_00479b2092.png', 'data:image/gif;base64,R0lGODlhAQABAIAAAP///wAAACH5BAEAAAAALAAAAAABAAEAAAICRAEAOw==', '/fileadmin/_processed_/e/5/csm_blank-profile-picture-rose-400-x-400_ed015df7e9.png', 'data:image/gif;base64,R0lGODlhAQABAIAAAP///wAAACH5BAEAAAAALAAAAAABAAEAAAICRAEAOw==', '/fileadmin/_processed_/0/4/csm_blank-profile-picture-bleu2_400_x_400_97b4966771.png', 'data:image/gif;base64,R0lGODlhAQABAIAAAP///wAAACH5BAEAAAAALAAAAAABAAEAAAICRAEAOw==', '/fileadmin/_processed_/0/1/csm_CGE_RVB_c8cfe1001b.png', 'data:image/gif;base64,R0lGODlhAQABAIAAAP///wAAACH5BAEAAAAALAAAAAABAAEAAAICRAEAOw==', '/fileadmin/_processed_/a/0/csm_cti_logo.svg_64c64e06e1.png', 'data:image/gif;base64,R0lGODlhAQABAIAAAP///wAAACH5BAEAAAAALAAAAAABAAEAAAICRAEAOw==', '/fileadmin/_processed_/e/1/csm_EUR-ACE_52594b329c.png', 'data:image/gif;base64,R0lGODlhAQABAIAAAP///wAAACH5BAEAAAAALAAAAAABAAEAAAICRAEAOw==', '/fileadmin/_processed_/6/e/csm_1200px-DL_04_Dip_Ing.svg_0873c534da.png', '/typo3conf/ext/esiee_sitepackage/Resources/Public/imgs/svg/logo-esiee-footer.svg', '/typo3conf/ext/esiee_sitepackage/Resources/Public/imgs/svg/logo-cci-paris-ile-de-france-education.svg', '/typo3conf/ext/esiee_sitepackage/Resources/Public/imgs/svg/logo-univ-gustave-eiffel.svg']\n",
      "\n",
      "Liens externes : ['http://esiee.jobteaser.com/fr/recruiter_account/job_offers', 'https://www.cge.asso.fr/', 'https://www.cti-commission.fr/', 'https://www.cti-commission.fr/la-cti/demarche-qualite/systeme-qe/eur-ace', 'https://www.enseignementsup-recherche.gouv.fr/fr/labels-des-formations-controlees-par-l-etat-46088', 'https://www.facebook.com/esieeparis', 'https://www.instagram.com/esieeparis/', 'https://www.linkedin.com/edu/school?id=20041&trk=tyah&trkInfo=idx%3A4-1-4%2CtarId%3A1425998561386%2Ctas%3Aesiee+paris', 'https://twitter.com/ESIEEPARIS', 'http://www.youtube.com/esieeparis', 'https://www.cci-paris-idf.fr/fr/education', 'https://www.univ-gustave-eiffel.fr/']\n",
      "\n",
      "Texte principal (extrait) : ESIEE Paris, l'école de l'innovation technologique | ESIEE ParisAller au contenuAller au menuPlan du siteBien choisir son école, c'est aussi la rencontrer ! Rendez-vous à ESIEE Paris le 7 décembre de  ...\n"
     ]
    }
   ],
   "source": [
    "client = HTTPClient()\n",
    "\n",
    "url = \"https://www.esiee.fr/\"\n",
    "\n",
    "parsed_data = client.parse_page(url)\n",
    "if parsed_data:\n",
    "    print(\"Titre de la page :\", parsed_data[\"title\"])\n",
    "    print(\"\\nH1 tags :\", parsed_data[\"h1_tags\"])\n",
    "    print(\"\\nLiens vers des images :\", parsed_data[\"image_links\"])\n",
    "    print(\"\\nLiens externes :\", parsed_data[\"external_links\"])\n",
    "    print(\"\\nTexte principal (extrait) :\", parsed_data[\"main_text\"][:200], \"...\")\n",
    "else:\n",
    "    print(\"Impossible de parser la page.\")"
   ]
  },
  {
   "cell_type": "markdown",
   "metadata": {},
   "source": [
    "# Exploitation des appels d'API\n"
   ]
  },
  {
   "cell_type": "markdown",
   "metadata": {},
   "source": [
    "\n",
    "Losque le front du site récupère des données sur une API gérée par le back, un appel d'API est réalisé. Cet appel est recensé dans les appels réseaux. Il est alors possible de re-jouer cet appel pour récupérer à nouveau les données. Il est très facile de récupérer ces appels dans l'onglet Network de la console développeur de Chrome ou FireFox. La console vous permet de copier le code CURL de la requête et vous pouvez ensuite la transformer en code Python depuis le site https://curl.trillworks.com/.\n",
    "\n",
    "Souvent les APIs sont bloquées avec certains paramètres. L'API vérifie que dans les headers de la requête HTTP ces paramètres sont présents :\n",
    "* un token généré à la volée avec des protocoles OAuth2 (ou moins développés).\n",
    "* un referer provenant du site web (la source de la requête), très facile à falsifier.\n",
    "\n"
   ]
  },
  {
   "cell_type": "markdown",
   "metadata": {},
   "source": [
    "## Exercice \n",
    "### Exercice 4\n",
    "\n",
    "- Utiliser les informations développées plus haut pour récupérer les premiers résultats d'une recherche d'une requête\n",
    "sur Google. \n",
    "\n",
    "Tips : \n",
    "\n",
    "- Ouvrir les outils de développements de Chrome ou Firefox\n",
    "- Onglet Network\n",
    "- Fouiller dans les requêtes pour voir à quoi ressemble un appel API Google\n",
    "- Utilisez beautiful soup pour convertir le contenu de la request en objet et accéder aux balises"
   ]
  },
  {
   "cell_type": "code",
   "execution_count": 131,
   "metadata": {},
   "outputs": [
    {
     "name": "stdout",
     "output_type": "stream",
     "text": [
      "Aucun résultat trouvé.\n"
     ]
    }
   ],
   "source": [
    "import requests\n",
    "from bs4 import BeautifulSoup\n",
    "from urllib.parse import urlparse, urljoin\n",
    "\n",
    "class HTTPClientGoogle:\n",
    "    \n",
    "    # Constructeur de classe \n",
    "    def __init__(self, max_retries=3):\n",
    "        self.user_agent = \"Mozilla/5.0 (Macintosh; Intel Mac OS X 10_10_1) AppleWebKit/537.36 (KHTML, like Gecko) Chrome/39.0.2171.95 Safari/537.36\"\n",
    "        self.max_retries = max_retries\n",
    "        \n",
    "    # Méthode pour effectuer la requête HTTP\n",
    "    def make_request(self, url, timeout=10, retry_count=0):\n",
    "        headers = {\n",
    "            'User-Agent': self.user_agent\n",
    "        }\n",
    "        \n",
    "        try:\n",
    "            response = requests.get(url, headers=headers, timeout=timeout)\n",
    "            response.raise_for_status()\n",
    "            return response\n",
    "        except requests.RequestException as e:\n",
    "            print(f\"Erreur lors de la requête : {e}\")\n",
    "            if retry_count < self.max_retries:\n",
    "                print(f\"Retry {retry_count + 1}/{self.max_retries}\")\n",
    "                return self.make_request(url, timeout, retry_count + 1)\n",
    "            else:\n",
    "                print(\"Nombre maximal de retries atteint.\")\n",
    "                return None\n",
    "\n",
    "    # Récupérer et analyser le contenu HTML de la page\n",
    "    def get_soup(self, url, timeout=10):\n",
    "        response = self.make_request(url, timeout)\n",
    "        if response:\n",
    "            return BeautifulSoup(response.text, 'html.parser')\n",
    "        return None\n",
    "    \n",
    "    # Méthode pour effectuer une recherche sur Google\n",
    "    def google_search(self, query, num_results=10):\n",
    "        base_url = \"https://www.google.com/search\"\n",
    "        results = []\n",
    "\n",
    "        params = {\n",
    "            'q': query,\n",
    "            'num': num_results\n",
    "        }\n",
    "        \n",
    "        search_url = f\"{base_url}?q={query}&num={num_results}\"\n",
    "        soup = self.get_soup(search_url, timeout=10)\n",
    "        if not soup:\n",
    "            print(\"Erreur lors du scraping de Google\")\n",
    "            return None\n",
    "\n",
    "        for result in soup.find_all('div', class_='tF2Cxc'):\n",
    "            title = result.find('h3').get_text() if result.find('h3') else \"Titre non trouvé\"\n",
    "            link = result.find('a')['href'] if result.find('a') else \"Lien non trouvé\"\n",
    "            link = urljoin(base_url, link)  \n",
    "            snippet = result.find('span', class_='aCOpRe').get_text() if result.find('span', class_='aCOpRe') else \"Description non trouvée\"\n",
    "            results.append({'title': title, 'link': link, 'snippet': snippet})\n",
    "            \n",
    "        return results\n",
    "\n",
    "\n",
    "client = HTTPClientGoogle()\n",
    "\n",
    "query = \"ESIEE\"\n",
    "results = client.google_search(query, num_results=5)\n",
    "\n",
    "if results:\n",
    "    for result in results:\n",
    "        print(result)\n",
    "else:\n",
    "    print(\"Aucun résultat trouvé.\")\n"
   ]
  },
  {
   "cell_type": "markdown",
   "metadata": {},
   "source": [
    "# Exercice Final  "
   ]
  },
  {
   "cell_type": "markdown",
   "metadata": {},
   "source": [
    "Exercice Final\n",
    "Utilisez tout ce que vous avez appris pour récupérer des articles de News avec une catégorie. Il est souvent intéressant de partir des flux RSS pour commencer :\n",
    "\n",
    "Les données doivent comprendre :\n",
    "- Le texte important propre\n",
    "- L'url\n",
    "- Le domaine\n",
    "- la catégorie\n",
    "- Le titre de l'article\n",
    "- Le titre de la page\n",
    "- (Facultatif) : les images\n",
    "\n",
    "Tips : \n",
    "\n",
    "- Taper le nom de votre média favoris + RSS (par exemple : https://www.lemonde.fr/rss/)\n",
    "- Aller dans le DOM de la page \n",
    "- Trouver les catégories et les liens vers les articles"
   ]
  },
  {
   "cell_type": "code",
   "execution_count": 139,
   "metadata": {},
   "outputs": [
    {
     "name": "stdout",
     "output_type": "stream",
     "text": [
      "{'title': 'Après Michelin, ArcelorMittal envisage la fermeture de deux sites en France', 'link': 'https://www.lemonde.fr/economie/article/2024/11/19/apres-michelin-arcelormittal-envisage-la-fermeture-de-deux-sites-en-france_6403694_3234.html', 'description': 'L’annonce pourrait provoquer la perte d’environ 130\\xa0emplois, une centaine à Reims et une trentaine à Denain, ont rapporté deux syndicats. Alors que le site de Denain se met en grève immédiatement, des actions sont prévues\\xa0sur tous les sites\\xa0ArcelorMittal lundi et mardi.', 'category': 'Catégorie non trouvée', 'domain': 'www.lemonde.fr'}\n",
      "{'title': 'Au fait, qu’est-ce qu’une espèce\\xa0? Comment l’étude de l’ADN bouleverse la classification du vivant', 'link': 'https://www.lemonde.fr/sciences/article/2024/11/19/au-fait-qu-est-ce-qu-une-espece_6403384_1650684.html', 'description': 'Tout le monde croit pouvoir répondre à cette question. Pourtant, les définitions varient selon les spécialités scientifiques. Les chercheurs naviguent entre les disciplines pour décrire la dynamique du vivant et protéger au mieux une biodiversité menacée.', 'category': 'Catégorie non trouvée', 'domain': 'www.lemonde.fr'}\n",
      "{'title': 'En direct, guerre au Proche-Orient\\xa0: la Finul affirme que les casques bleus ont été pris pour cibles lors de trois incidents distincts dans le sud du Liban', 'link': 'https://www.lemonde.fr/international/live/2024/11/19/en-direct-guerre-au-proche-orient-la-finul-affirme-que-les-casques-bleus-ont-ete-pris-pour-cibles-lors-de-trois-incidents-distincts-survenus-dans-le-sud-du-liban-et-rapporte-quatre-blesses_6394609_3210.html', 'description': '«\\xa0Quatre casques bleus ghanéens en service ont été blessés lorsqu’une roquette, vraisemblablement tirée par des acteurs non étatiques au Liban, a touché leur base à l’est du village de Ramyeh\\xa0», a rapporté la Force intérimaire des Nations unies au Liban (Finul) dans un communiqué publié sur Telegram.', 'category': 'Catégorie non trouvée', 'domain': 'www.lemonde.fr'}\n",
      "{'title': 'Après la rupture de deux câbles en mer Baltique, la crainte d’un sabotage et de la «\\xa0guerre hybride\\xa0»', 'link': 'https://www.lemonde.fr/pixels/article/2024/11/19/apres-la-rupture-de-deux-cables-en-mer-baltique-la-crainte-d-un-sabotage-et-de-la-guerre-hybride_6403423_4408996.html', 'description': 'Deux câbles de fibre optique sous-marins, reliant la Suède à la Lituanie et la Finlande à l’Allemagne, ont été coupés entre dimanche et lundi. Six pays européens, dont la France, accusent la Russie.', 'category': 'Catégorie non trouvée', 'domain': 'www.lemonde.fr'}\n",
      "{'title': 'En Haïti, 28\\xa0membres de gangs tués par la police et\\xa0des habitants après une offensive dans plusieurs quartiers de la capitale', 'link': 'https://www.lemonde.fr/international/article/2024/11/19/en-haiti-28-membres-de-gangs-tues-par-la-police-et-des-habitants-apres-une-offensive-dans-plusieurs-quartiers-de-la-capitale_6403457_3210.html', 'description': 'Depuis la semaine du 11\\xa0au 17\\xa0novembre, Port-au-Prince fait face à une nouvelle flambée de violences provoquées par\\xa0Viv Ansanm («\\xa0vivre ensemble\\xa0»), l’alliance de gangs formée en février qui est parvenue à renverser le\\xa0premier ministre haïtien, Ariel Henry.', 'category': 'Catégorie non trouvée', 'domain': 'www.lemonde.fr'}\n",
      "{'title': 'En direct, colère des agriculteurs\\xa0: l’exécutif se dit «\\xa0résolu à se battre\\xa0» contre l’accord avec le Mercosur, les actions chocs se multiplient', 'link': 'https://www.lemonde.fr/economie/live/2024/11/19/en-direct-colere-des-agriculteurs-l-executif-se-dit-resolu-a-se-battre-contre-l-accord-avec-le-mercosur-les-actions-chocs-se-multiplient_6399760_3234.html', 'description': 'Le gouvernement a annoncé qu’un débat suivi d’un vote aurait lieu le 26\\xa0novembre à l’Assemblée nationale. Emmanuel Macron et Michel Barnier ont réaffirmé que la France est opposée à cet accord, mais, au niveau européen, Paris n’a pas un droit de veto à lui seul.', 'category': 'Catégorie non trouvée', 'domain': 'www.lemonde.fr'}\n",
      "{'title': '«\\xa0Microsoft Flight Simulator\\xa02024\\xa0»\\xa0: pour son nouvel opus, le jeu de simulation de vol vise l’hyperréalisme', 'link': 'https://www.lemonde.fr/pixels/article/2024/11/19/microsoft-flight-simulator-2024-pour-son-nouvel-opus-le-jeu-de-simulation-de-vol-vise-l-hyperrealisme_6403389_4408996.html', 'description': 'Quatre ans après le succès de sa dernière version, la célèbre licence de simulation de vol revient, mardi, avec la promesse d’un niveau de détails encore jamais atteint.', 'category': 'Catégorie non trouvée', 'domain': 'www.lemonde.fr'}\n",
      "{'title': 'En Espagne, une réforme va faciliter la régularisation de dizaines de milliers de migrants supplémentaires par an', 'link': 'https://www.lemonde.fr/international/article/2024/11/19/en-espagne-une-reforme-va-faciliter-la-regularisation-de-dizaines-de-milliers-de-migrants-supplementaires-par-an_6403388_3210.html', 'description': 'Cette réforme réglementaire prévoit notamment une réduction des délais et des formalités pour l’obtention des titres de séjour et le «\\xa0renforcement\\xa0» des droits des travailleurs migrants dans un pays favorable à une politique d’accueil.', 'category': 'Catégorie non trouvée', 'domain': 'www.lemonde.fr'}\n",
      "{'title': 'Instagram va permettre de réinitialiser son algorithme de recommandation de contenus', 'link': 'https://www.lemonde.fr/pixels/article/2024/11/19/instagram-va-permettre-de-reinitialiser-son-algorithme-de-recommandation-de-contenus_6403387_4408996.html', 'description': 'Cette nouvelle fonctionnalité, qui «\\xa0sera déployée dans le monde entier au cours des prochaines semaines\\xa0», est pensée comme un moyen de redonner aux utilisateurs du réseau social le contrôle sur\\xa0la\\xa0nature des contenus qui leur sont proposés.', 'category': 'Catégorie non trouvée', 'domain': 'www.lemonde.fr'}\n",
      "{'title': '«\\xa0Est-ce que je fais partie du problème\\xa0?\\xa0»\\xa0: Comment le procès des viols de Mazan suscite introspection mais aussi division chez les hommes', 'link': 'https://www.lemonde.fr/m-perso/article/2024/11/19/honnetement-on-ne-sait-plus-ou-se-mettre-comment-le-proces-des-viols-de-mazan-suscite-introspection-et-division-chez-les-hommes_6401988_4497916.html', 'description': 'L’affaire provoque un retentissement dans l’intimité de certains hommes, qui expriment un sentiment de malaise et une prise de conscience de la dimension systémique des violences sexuelles. D’autres refusent de se sentir concernés par ce qu’ils considèrent comme un fait divers sordide.', 'category': 'Catégorie non trouvée', 'domain': 'www.lemonde.fr'}\n",
      "{'title': 'En Libye, les footballeurs béninois font à leur tour les frais du mauvais accueil réservé aux équipes africaines', 'link': 'https://www.lemonde.fr/afrique/article/2024/11/19/en-libye-les-footballeurs-beninois-font-a-leur-tour-les-frais-du-mauvais-accueil-reserve-aux-equipes-africaines_6403381_3212.html', 'description': 'Lors des éliminatoires de la Coupe d’Afrique des nations 2025, les Guépards ont été la cible de projectiles, puis de coups des policiers. Avant eux, le Nigeria, le Rwanda et le Cameroun avaient déjà été très mal reçus.', 'category': 'Catégorie non trouvée', 'domain': 'www.lemonde.fr'}\n",
      "{'title': 'En direct, guerre en\\xa0Ukraine\\xa0: Kiev a tiré pour la première fois des missiles américains ATACMS sur la Russie, selon un haut responsable ukrainien', 'link': 'https://www.lemonde.fr/international/live/2024/11/19/en-direct-guerre-en-ukraine-kiev-a-tire-pour-la-premiere-fois-des-missiles-americains-atacms-sur-la-russie-selon-un-haut-responsable-ukrainien_6398132_3210.html', 'description': 'L’armée ukrainienne a frappé la région frontalière russe de Briansk avec des missiles américains à longue portée ATACMS, a confirmé mardi un haut responsable ukrainien, après une annonce de Moscou en ce sens.', 'category': 'Catégorie non trouvée', 'domain': 'www.lemonde.fr'}\n",
      "{'title': 'Guerre au Soudan\\xa0: les suppliciés de la Gezira, cibles d’une campagne de vengeance massive', 'link': 'https://www.lemonde.fr/afrique/article/2024/11/19/guerre-au-soudan-les-supplicies-de-la-gezira-cibles-d-une-campagne-de-vengeance-massive_6403313_3212.html', 'description': '«\\xa0Au Soudan, une guerre totale (7/8)\\xa0». Cette région agricole est le théâtre de violentes représailles des forces paramilitaires depuis qu’un de leurs commandants et ses 400\\xa0hommes ont rejoint l’armée régulière, laissant la population sans défense.', 'category': 'Catégorie non trouvée', 'domain': 'www.lemonde.fr'}\n",
      "{'title': '«\\xa0Ouest-France\\xa0» annonce suspendre ses publications sur le réseau social X', 'link': 'https://www.lemonde.fr/pixels/article/2024/11/19/ouest-france-annonce-suspendre-ses-publications-sur-le-reseau-social-x_6403278_4408996.html', 'description': 'Le «\\xa0Guardian\\xa0» avait déjà annoncé mercredi 13\\xa0novembre qu’il arrêterait d’alimenter en contenu la plateforme d’Elon Musk, récemment nommé au sein de l’administration Trump.', 'category': 'Catégorie non trouvée', 'domain': 'www.lemonde.fr'}\n",
      "{'title': 'Bruno Le\\xa0Maire et Elisabeth Borne répondent aux conclusions de la mission parlementaire du Sénat sur l’explosion du déficit', 'link': 'https://www.lemonde.fr/politique/article/2024/11/19/bruno-le-maire-et-elisabeth-borne-repondent-aux-conclusions-de-la-mission-parlementaire-du-senat-sur-l-explosion-du-deficit_6403277_823448.html', 'description': 'L’ancien ministre de l’économie a fustigé un rapport au vitriol de sénateurs LR et PS sur la responsabilité des précédents gouvernements concernant les finances publiques, le qualifiant de «\\xa0réquisitoire d’opposants politiques\\xa0», «\\xa0truffé de mensonges\\xa0».', 'category': 'Catégorie non trouvée', 'domain': 'www.lemonde.fr'}\n",
      "{'title': 'En Iran, la justice annonce que l’étudiante qui s’était dévêtue pour protester contre la police des mœurs est retournée dans sa famille et ne sera pas poursuivie', 'link': 'https://www.lemonde.fr/international/article/2024/11/19/en-iran-la-justice-annonce-que-l-etudiante-qui-s-etait-devetue-pour-protester-contre-la-police-des-m-urs-est-retournee-dans-sa-famille-et-ne-sera-pas-poursuivie_6403272_3210.html', 'description': 'La vidéo de la jeune femme en sous-vêtements devant son université, à Téhéran, avait fait le tour du monde, faisant d’elle un symbole de la lutte des Iraniennes contre le port obligatoire du voile.', 'category': 'Catégorie non trouvée', 'domain': 'www.lemonde.fr'}\n",
      "{'title': 'En Guadeloupe, le député Max Mathiasin condamné à douze mois de prison avec sursis pour abus de confiance', 'link': 'https://www.lemonde.fr/societe/article/2024/11/19/en-guadeloupe-le-depute-max-mathiasin-condamne-a-douze-mois-de-prison-avec-sursis-pour-abus-de-confiance_6403105_3224.html', 'description': 'Les faits concernent l’utilisation d’une carte de carburant et la vente de deux véhicules par la Caisse des\\xa0écoles, quand il dirigeait la structure, avant d’être élu député en\\xa02017. A rebours des réquisitions, le\\xa0tribunal n’a pas retenu la peine d’inéligibilité.', 'category': 'Catégorie non trouvée', 'domain': 'www.lemonde.fr'}\n",
      "{'title': 'La sécurisation des Jeux olympiques et paralympiques de Paris a coûté au moins 1,4\\xa0milliard d’euros à la France', 'link': 'https://www.lemonde.fr/sport/article/2024/11/19/la-securisation-des-jeux-olympiques-et-paralympiques-de-paris-2024-a-coute-au-moins-1-4-milliards-a-la-france_6403096_3242.html', 'description': 'La mobilisation de l’armée de terre pour les Jeux a engendré entre 300 et 400\\xa0millions d’euros de dépenses, celle des policiers et des gendarmes est évaluée à 1,14\\xa0milliard d’euros.', 'category': 'Catégorie non trouvée', 'domain': 'www.lemonde.fr'}\n",
      "{'title': 'Dérapage du budget\\xa0: le Sénat tire à boulets rouges sur les macronistes', 'link': 'https://www.lemonde.fr/politique/article/2024/11/19/derapage-du-budget-le-senat-tire-a-boulets-rouges-sur-les-macronistes_6403088_823448.html', 'description': 'Bruno Le Maire, Elisabeth Borne, Gabriel Attal et Emmanuel Macron ont tous leur part de responsabilité dans la dérive du déficit, estime la commission des finances dans un rapport cinglant. Les anciens ministres ont prévu une conférence de presse commune pour réagir.', 'category': 'Catégorie non trouvée', 'domain': 'www.lemonde.fr'}\n",
      "{'title': 'Violences faites aux femmes\\xa0: plus de\\xa0trois victimes de\\xa0féminicides ou\\xa0de\\xa0tentatives par jour en\\xa02023', 'link': 'https://www.lemonde.fr/societe/article/2024/11/19/violences-faites-aux-femmes-plus-de-trois-victimes-de-feminicides-ou-de-tentatives-par-jour-en-2023_6402989_3224.html', 'description': 'En\\xa02023, 93\\xa0féminicides et 319\\xa0tentatives ont été recensés, avec 773\\xa0cas de harcèlement ayant conduit au suicide ou à sa tentative, selon le rapport de la mission interministérielle pour la protection des femmes (Miprof).', 'category': 'Catégorie non trouvée', 'domain': 'www.lemonde.fr'}\n",
      "{'title': 'Algérie\\xa0: le général Saïd Chengriha fait son entrée au gouvernement à l’issue d’un remaniement', 'link': 'https://www.lemonde.fr/afrique/article/2024/11/19/algerie-le-general-said-chengriha-fait-son-entree-au-gouvernement-a-l-issue-d-un-remaniement_6402953_3212.html', 'description': 'Le puissant chef d’état-major devient délégué à la défense nationale, tandis que les portefeuilles de\\xa0la\\xa0justice et de l’industrie reviennent respectivement à Lotfi Boudjemaa et Sifi Gharib.', 'category': 'Catégorie non trouvée', 'domain': 'www.lemonde.fr'}\n",
      "{'title': 'Norvège\\xa0: le fils de la princesse Mette-Marit soupçonné de viol et arrêté', 'link': 'https://www.lemonde.fr/international/article/2024/11/19/norvege-le-fils-de-la-princesse-mette-marit-soupconne-de-viol-et-arrete_6402920_3210.html', 'description': 'Marius Borg Hoiby, 27\\xa0ans, est suspecté d’avoir eu «\\xa0un rapport sexuel avec une personne qui était inconsciente ou incapable pour d’autres raisons de s’opposer à cet acte\\xa0», selon la police.', 'category': 'Catégorie non trouvée', 'domain': 'www.lemonde.fr'}\n",
      "{'title': 'Grève du 21\\xa0novembre à la SNCF\\xa0: le trafic sera quasi normal sur les TGV, quelques perturbations sur des lignes régionales', 'link': 'https://www.lemonde.fr/economie/article/2024/11/19/greve-a-la-sncf-le-trafic-sera-quasi-normal-sur-les-tgv-quelques-perturbations-sur-des-lignes-regionales_6402787_3234.html', 'description': 'Les syndicats de cheminots appellent à une grève de vingt-quatre\\xa0heures jeudi pour dénoncer le démantèlement de Fret SNCF et l’ouverture à la concurrence dans le transport de voyageurs, avant un mouvement reconductible à partir du 11\\xa0décembre.', 'category': 'Catégorie non trouvée', 'domain': 'www.lemonde.fr'}\n",
      "{'title': 'Un grand requin blanc observé en Méditerranée, au\\xa0large des côtes du Var', 'link': 'https://www.lemonde.fr/planete/article/2024/11/19/un-grand-requin-blanc-observe-en-mediterranee-au-large-des-cotes-du-var_6402720_3244.html', 'description': 'L’animal, très rare en Méditerranée, a été filmé par un plaisancier au large de Porquerolles et de Port-Cros. Les scientifiques y voient une «\\xa0superbe nouvelle\\xa0» pour cette espèce classée en danger critique d’extinction.', 'category': 'Catégorie non trouvée', 'domain': 'www.lemonde.fr'}\n",
      "{'title': 'Médiatique et politique, François Bustillo, le cardinal-évêque d’Ajaccio qui espère la venue du pape en Corse', 'link': 'https://www.lemonde.fr/societe/article/2024/11/19/francois-bustillo-eveque-d-ajaccio-et-cardinal-tres-politique_6401993_3224.html', 'description': 'La promesse d’une venue du pape François en Corse sonne comme la récompense de trois années d’activité intense pour le cardinal-évêque d’Ajaccio, qui a ravivé l’identité catholique de l’île et déployé une conception bien à lui des relations publiques, jusqu’à Paris.', 'category': 'Catégorie non trouvée', 'domain': 'www.lemonde.fr'}\n",
      "{'title': 'Un ressortissant russe soupçonné d’être un\\xa0opérateur du\\xa0rançongiciel Phobos inculpé aux Etats-Unis', 'link': 'https://www.lemonde.fr/pixels/article/2024/11/19/un-ressortissant-russe-soupconne-d-etre-un-operateur-du-rancongiciel-phobos-inculpe-aux-etats-unis_6402618_4408996.html', 'description': 'Evgenii Ptitsyn a été extradé de la Corée du Sud. Le logiciel Phobos aurait fait plus d’un millier de victimes dans le monde et généré plus de 16\\xa0millions de dollars de revenus.', 'category': 'Catégorie non trouvée', 'domain': 'www.lemonde.fr'}\n",
      "{'title': 'L’opposant Abdirahman Mohamed Abdullahi, dit «\\xa0Irro\\xa0», élu président du Somaliland', 'link': 'https://www.lemonde.fr/afrique/article/2024/11/19/l-opposant-abdirahman-mohamed-abdullahi-dit-irro-elu-president-du-somaliland_6402585_3212.html', 'description': 'Avec 63,92\\xa0% des suffrages, cet ancien diplomate âgé de 68\\xa0ans devance largement le président sortant, Muse Bihi Abdi, à la tête de cette région sécessionniste de la Somalie depuis 2017.', 'category': 'Catégorie non trouvée', 'domain': 'www.lemonde.fr'}\n",
      "{'title': 'Géorgie\\xa0: nouvelle manifestation, la présidente conteste le\\xa0résultat des législatives devant la\\xa0Cour constitutionnelle', 'link': 'https://www.lemonde.fr/international/article/2024/11/19/en-georgie-la-presidente-a-conteste-le-resultat-des-legislatives-devant-la-cour-constitutionnelle_6402583_3210.html', 'description': 'Salomé Zourabichvili a justifié son initiative par les «\\xa0violations généralisées du caractère universel du vote et du secret du scrutin\\xa0», selon son avocate. Des milliers de manifestants dénoncent la victoire controversée du parti au pouvoir aux législatives.', 'category': 'Catégorie non trouvée', 'domain': 'www.lemonde.fr'}\n",
      "{'title': 'Vol de 120\\xa0000 bitcoins : prison ferme mais peines légères pour le\\xa0couple responsable du\\xa0piratage de\\xa0Bitfinex', 'link': 'https://www.lemonde.fr/pixels/article/2024/11/19/vol-de-120-000-bitcoins-prison-ferme-mais-peines-legeres-pour-le-couple-responsable-du-piratage-de-bitfinex_6402582_4408996.html', 'description': 'Les 120\\xa0000\\xa0bitcoins dérobés par le couple en 2016, d’une valeur d’environ 71\\xa0millions de dollars à l’époque, en vaut aujourd’hui 10\\xa0milliards.', 'category': 'Catégorie non trouvée', 'domain': 'www.lemonde.fr'}\n",
      "{'title': 'Guerre au Soudan\\xa0: l’émissaire américain Tom Perriello a rencontré le\\xa0général Al-Bourhane à\\xa0Port-Soudan', 'link': 'https://www.lemonde.fr/afrique/article/2024/11/19/guerre-au-soudan-l-emissaire-americain-tom-perriello-a-rencontre-le-general-bourhane-a-port-soudan_6402581_3212.html', 'description': 'Cette visite s’est tenue alors que la Russie a mis son veto à un projet de résolution du Conseil de sécurité de l’ONU appelant à un cessez-le-feu et à la protection des civils.', 'category': 'Catégorie non trouvée', 'domain': 'www.lemonde.fr'}\n",
      "{'title': 'Le chanteur Slimane visé par une seconde plainte, cette fois pour agression sexuelle', 'link': 'https://www.lemonde.fr/societe/article/2024/11/19/le-chanteur-slimane-vise-par-une-seconde-plainte-cette-fois-pour-agression-sexuelle_6402580_3224.html', 'description': 'D’après l’avocate du plaignant, les faits se seraient déroulés en\\xa0décembre\\xa02023\\xa0après le concert de Slimane au zénith de Saint-Etienne.', 'category': 'Catégorie non trouvée', 'domain': 'www.lemonde.fr'}\n",
      "{'title': 'Le procès des viols de Mazan est «\\xa0le procès de la lâcheté\\xa0», dénonce Gisèle Pelicot, qui réclame que «\\xa0la société patriarcale change\\xa0»', 'link': 'https://www.lemonde.fr/societe/article/2024/11/19/le-proces-des-viols-de-mazan-est-le-proces-de-la-lachete-denonce-gisele-pelicot-qui-reclame-que-la-societe-patriarcale-change_6402505_3224.html', 'description': '«\\xa0Il est temps qu’on change le regard sur le viol\\xa0», a insisté mardi la septuagénaire, victime de viols répétés pendant une décennie par son mari, qui la droguait, et des dizaines d’inconnus qu’il recrutait sur internet.', 'category': 'Catégorie non trouvée', 'domain': 'www.lemonde.fr'}\n",
      "{'title': 'Paludisme\\xa0: un moustique venu d’Asie, plus urbain et\\xa0résistant aux insecticides, inquiète l’Afrique', 'link': 'https://www.lemonde.fr/afrique/article/2024/11/19/paludisme-un-moustique-venu-d-asie-plus-urbain-et-resistant-aux-insecticides-inquiete-l-afrique_6402502_3212.html', 'description': 'Selon une étude datant de 2020, l’espèce «\\xa0Anopheles stephensi\\xa0», déjà présente à Djibouti, en Ethiopie et au Kenya, pourrait toucher 126\\xa0millions de citadins à travers le continent.', 'category': 'Catégorie non trouvée', 'domain': 'www.lemonde.fr'}\n",
      "{'title': 'Entre François Hollande et Bernard Cazeneuve, une rivalité feutrée en vue de la présidentielle de 2027', 'link': 'https://www.lemonde.fr/politique/article/2024/11/19/presidentielle-2027-entre-francois-hollande-et-bernard-cazeneuve-une-possible-concurrence-en-perspective_6401874_823448.html', 'description': 'L’ancien président et son ancien premier ministre veulent, chacun, créer les conditions d’une possible candidature à la prochaine élection présidentielle. Ils accélèrent la cadence et se mettent éventuellement en compétition pour incarner la gauche réformiste.', 'category': 'Catégorie non trouvée', 'domain': 'www.lemonde.fr'}\n",
      "{'title': 'Nestlé va filialiser le segment des eaux et des boissons haut de gamme', 'link': 'https://www.lemonde.fr/economie/article/2024/11/19/nestle-va-filialiser-le-segment-des-eaux-et-des-boissons-haut-de-gamme_6402436_3234.html', 'description': 'Le géant suisse, secoué par des scandales et confronté à un ralentissement de ses ventes, a présenté, mardi 19\\xa0novembre, aux investisseurs son plan de relance.', 'category': 'Catégorie non trouvée', 'domain': 'www.lemonde.fr'}\n",
      "{'title': 'Australie\\xa0: mortalité record dans une partie de\\xa0la\\xa0Grande Barrière de\\xa0corail', 'link': 'https://www.lemonde.fr/planete/article/2024/11/19/australie-mortalite-record-dans-une-partie-de-la-grande-barriere-de-corail_6402236_3244.html', 'description': 'Réalisée sur douze récifs, une étude révèle une mortalité allant jusqu’à 72\\xa0% en raison d’un blanchissement massif cet été et de deux cyclones.', 'category': 'Catégorie non trouvée', 'domain': 'www.lemonde.fr'}\n",
      "{'title': 'A Wellington, en Nouvelle-Zélande, des milliers de manifestants pour les droits des Maoris', 'link': 'https://www.lemonde.fr/international/article/2024/11/19/a-wellington-en-nouvelle-zelande-des-milliers-de-manifestants-pour-les-droits-des-maoris_6402203_3210.html', 'description': 'La mobilisation a été déclenchée par un projet de révision du traité fondateur du pays, qui a organisé la paix entre les Maoris et les colons européens.', 'category': 'Catégorie non trouvée', 'domain': 'www.lemonde.fr'}\n",
      "{'title': 'Stellantis veut rassurer sur ses usines en France', 'link': 'https://www.lemonde.fr/economie/article/2024/11/19/stellantis-veut-rassurer-sur-ses-usines-en-france_6402137_3234.html', 'description': 'A Rennes, les salariés s’inquiètent du vieillissement des équipes et de n’avoir qu’un seul modèle à produire\\xa0: le SUV C5\\xa0Aircross de Citroën.', 'category': 'Catégorie non trouvée', 'domain': 'www.lemonde.fr'}\n",
      "{'title': 'Jordan Bardella exige un\\xa0casier judiciaire vierge pour être candidat du\\xa0RN, alors que Marine Le\\xa0Pen est sous la\\xa0menace d’une condamnation', 'link': 'https://www.lemonde.fr/politique/article/2024/11/19/jordan-bardella-exige-un-casier-judiciaire-vierge-pour-etre-candidat-du-rn-alors-que-marine-le-pen-est-sous-la-menace-d-une-condamnation_6402135_823448.html', 'description': 'Le président du Rassemblement national, invité sur BFM-TV lundi soir, a fixé comme règle de «\\xa0ne pas avoir de condamnation à son casier judiciaire\\xa0» pour porter les couleurs de son parti.', 'category': 'Catégorie non trouvée', 'domain': 'www.lemonde.fr'}\n",
      "{'title': 'Pourquoi la décision des Etats-Unis d’autoriser l’Ukraine à utiliser des missiles  ATACMS en Russie ne devrait pas changer le rapport de force', 'link': 'https://www.lemonde.fr/international/article/2024/11/19/guerre-en-ukraine-le-revirement-americain-sur-les-frappes-en-profondeur-juge-trop-tardif_6401950_3210.html', 'description': 'Attendue de longue date par Kiev, la décision de Washington d’autoriser l’Ukraine à utiliser des missiles balistiques américains pour viser le territoire russe ne devrait pas changer le rapport de force sur le terrain. Mais elle relance la question de l’utilisation des Scalp français et des Storm Shadow britanniques.', 'category': 'Catégorie non trouvée', 'domain': 'www.lemonde.fr'}\n",
      "{'title': 'Rafael Nadal\\xa0: une dernière Coupe Davis avant de\\xa0quitter la\\xa0piste', 'link': 'https://www.lemonde.fr/sport/article/2024/11/19/tennis-une-derniere-coupe-pour-rafael-nadal-avant-de-quitter-la-piste_6402029_3242.html', 'description': 'La légende aux 22\\xa0titres en Grand Chelem fait ses adieux au tennis à l’occasion de la phase finale de la Coupe Davis à Malaga, que l’Espagne ouvre mardi face aux Pays-Bas.', 'category': 'Catégorie non trouvée', 'domain': 'www.lemonde.fr'}\n",
      "{'title': 'Emmanuel Grégoire, ancien premier adjoint d’Anne Hidalgo, est candidat à\\xa0la\\xa0Mairie de\\xa0Paris', 'link': 'https://www.lemonde.fr/politique/article/2024/11/19/le-socialiste-emmanuel-gregoire-sera-candidat-a-la-mairie-de-paris_6402028_823448.html', 'description': 'Le député, âgé de 46\\xa0ans, est en froid avec l’actuelle édile de la capitale.', 'category': 'Catégorie non trouvée', 'domain': 'www.lemonde.fr'}\n",
      "{'title': 'A la COP29, à Bakou, les discussions piétinent et la pression monte pour sauver la conférence sur le climat', 'link': 'https://www.lemonde.fr/planete/article/2024/11/19/cop29-a-bakou-les-discussions-pietinent-et-la-pression-monte-pour-sauver-la-conference-sur-le-climat_6401946_3244.html', 'description': 'En Azerbaïdjan, les divergences restent grandes entre les pays du Sud, les pays occidentaux et la Chine. Les négociateurs comptaient sur les dirigeants du G20, réunis au Brésil, pour rapprocher les positions, mais aucune avancée majeure n’a été réalisée.', 'category': 'Catégorie non trouvée', 'domain': 'www.lemonde.fr'}\n",
      "{'title': 'A Hongkong, 45 militants prodémocratie condamnés à des peines allant jusqu’à 10\\xa0ans de prison ferme pour «\\xa0subversion\\xa0»', 'link': 'https://www.lemonde.fr/international/article/2024/11/19/a-hongkong-prison-ferme-pour-45-militants-prodemocratie-a-l-issue-du-plus-grand-proces-sur-la-securite-nationale_6401840_3210.html', 'description': 'Le leader du mouvement prodémocratique Occupy Central, Benny Tai, a reçu la peine la plus lourde\\xa0: dix ans de prison. Tous les militants ont été reconnus coupables d’avoir organisé en\\xa02020\\xa0une primaire officieuse destinée à sélectionner des candidats de l’opposition en vue des législatives.', 'category': 'Catégorie non trouvée', 'domain': 'www.lemonde.fr'}\n",
      "{'title': 'Au sommet du G20 à Rio, pas d’avancée majeure sur le climat', 'link': 'https://www.lemonde.fr/planete/article/2024/11/19/au-sommet-du-g20-a-rio-pas-d-avancee-majeure-sur-le-climat_6401773_3244.html', 'description': 'Les dirigeants reconnaissent, dans leur déclaration finale, «\\xa0le besoin d’augmenter la finance climatique\\xa0», mais sans préciser qui mettra la main à la poche. Ils n’ont pas non plus repris l’engagement à opérer une «\\xa0transition hors des énergies fossiles\\xa0» qui avait été arraché l’an dernier à la COP28 de Dubaï.', 'category': 'Catégorie non trouvée', 'domain': 'www.lemonde.fr'}\n",
      "{'title': 'Donald Trump nomme Sean Duffy, ancien élu du\\xa0Congrès et\\xa0présentateur de Fox Business, aux transports', 'link': 'https://www.lemonde.fr/international/article/2024/11/19/donald-trump-nomme-sean-duffy-ancien-elu-du-congres-et-presentateur-de-fox-business-aux-transports_6401771_3210.html', 'description': 'Cet ex-membre de la Chambre des représentants, père de neuf enfants, a fait carrière dans la télévision, tout comme Pete Hegseth, choisi par le président élu américain comme ministre de la défense.', 'category': 'Catégorie non trouvée', 'domain': 'www.lemonde.fr'}\n",
      "{'title': 'Michel Barnier va recevoir l’ensemble des présidents des groupes parlementaires pendant la semaine du 25\\xa0novembre', 'link': 'https://www.lemonde.fr/politique/article/2024/11/19/michel-barnier-va-recevoir-l-ensemble-des-presidents-de-groupes-parlementaires-la-semaine-prochaine_6401770_823448.html', 'description': 'Le premier ministre souhaite évoquer avec eux les textes budgétaires pour 2025, alors qu’il reste sous la menace d’une censure à l’Assemblée nationale.', 'category': 'Catégorie non trouvée', 'domain': 'www.lemonde.fr'}\n",
      "{'title': 'Kim Jong-un rencontre le ministre des ressources naturelles russe', 'link': 'https://www.lemonde.fr/international/article/2024/11/19/kim-jong-un-rencontre-le-ministre-des-ressources-naturelles-russe_6401769_3210.html', 'description': 'Le tête-à-tête du leader de la Corée du Nord et d’Alexandre Kozlov à Pyongyang, lundi, a eu lieu le jour même de l’arrivée d’une délégation d’une académie militaire russe dans la capitale nord-coréenne, selon l’agence de presse officielle KCNA.', 'category': 'Catégorie non trouvée', 'domain': 'www.lemonde.fr'}\n",
      "{'title': 'En France, un enfant sur cinq ne mange pas trois repas par jour, alerte l’Unicef', 'link': 'https://www.lemonde.fr/societe/article/2024/11/19/en-france-un-enfant-sur-cinq-ne-mange-pas-trois-repas-par-jour-alerte-l-unicef_6401768_3224.html', 'description': 'C’est le cas de 22,8\\xa0% des 6-18\\xa0ans interrogés, selon les résultats d’une consultation menée par l’agence onusienne. Celle-ci souligne aussi que plus d’un enfant sur quatre a subi des violences physiques de la part d’autres enfants.', 'category': 'Catégorie non trouvée', 'domain': 'www.lemonde.fr'}\n",
      "{'title': 'En architecture, l’Equerre d’argent 2024\\xa0célèbre la réhabilitation', 'link': 'https://www.lemonde.fr/culture/article/2024/11/19/en-architecture-l-equerre-d-argent-2024-celebre-la-rehabilitation_6401765_3246.html', 'description': 'Le jury a distingué la gare haute du téléphérique du Salève, à Monnetier-Mornex (Haute-Savoie), repensée par l’agence Devaux et Devaux.', 'category': 'Catégorie non trouvée', 'domain': 'www.lemonde.fr'}\n",
      "{'title': 'Le tabagisme peine à\\xa0reprendre sa\\xa0baisse en\\xa0France, malgré un\\xa0léger mieux', 'link': 'https://www.lemonde.fr/societe/article/2024/11/19/le-tabagisme-peine-a-reprendre-sa-baisse-en-france-malgre-un-petit-mieux_6401764_3224.html', 'description': 'Le tabagisme, qui est toujours l’une des principales causes de décès dans l’Hexagone, est resté globalement stable en\\xa02023.\\xa0Près d’une personne de 18-75\\xa0ans sur trois disait fumer, selon une étude publiée mardi par l’agence Santé publique France.', 'category': 'Catégorie non trouvée', 'domain': 'www.lemonde.fr'}\n",
      "{'title': 'Politique économique de Trump\\xa0: comment Elon Musk tente de peser sur les nominations aux postes-clés', 'link': 'https://www.lemonde.fr/international/article/2024/11/19/politique-economique-de-trump-comment-elon-musk-tente-de-peser-sur-les-nominations-aux-postes-cles_6401763_3210.html', 'description': 'Alors que la bataille fait rage, en coulisses, pour le poste de secrétaire au Trésor, les premiers responsables désignés par le président élu pour piloter sa future politique énergétique et commerciale sont tous partisans d’une ligne dure.', 'category': 'Catégorie non trouvée', 'domain': 'www.lemonde.fr'}\n",
      "{'title': 'La Conférence des évêques de France présente le bilan de ses Etats généraux du patrimoine religieux', 'link': 'https://www.lemonde.fr/societe/article/2024/11/18/la-conference-des-eveques-de-france-presente-le-bilan-de-ses-etats-generaux-du-patrimoine-religieux_6401730_3224.html', 'description': 'Lancée il y a quinze mois, cette grande enquête visait à dresser un état des lieux dans tous les diocèses métropolitains pour aider à la préservation du patrimoine. Sur la question du financement, la ministre de la culture, Rachida Dati, a redit sa volonté de faire payer l’entrée de Notre-Dame.', 'category': 'Catégorie non trouvée', 'domain': 'www.lemonde.fr'}\n",
      "{'title': 'Au procès des assistants parlementaires du FN, la défense dénonce un procès politique', 'link': 'https://www.lemonde.fr/societe/article/2024/11/18/au-proces-des-assistants-parlementaires-du-fn-la-defense-denonce-un-proces-politique_6401697_3224.html', 'description': 'Les conseils du parti, des députés européens et des assistants parlementaires mis en cause se sont succédé lundi à l’audience pour demander la relaxe de leurs clients.', 'category': 'Catégorie non trouvée', 'domain': 'www.lemonde.fr'}\n",
      "{'title': 'Au sommet du G20, Javier Milei rejette, en partie, la déclaration finale dès le premier jour', 'link': 'https://www.lemonde.fr/international/article/2024/11/18/au-sommet-du-g20-javier-milei-rejette-en-partie-la-declaration-finale-des-le-premier-jour_6401663_3210.html', 'description': 'La présidence argentine a annoncé avoir signé «\\xa0la déclaration des présidents en se dissociant en partie\\xa0» de son contenu, notamment quant à la limitation de la liberté d’expression et à l’interventionnisme de l’Etat dans la lutte «\\xa0contre la faim\\xa0».', 'category': 'Catégorie non trouvée', 'domain': 'www.lemonde.fr'}\n",
      "{'title': 'Au G20\\xa0de Rio, Lula s’affiche en meneur de la lutte mondiale contre la faim et la pauvreté', 'link': 'https://www.lemonde.fr/planete/article/2024/11/18/au-g20-de-rio-lula-s-affiche-en-meneur-de-la-lutte-mondiale-contre-la-faim-et-la-pauvrete_6401630_3244.html', 'description': 'Quatre-vingt-deux\\xa0Etats ont rejoint l’Alliance globale contre la faim et la pauvreté à l’initiative du Brésil, alors que les efforts pour éradiquer l’insécurité alimentaire se sont enlisés depuis des années.', 'category': 'Catégorie non trouvée', 'domain': 'www.lemonde.fr'}\n",
      "{'title': 'Au procès de la rue d’Aubagne, les témoignages poignants des proches de victimes', 'link': 'https://www.lemonde.fr/societe/article/2024/11/18/au-proces-de-la-rue-d-aubagne-les-temoignages-poignants-des-proches-de-victimes_6401597_3224.html', 'description': 'Le tribunal de Marseille avait réservé six jours pour évoquer les parcours de vie des huit victimes et entendre un grand nombre des quelque 90 parties civiles.', 'category': 'Catégorie non trouvée', 'domain': 'www.lemonde.fr'}\n",
      "{'title': 'La France a perdu en attractivité pour les investisseurs internationaux', 'link': 'https://www.lemonde.fr/economie/article/2024/11/18/la-france-a-perdu-en-attractivite-pour-les-investisseurs-internationaux_6401564_3234.html', 'description': 'Destination européenne favorite des capitaux étrangers depuis 2019, l’Hexagone a perdu un peu de son attrait dans la foulée de la dissolution du 9\\xa0juin, selon le baromètre\\xa0EY.', 'category': 'Catégorie non trouvée', 'domain': 'www.lemonde.fr'}\n",
      "{'title': 'Crèches People &\\xa0Baby\\xa0: après une plainte d’Anticor, une enquête ouverte par le parquet de Paris', 'link': 'https://www.lemonde.fr/societe/article/2024/11/18/creches-people-baby-apres-une-plainte-d-anticor-une-enquete-ouverte-par-le-parquet-de-paris_6401563_3224.html', 'description': 'La plainte de l’association Anticor dénonçait notamment des faits d’escroqueries et de détournement de fonds. Une enquête a été confiée à la direction de la police judiciaire à la mi-novembre, selon le parquet.', 'category': 'Catégorie non trouvée', 'domain': 'www.lemonde.fr'}\n",
      "{'title': 'Lycée Ravel\\xa0: l’auteur des menaces de\\xa0mort visant l’ancien proviseur condamné à\\xa0une amende', 'link': 'https://www.lemonde.fr/societe/article/2024/11/18/lycee-ravel-l-auteur-des-menaces-de-mort-visant-l-ancien-proviseur-condamne-a-une-amende_6401497_3224.html', 'description': 'Le proviseur du lycée parisien Maurice-Ravel avait été menacé de mort à la suite d’une altercation avec une élève refusant de retirer son voile islamique dans l’enceinte de l’établissement, en février.', 'category': 'Catégorie non trouvée', 'domain': 'www.lemonde.fr'}\n"
     ]
    }
   ],
   "source": [
    "import requests\n",
    "import feedparser\n",
    "\n",
    "class RSSClient:\n",
    "    def __init__(self, max_retries=3):\n",
    "        self.user_agent = (\n",
    "            \"Mozilla/5.0 (Macintosh; Intel Mac OS X 10_10_1) \"\n",
    "            \"AppleWebKit/537.36 (KHTML, like Gecko) Chrome/39.0.2171.95 Safari/537.36\"\n",
    "        )\n",
    "        self.max_retries = max_retries\n",
    "\n",
    "    def make_request(self, url, timeout=5, retry_count=0):\n",
    "        headers = {\"User-Agent\": self.user_agent}\n",
    "        try:\n",
    "            response = requests.get(url, headers=headers, timeout=timeout)\n",
    "            response.raise_for_status()\n",
    "            return response\n",
    "        except requests.RequestException as e:\n",
    "            print(f\"Erreur lors de la requête : {e}\")\n",
    "            if retry_count < self.max_retries:\n",
    "                print(f\"Retry {retry_count + 1}/{self.max_retries}\")\n",
    "                return self.make_request(url, timeout, retry_count + 1)\n",
    "            else:\n",
    "                print(\"Nombre maximal de retries atteint.\")\n",
    "                return None\n",
    "\n",
    "    def get_rss_data(self, url, timeout=10):\n",
    "        \"\"\"Récupère et analyse le flux RSS avec feedparser.\"\"\"\n",
    "        response = self.make_request(url, timeout)\n",
    "        if response:\n",
    "            # Utiliser feedparser pour analyser le contenu RSS\n",
    "            feed = feedparser.parse(response.content)\n",
    "\n",
    "            # Vérifier si le flux est valide\n",
    "            if feed.bozo == 1:\n",
    "                print(\"Erreur lors du parsing du flux RSS.\")\n",
    "                return None\n",
    "\n",
    "            return self.parse_rss(feed)\n",
    "        else:\n",
    "            return None\n",
    "\n",
    "    def parse_rss(self, feed):\n",
    "        \"\"\"Extrait les données du flux RSS analysé.\"\"\"\n",
    "        items = []\n",
    "        for entry in feed.entries:\n",
    "            title = entry.get(\"title\", \"Titre non trouvé\")\n",
    "            link = entry.get(\"link\", \"Lien non trouvé\")\n",
    "            description = entry.get(\"description\", \"Description non trouvée\")\n",
    "            category = entry.get(\"category\", \"Catégorie non trouvée\")\n",
    "            domain = link.split(\"/\")[2] if link else \"Domaine non trouvé\"\n",
    "\n",
    "            item_data = {\n",
    "                \"title\": title,\n",
    "                \"link\": link,\n",
    "                \"description\": description,\n",
    "                \"category\": category,\n",
    "                \"domain\": domain,\n",
    "            }\n",
    "            items.append(item_data)\n",
    "\n",
    "        return items\n",
    "\n",
    "\n",
    "# URL correcte pour un flux RSS du Monde\n",
    "url = \"https://www.lemonde.fr/rss/en_continu.xml\"\n",
    "rss_client = RSSClient()\n",
    "articles = rss_client.get_rss_data(url)\n",
    "\n",
    "if articles:\n",
    "    for article in articles:\n",
    "        print(article)\n",
    "else:\n",
    "    print(\"Aucun article trouvé.\")\n"
   ]
  },
  {
   "cell_type": "code",
   "execution_count": 142,
   "metadata": {},
   "outputs": [
    {
     "name": "stdout",
     "output_type": "stream",
     "text": [
      "Aucun article trouvé.\n"
     ]
    }
   ],
   "source": [
    "import requests\n",
    "from bs4 import BeautifulSoup\n",
    "\n",
    "class HTMLClient:\n",
    "    def __init__(self, max_retries=3):\n",
    "        self.user_agent = (\n",
    "            \"Mozilla/5.0 (Macintosh; Intel Mac OS X 10_10_1) \"\n",
    "            \"AppleWebKit/537.36 (KHTML, like Gecko) Chrome/39.0.2171.95 Safari/537.36\"\n",
    "        )\n",
    "        self.max_retries = max_retries\n",
    "\n",
    "    def make_request(self, url, timeout=5, retry_count=0):\n",
    "        headers = {\"User-Agent\": self.user_agent}\n",
    "        try:\n",
    "            response = requests.get(url, headers=headers, timeout=timeout)\n",
    "            response.raise_for_status()\n",
    "            return response\n",
    "        except requests.RequestException as e:\n",
    "            print(f\"Erreur lors de la requête : {e}\")\n",
    "            if retry_count < self.max_retries:\n",
    "                print(f\"Retry {retry_count + 1}/{self.max_retries}\")\n",
    "                return self.make_request(url, timeout, retry_count + 1)\n",
    "            else:\n",
    "                print(\"Nombre maximal de retries atteint.\")\n",
    "                return None\n",
    "\n",
    "    def get_html_data(self, url, timeout=10):\n",
    "        \"\"\"Récupère et analyse le contenu HTML.\"\"\"\n",
    "        response = self.make_request(url, timeout)\n",
    "        if response:\n",
    "            # Utiliser BeautifulSoup pour analyser le HTML\n",
    "            soup = BeautifulSoup(response.content, \"html.parser\")\n",
    "            return self.parse_html(soup)\n",
    "        else:\n",
    "            return None\n",
    "\n",
    "    def parse_html(self, soup):\n",
    "        \"\"\"Extrait les données du contenu HTML.\"\"\"\n",
    "        data = []\n",
    "\n",
    "        for article in soup.find_all(\"article\"):  \n",
    "            title = article.find(\"h2\").text if article.find(\"h2\") else \"Titre non trouvé\"\n",
    "            link = article.find(\"a\")[\"href\"] if article.find(\"a\") else \"Lien non trouvé\"\n",
    "            description = (\n",
    "                article.find(\"p\").text if article.find(\"p\") else \"Description non trouvée\"\n",
    "            )\n",
    "\n",
    "            item_data = {\n",
    "                \"title\": title,\n",
    "                \"link\": link,\n",
    "                \"description\": description,\n",
    "            }\n",
    "            data.append(item_data)\n",
    "\n",
    "        return data\n",
    "\n",
    "\n",
    "url = \"https://www.lemonde.fr/\"  \n",
    "html_client = HTMLClient()\n",
    "articles = html_client.get_html_data(url)\n",
    "\n",
    "if articles:\n",
    "    for article in articles:\n",
    "        print(article)\n",
    "else:\n",
    "    print(\"Aucun article trouvé.\")\n"
   ]
  }
 ],
 "metadata": {
  "kernelspec": {
   "display_name": "Python 3",
   "language": "python",
   "name": "python3"
  },
  "language_info": {
   "codemirror_mode": {
    "name": "ipython",
    "version": 3
   },
   "file_extension": ".py",
   "mimetype": "text/x-python",
   "name": "python",
   "nbconvert_exporter": "python",
   "pygments_lexer": "ipython3",
   "version": "3.12.2"
  }
 },
 "nbformat": 4,
 "nbformat_minor": 2
}
